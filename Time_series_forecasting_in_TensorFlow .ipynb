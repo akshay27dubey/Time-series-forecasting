{
  "cells": [
    {
      "cell_type": "code",
      "execution_count": 1,
      "metadata": {
        "colab": {
          "base_uri": "https://localhost:8080/"
        },
        "id": "kscDJ3o2USau",
        "outputId": "cd4be6a2-b2f6-4a2e-cd99-c10ec566e7dc"
      },
      "outputs": [
        {
          "output_type": "stream",
          "name": "stdout",
          "text": [
            "GPU 0: Tesla T4 (UUID: GPU-f64aca41-857e-6fd0-aeab-93522ca9516d)\n"
          ]
        }
      ],
      "source": [
        "!nvidia-smi -L"
      ]
    },
    {
      "cell_type": "code",
      "execution_count": 2,
      "metadata": {
        "colab": {
          "base_uri": "https://localhost:8080/"
        },
        "id": "jr_f229sUdXA",
        "outputId": "f6636052-6c69-4f35-ee31-e5474a6a0823"
      },
      "outputs": [
        {
          "output_type": "stream",
          "name": "stdout",
          "text": [
            "--2023-05-20 15:10:31--  https://raw.githubusercontent.com/mrdbourke/tensorflow-deep-learning/main/extras/BTC_USD_2013-10-01_2021-05-18-CoinDesk.csv\n",
            "Resolving raw.githubusercontent.com (raw.githubusercontent.com)... 185.199.108.133, 185.199.109.133, 185.199.110.133, ...\n",
            "Connecting to raw.githubusercontent.com (raw.githubusercontent.com)|185.199.108.133|:443... connected.\n",
            "HTTP request sent, awaiting response... 200 OK\n",
            "Length: 178509 (174K) [text/plain]\n",
            "Saving to: ‘BTC_USD_2013-10-01_2021-05-18-CoinDesk.csv’\n",
            "\n",
            "BTC_USD_2013-10-01_ 100%[===================>] 174.33K  --.-KB/s    in 0.006s  \n",
            "\n",
            "2023-05-20 15:10:32 (28.6 MB/s) - ‘BTC_USD_2013-10-01_2021-05-18-CoinDesk.csv’ saved [178509/178509]\n",
            "\n"
          ]
        }
      ],
      "source": [
        "!wget https://raw.githubusercontent.com/mrdbourke/tensorflow-deep-learning/main/extras/BTC_USD_2013-10-01_2021-05-18-CoinDesk.csv"
      ]
    },
    {
      "cell_type": "markdown",
      "metadata": {
        "id": "8sD0MhBVVARV"
      },
      "source": [
        "#**Importing time series data with pandas**"
      ]
    },
    {
      "cell_type": "code",
      "execution_count": 3,
      "metadata": {
        "colab": {
          "base_uri": "https://localhost:8080/",
          "height": 238
        },
        "id": "aEc3CaeSVLGL",
        "outputId": "e6d5dd47-77bf-480e-820d-3eb7824ed453"
      },
      "outputs": [
        {
          "output_type": "execute_result",
          "data": {
            "text/plain": [
              "           Currency  Closing Price (USD)  24h Open (USD)  24h High (USD)  \\\n",
              "Date                                                                       \n",
              "2013-10-01      BTC            123.65499       124.30466       124.75166   \n",
              "2013-10-02      BTC            125.45500       123.65499       125.75850   \n",
              "2013-10-03      BTC            108.58483       125.45500       125.66566   \n",
              "2013-10-04      BTC            118.67466       108.58483       118.67500   \n",
              "2013-10-05      BTC            121.33866       118.67466       121.93633   \n",
              "\n",
              "            24h Low (USD)  \n",
              "Date                       \n",
              "2013-10-01      122.56349  \n",
              "2013-10-02      123.63383  \n",
              "2013-10-03       83.32833  \n",
              "2013-10-04      107.05816  \n",
              "2013-10-05      118.00566  "
            ],
            "text/html": [
              "\n",
              "  <div id=\"df-309423ac-3eff-4cc0-8253-96af9b1d7745\">\n",
              "    <div class=\"colab-df-container\">\n",
              "      <div>\n",
              "<style scoped>\n",
              "    .dataframe tbody tr th:only-of-type {\n",
              "        vertical-align: middle;\n",
              "    }\n",
              "\n",
              "    .dataframe tbody tr th {\n",
              "        vertical-align: top;\n",
              "    }\n",
              "\n",
              "    .dataframe thead th {\n",
              "        text-align: right;\n",
              "    }\n",
              "</style>\n",
              "<table border=\"1\" class=\"dataframe\">\n",
              "  <thead>\n",
              "    <tr style=\"text-align: right;\">\n",
              "      <th></th>\n",
              "      <th>Currency</th>\n",
              "      <th>Closing Price (USD)</th>\n",
              "      <th>24h Open (USD)</th>\n",
              "      <th>24h High (USD)</th>\n",
              "      <th>24h Low (USD)</th>\n",
              "    </tr>\n",
              "    <tr>\n",
              "      <th>Date</th>\n",
              "      <th></th>\n",
              "      <th></th>\n",
              "      <th></th>\n",
              "      <th></th>\n",
              "      <th></th>\n",
              "    </tr>\n",
              "  </thead>\n",
              "  <tbody>\n",
              "    <tr>\n",
              "      <th>2013-10-01</th>\n",
              "      <td>BTC</td>\n",
              "      <td>123.65499</td>\n",
              "      <td>124.30466</td>\n",
              "      <td>124.75166</td>\n",
              "      <td>122.56349</td>\n",
              "    </tr>\n",
              "    <tr>\n",
              "      <th>2013-10-02</th>\n",
              "      <td>BTC</td>\n",
              "      <td>125.45500</td>\n",
              "      <td>123.65499</td>\n",
              "      <td>125.75850</td>\n",
              "      <td>123.63383</td>\n",
              "    </tr>\n",
              "    <tr>\n",
              "      <th>2013-10-03</th>\n",
              "      <td>BTC</td>\n",
              "      <td>108.58483</td>\n",
              "      <td>125.45500</td>\n",
              "      <td>125.66566</td>\n",
              "      <td>83.32833</td>\n",
              "    </tr>\n",
              "    <tr>\n",
              "      <th>2013-10-04</th>\n",
              "      <td>BTC</td>\n",
              "      <td>118.67466</td>\n",
              "      <td>108.58483</td>\n",
              "      <td>118.67500</td>\n",
              "      <td>107.05816</td>\n",
              "    </tr>\n",
              "    <tr>\n",
              "      <th>2013-10-05</th>\n",
              "      <td>BTC</td>\n",
              "      <td>121.33866</td>\n",
              "      <td>118.67466</td>\n",
              "      <td>121.93633</td>\n",
              "      <td>118.00566</td>\n",
              "    </tr>\n",
              "  </tbody>\n",
              "</table>\n",
              "</div>\n",
              "      <button class=\"colab-df-convert\" onclick=\"convertToInteractive('df-309423ac-3eff-4cc0-8253-96af9b1d7745')\"\n",
              "              title=\"Convert this dataframe to an interactive table.\"\n",
              "              style=\"display:none;\">\n",
              "        \n",
              "  <svg xmlns=\"http://www.w3.org/2000/svg\" height=\"24px\"viewBox=\"0 0 24 24\"\n",
              "       width=\"24px\">\n",
              "    <path d=\"M0 0h24v24H0V0z\" fill=\"none\"/>\n",
              "    <path d=\"M18.56 5.44l.94 2.06.94-2.06 2.06-.94-2.06-.94-.94-2.06-.94 2.06-2.06.94zm-11 1L8.5 8.5l.94-2.06 2.06-.94-2.06-.94L8.5 2.5l-.94 2.06-2.06.94zm10 10l.94 2.06.94-2.06 2.06-.94-2.06-.94-.94-2.06-.94 2.06-2.06.94z\"/><path d=\"M17.41 7.96l-1.37-1.37c-.4-.4-.92-.59-1.43-.59-.52 0-1.04.2-1.43.59L10.3 9.45l-7.72 7.72c-.78.78-.78 2.05 0 2.83L4 21.41c.39.39.9.59 1.41.59.51 0 1.02-.2 1.41-.59l7.78-7.78 2.81-2.81c.8-.78.8-2.07 0-2.86zM5.41 20L4 18.59l7.72-7.72 1.47 1.35L5.41 20z\"/>\n",
              "  </svg>\n",
              "      </button>\n",
              "      \n",
              "  <style>\n",
              "    .colab-df-container {\n",
              "      display:flex;\n",
              "      flex-wrap:wrap;\n",
              "      gap: 12px;\n",
              "    }\n",
              "\n",
              "    .colab-df-convert {\n",
              "      background-color: #E8F0FE;\n",
              "      border: none;\n",
              "      border-radius: 50%;\n",
              "      cursor: pointer;\n",
              "      display: none;\n",
              "      fill: #1967D2;\n",
              "      height: 32px;\n",
              "      padding: 0 0 0 0;\n",
              "      width: 32px;\n",
              "    }\n",
              "\n",
              "    .colab-df-convert:hover {\n",
              "      background-color: #E2EBFA;\n",
              "      box-shadow: 0px 1px 2px rgba(60, 64, 67, 0.3), 0px 1px 3px 1px rgba(60, 64, 67, 0.15);\n",
              "      fill: #174EA6;\n",
              "    }\n",
              "\n",
              "    [theme=dark] .colab-df-convert {\n",
              "      background-color: #3B4455;\n",
              "      fill: #D2E3FC;\n",
              "    }\n",
              "\n",
              "    [theme=dark] .colab-df-convert:hover {\n",
              "      background-color: #434B5C;\n",
              "      box-shadow: 0px 1px 3px 1px rgba(0, 0, 0, 0.15);\n",
              "      filter: drop-shadow(0px 1px 2px rgba(0, 0, 0, 0.3));\n",
              "      fill: #FFFFFF;\n",
              "    }\n",
              "  </style>\n",
              "\n",
              "      <script>\n",
              "        const buttonEl =\n",
              "          document.querySelector('#df-309423ac-3eff-4cc0-8253-96af9b1d7745 button.colab-df-convert');\n",
              "        buttonEl.style.display =\n",
              "          google.colab.kernel.accessAllowed ? 'block' : 'none';\n",
              "\n",
              "        async function convertToInteractive(key) {\n",
              "          const element = document.querySelector('#df-309423ac-3eff-4cc0-8253-96af9b1d7745');\n",
              "          const dataTable =\n",
              "            await google.colab.kernel.invokeFunction('convertToInteractive',\n",
              "                                                     [key], {});\n",
              "          if (!dataTable) return;\n",
              "\n",
              "          const docLinkHtml = 'Like what you see? Visit the ' +\n",
              "            '<a target=\"_blank\" href=https://colab.research.google.com/notebooks/data_table.ipynb>data table notebook</a>'\n",
              "            + ' to learn more about interactive tables.';\n",
              "          element.innerHTML = '';\n",
              "          dataTable['output_type'] = 'display_data';\n",
              "          await google.colab.output.renderOutput(dataTable, element);\n",
              "          const docLink = document.createElement('div');\n",
              "          docLink.innerHTML = docLinkHtml;\n",
              "          element.appendChild(docLink);\n",
              "        }\n",
              "      </script>\n",
              "    </div>\n",
              "  </div>\n",
              "  "
            ]
          },
          "metadata": {},
          "execution_count": 3
        }
      ],
      "source": [
        "import pandas as pd\n",
        "df=pd.read_csv(\"/content/BTC_USD_2013-10-01_2021-05-18-CoinDesk.csv\",\n",
        "               parse_dates=[\"Date\"],\n",
        "               index_col=[\"Date\"])\n",
        "df.head()"
      ]
    },
    {
      "cell_type": "code",
      "execution_count": 4,
      "metadata": {
        "colab": {
          "base_uri": "https://localhost:8080/"
        },
        "id": "AjQY9bArV8Bp",
        "outputId": "c8025e41-1392-49fd-e58c-c287ea4c4f2c"
      },
      "outputs": [
        {
          "output_type": "stream",
          "name": "stdout",
          "text": [
            "<class 'pandas.core.frame.DataFrame'>\n",
            "DatetimeIndex: 2787 entries, 2013-10-01 to 2021-05-18\n",
            "Data columns (total 5 columns):\n",
            " #   Column               Non-Null Count  Dtype  \n",
            "---  ------               --------------  -----  \n",
            " 0   Currency             2787 non-null   object \n",
            " 1   Closing Price (USD)  2787 non-null   float64\n",
            " 2   24h Open (USD)       2787 non-null   float64\n",
            " 3   24h High (USD)       2787 non-null   float64\n",
            " 4   24h Low (USD)        2787 non-null   float64\n",
            "dtypes: float64(4), object(1)\n",
            "memory usage: 130.6+ KB\n"
          ]
        }
      ],
      "source": [
        "df.info()"
      ]
    },
    {
      "cell_type": "code",
      "execution_count": 5,
      "metadata": {
        "colab": {
          "base_uri": "https://localhost:8080/"
        },
        "id": "-6GOoqL5WNqB",
        "outputId": "17484b7a-ab83-460b-a600-38fe7c67b798"
      },
      "outputs": [
        {
          "output_type": "execute_result",
          "data": {
            "text/plain": [
              "2787"
            ]
          },
          "metadata": {},
          "execution_count": 5
        }
      ],
      "source": [
        "len(df)"
      ]
    },
    {
      "cell_type": "code",
      "execution_count": 6,
      "metadata": {
        "colab": {
          "base_uri": "https://localhost:8080/",
          "height": 238
        },
        "id": "PidgEKtHWTw2",
        "outputId": "639c27f0-81fe-4f13-b0e9-ed7f0a317e4e"
      },
      "outputs": [
        {
          "output_type": "execute_result",
          "data": {
            "text/plain": [
              "                price\n",
              "Date                 \n",
              "2013-10-01  123.65499\n",
              "2013-10-02  125.45500\n",
              "2013-10-03  108.58483\n",
              "2013-10-04  118.67466\n",
              "2013-10-05  121.33866"
            ],
            "text/html": [
              "\n",
              "  <div id=\"df-d2d4017f-a86a-4bbe-ac20-8dfeb3540c14\">\n",
              "    <div class=\"colab-df-container\">\n",
              "      <div>\n",
              "<style scoped>\n",
              "    .dataframe tbody tr th:only-of-type {\n",
              "        vertical-align: middle;\n",
              "    }\n",
              "\n",
              "    .dataframe tbody tr th {\n",
              "        vertical-align: top;\n",
              "    }\n",
              "\n",
              "    .dataframe thead th {\n",
              "        text-align: right;\n",
              "    }\n",
              "</style>\n",
              "<table border=\"1\" class=\"dataframe\">\n",
              "  <thead>\n",
              "    <tr style=\"text-align: right;\">\n",
              "      <th></th>\n",
              "      <th>price</th>\n",
              "    </tr>\n",
              "    <tr>\n",
              "      <th>Date</th>\n",
              "      <th></th>\n",
              "    </tr>\n",
              "  </thead>\n",
              "  <tbody>\n",
              "    <tr>\n",
              "      <th>2013-10-01</th>\n",
              "      <td>123.65499</td>\n",
              "    </tr>\n",
              "    <tr>\n",
              "      <th>2013-10-02</th>\n",
              "      <td>125.45500</td>\n",
              "    </tr>\n",
              "    <tr>\n",
              "      <th>2013-10-03</th>\n",
              "      <td>108.58483</td>\n",
              "    </tr>\n",
              "    <tr>\n",
              "      <th>2013-10-04</th>\n",
              "      <td>118.67466</td>\n",
              "    </tr>\n",
              "    <tr>\n",
              "      <th>2013-10-05</th>\n",
              "      <td>121.33866</td>\n",
              "    </tr>\n",
              "  </tbody>\n",
              "</table>\n",
              "</div>\n",
              "      <button class=\"colab-df-convert\" onclick=\"convertToInteractive('df-d2d4017f-a86a-4bbe-ac20-8dfeb3540c14')\"\n",
              "              title=\"Convert this dataframe to an interactive table.\"\n",
              "              style=\"display:none;\">\n",
              "        \n",
              "  <svg xmlns=\"http://www.w3.org/2000/svg\" height=\"24px\"viewBox=\"0 0 24 24\"\n",
              "       width=\"24px\">\n",
              "    <path d=\"M0 0h24v24H0V0z\" fill=\"none\"/>\n",
              "    <path d=\"M18.56 5.44l.94 2.06.94-2.06 2.06-.94-2.06-.94-.94-2.06-.94 2.06-2.06.94zm-11 1L8.5 8.5l.94-2.06 2.06-.94-2.06-.94L8.5 2.5l-.94 2.06-2.06.94zm10 10l.94 2.06.94-2.06 2.06-.94-2.06-.94-.94-2.06-.94 2.06-2.06.94z\"/><path d=\"M17.41 7.96l-1.37-1.37c-.4-.4-.92-.59-1.43-.59-.52 0-1.04.2-1.43.59L10.3 9.45l-7.72 7.72c-.78.78-.78 2.05 0 2.83L4 21.41c.39.39.9.59 1.41.59.51 0 1.02-.2 1.41-.59l7.78-7.78 2.81-2.81c.8-.78.8-2.07 0-2.86zM5.41 20L4 18.59l7.72-7.72 1.47 1.35L5.41 20z\"/>\n",
              "  </svg>\n",
              "      </button>\n",
              "      \n",
              "  <style>\n",
              "    .colab-df-container {\n",
              "      display:flex;\n",
              "      flex-wrap:wrap;\n",
              "      gap: 12px;\n",
              "    }\n",
              "\n",
              "    .colab-df-convert {\n",
              "      background-color: #E8F0FE;\n",
              "      border: none;\n",
              "      border-radius: 50%;\n",
              "      cursor: pointer;\n",
              "      display: none;\n",
              "      fill: #1967D2;\n",
              "      height: 32px;\n",
              "      padding: 0 0 0 0;\n",
              "      width: 32px;\n",
              "    }\n",
              "\n",
              "    .colab-df-convert:hover {\n",
              "      background-color: #E2EBFA;\n",
              "      box-shadow: 0px 1px 2px rgba(60, 64, 67, 0.3), 0px 1px 3px 1px rgba(60, 64, 67, 0.15);\n",
              "      fill: #174EA6;\n",
              "    }\n",
              "\n",
              "    [theme=dark] .colab-df-convert {\n",
              "      background-color: #3B4455;\n",
              "      fill: #D2E3FC;\n",
              "    }\n",
              "\n",
              "    [theme=dark] .colab-df-convert:hover {\n",
              "      background-color: #434B5C;\n",
              "      box-shadow: 0px 1px 3px 1px rgba(0, 0, 0, 0.15);\n",
              "      filter: drop-shadow(0px 1px 2px rgba(0, 0, 0, 0.3));\n",
              "      fill: #FFFFFF;\n",
              "    }\n",
              "  </style>\n",
              "\n",
              "      <script>\n",
              "        const buttonEl =\n",
              "          document.querySelector('#df-d2d4017f-a86a-4bbe-ac20-8dfeb3540c14 button.colab-df-convert');\n",
              "        buttonEl.style.display =\n",
              "          google.colab.kernel.accessAllowed ? 'block' : 'none';\n",
              "\n",
              "        async function convertToInteractive(key) {\n",
              "          const element = document.querySelector('#df-d2d4017f-a86a-4bbe-ac20-8dfeb3540c14');\n",
              "          const dataTable =\n",
              "            await google.colab.kernel.invokeFunction('convertToInteractive',\n",
              "                                                     [key], {});\n",
              "          if (!dataTable) return;\n",
              "\n",
              "          const docLinkHtml = 'Like what you see? Visit the ' +\n",
              "            '<a target=\"_blank\" href=https://colab.research.google.com/notebooks/data_table.ipynb>data table notebook</a>'\n",
              "            + ' to learn more about interactive tables.';\n",
              "          element.innerHTML = '';\n",
              "          dataTable['output_type'] = 'display_data';\n",
              "          await google.colab.output.renderOutput(dataTable, element);\n",
              "          const docLink = document.createElement('div');\n",
              "          docLink.innerHTML = docLinkHtml;\n",
              "          element.appendChild(docLink);\n",
              "        }\n",
              "      </script>\n",
              "    </div>\n",
              "  </div>\n",
              "  "
            ]
          },
          "metadata": {},
          "execution_count": 6
        }
      ],
      "source": [
        "bitcoin_price=pd.DataFrame(df[\"Closing Price (USD)\"]).rename(columns={\"Closing Price (USD)\":\"price\"})\n",
        "bitcoin_price.head()"
      ]
    },
    {
      "cell_type": "code",
      "execution_count": 7,
      "metadata": {
        "colab": {
          "base_uri": "https://localhost:8080/",
          "height": 643
        },
        "id": "89p3fIMpW6QF",
        "outputId": "e5f37c2e-5f45-4768-8cc5-bd99527f9736"
      },
      "outputs": [
        {
          "output_type": "display_data",
          "data": {
            "text/plain": [
              "<Figure size 1000x700 with 1 Axes>"
            ],
            "image/png": "[encoded data removed]"
          },
          "metadata": {}
        }
      ],
      "source": [
        "from matplotlib.legend import AnchoredOffsetbox\n",
        "import matplotlib.pyplot as plt\n",
        "bitcoin_price.plot(figsize=(10,7),c=\"g\")\n",
        "plt.ylabel(\"BTC Price\")\n",
        "plt.title(\"Price of Bitcoin from 1 Oct 2013 to 18 May 2021\", fontsize=16)\n",
        "plt.legend(fontsize=14);"
      ]
    },
    {
      "cell_type": "code",
      "execution_count": 8,
      "metadata": {
        "id": "WU_04EiPXSKJ"
      },
      "outputs": [],
      "source": [
        "timesteps=bitcoin_price.index.to_numpy()\n",
        "prices=bitcoin_price.price.to_numpy()"
      ]
    },
    {
      "cell_type": "code",
      "execution_count": 9,
      "metadata": {
        "colab": {
          "base_uri": "https://localhost:8080/"
        },
        "id": "DzbwmyfnaNYO",
        "outputId": "35095468-36fc-471b-de64-4841d79cef52"
      },
      "outputs": [
        {
          "output_type": "execute_result",
          "data": {
            "text/plain": [
              "(array(['2013-10-01T00:00:00.000000000', '2013-10-02T00:00:00.000000000',\n",
              "        '2013-10-03T00:00:00.000000000', '2013-10-04T00:00:00.000000000',\n",
              "        '2013-10-05T00:00:00.000000000', '2013-10-06T00:00:00.000000000',\n",
              "        '2013-10-07T00:00:00.000000000', '2013-10-08T00:00:00.000000000',\n",
              "        '2013-10-09T00:00:00.000000000', '2013-10-10T00:00:00.000000000'],\n",
              "       dtype='datetime64[ns]'),\n",
              " array([123.65499, 125.455  , 108.58483, 118.67466, 121.33866, 120.65533,\n",
              "        121.795  , 123.033  , 124.049  , 125.96116]))"
            ]
          },
          "metadata": {},
          "execution_count": 9
        }
      ],
      "source": [
        "timesteps[:10],prices[:10]"
      ]
    },
    {
      "cell_type": "code",
      "execution_count": 10,
      "metadata": {
        "colab": {
          "base_uri": "https://localhost:8080/"
        },
        "id": "RsCJaWKkaUyC",
        "outputId": "ecf3862a-b908-4651-84c3-5bb3f85bc40f"
      },
      "outputs": [
        {
          "output_type": "execute_result",
          "data": {
            "text/plain": [
              "2229"
            ]
          },
          "metadata": {},
          "execution_count": 10
        }
      ],
      "source": [
        "split_size=int(0.8*len(prices))\n",
        "split_size"
      ]
    },
    {
      "cell_type": "markdown",
      "metadata": {
        "id": "KaI7B6Ojectj"
      },
      "source": [
        "##**Spliting Data**"
      ]
    },
    {
      "cell_type": "code",
      "execution_count": 11,
      "metadata": {
        "id": "pWx_N91datnU"
      },
      "outputs": [],
      "source": [
        "x_train,y_train=timesteps[:split_size],prices[:split_size]\n",
        "x_test,y_test=timesteps[split_size:],prices[split_size:]"
      ]
    },
    {
      "cell_type": "code",
      "execution_count": 12,
      "metadata": {
        "colab": {
          "base_uri": "https://localhost:8080/"
        },
        "id": "OjoPmIiba1GT",
        "outputId": "d6e31988-33e7-482e-acda-e4c6f5ec8577"
      },
      "outputs": [
        {
          "output_type": "execute_result",
          "data": {
            "text/plain": [
              "(2229, 558, 2229, 558)"
            ]
          },
          "metadata": {},
          "execution_count": 12
        }
      ],
      "source": [
        "len(x_train),len(x_test),len(y_train),len(y_test)"
      ]
    },
    {
      "cell_type": "code",
      "execution_count": 13,
      "metadata": {
        "colab": {
          "base_uri": "https://localhost:8080/",
          "height": 850
        },
        "id": "DKubLjHGb62G",
        "outputId": "cf5a2c18-88cc-4e47-d301-86d6a27e9313"
      },
      "outputs": [
        {
          "output_type": "display_data",
          "data": {
            "text/plain": [
              "<Figure size 1500x1000 with 1 Axes>"
            ],
            "image/png": "[encoded data removed]"
          },
          "metadata": {}
        }
      ],
      "source": [
        "from sqlalchemy import label\n",
        "plt.figure(figsize=(15,10))\n",
        "plt.scatter(x_train,y_train,label=\"Train_data\")\n",
        "plt.scatter(x_test,y_test,label=\"Test_data\")\n",
        "plt.grid(True)\n",
        "plt.xlabel(\"Date\")\n",
        "plt.ylabel(\"BTC Price\")\n",
        "plt.legend(fontsize=14)\n",
        "plt.show();"
      ]
    },
    {
      "cell_type": "code",
      "execution_count": 14,
      "metadata": {
        "id": "_-aLm_nBcnqW"
      },
      "outputs": [],
      "source": [
        "\n",
        "# Create a function to plot time series data\n",
        "def plot_time_series(timesteps, values, format='.', start=0, end=None, label=None):\n",
        "  \"\"\"\n",
        "  Plots a timesteps (a series of points in time) against values (a series of values across timesteps).\n",
        "  \n",
        "  Parameters\n",
        "  ---------\n",
        "  timesteps : array of timesteps\n",
        "  values : array of values across time\n",
        "  format : style of plot, default \".\"\n",
        "  start : where to start the plot (setting a value will index from start of timesteps & values)\n",
        "  end : where to end the plot (setting a value will index from end of timesteps & values)\n",
        "  label : label to show on plot of values\n",
        "  \"\"\"\n",
        "  # Plot the series\n",
        "  plt.plot(timesteps[start:end], values[start:end], format, label=label)\n",
        "  plt.xlabel(\"Time\")\n",
        "  plt.ylabel(\"BTC Price\")\n",
        "  if label:\n",
        "    plt.legend(fontsize=14) # make label bigger\n",
        "  plt.grid(True)"
      ]
    },
    {
      "cell_type": "markdown",
      "metadata": {
        "id": "6Ynyl9ssdi30"
      },
      "source": [
        "#**Modelling Experiments**"
      ]
    },
    {
      "cell_type": "markdown",
      "metadata": {
        "id": "C6hVOqqBduxg"
      },
      "source": [
        "##**Model List**\n",
        "* 0\tNaïve model (baseline)\n",
        "* 1\tDense model\t\n",
        "* 2\tSame as 1\t\n",
        "* 3\tSame as 1\t\n",
        "* 4\tConv1D\t\n",
        "* 5\tLSTM\t\n",
        "* 6\tSame as 1 (but with multivariate data)\t\n",
        "* 7\tN-BEATs Algorithm\t1\t7\tNA\n",
        "* 8\tEnsemble (multiple models optimized on different loss functions)\t\n",
        "* 9\tFuture prediction model (model to predict future values)\t\n",
        "* 10\tSame as 1 (but with turkey 🦃 data introduced)\t\n"
      ]
    },
    {
      "cell_type": "markdown",
      "metadata": {
        "id": "Rgw_TOypeWfo"
      },
      "source": [
        "###**0 Naïve model (baseline)**"
      ]
    },
    {
      "cell_type": "code",
      "execution_count": 15,
      "metadata": {
        "colab": {
          "base_uri": "https://localhost:8080/"
        },
        "id": "7e2TYYIKenn8",
        "outputId": "00527cb5-2fc8-40ee-9255-0f66eb743c3c"
      },
      "outputs": [
        {
          "output_type": "execute_result",
          "data": {
            "text/plain": [
              "(array([9226.48582088, 8794.35864452, 8798.04205463, 9081.18687849,\n",
              "        8711.53433917, 8760.89271814, 8749.52059102, 8656.97092235,\n",
              "        8500.64355816, 8469.2608989 ]),\n",
              " array([57107.12067189, 58788.20967893, 58102.19142623, 55715.54665129,\n",
              "        56573.5554719 , 52147.82118698, 49764.1320816 , 50032.69313676,\n",
              "        47885.62525472, 45604.61575361]))"
            ]
          },
          "metadata": {},
          "execution_count": 15
        }
      ],
      "source": [
        "naive_forecast=y_test[:-1]\n",
        "naive_forecast[:10],naive_forecast[-10:]"
      ]
    },
    {
      "cell_type": "code",
      "execution_count": 16,
      "metadata": {
        "colab": {
          "base_uri": "https://localhost:8080/"
        },
        "id": "t6wYm8oJgH0S",
        "outputId": "7551ea4a-ce5f-495a-cb37-ac686ca8f0cb"
      },
      "outputs": [
        {
          "output_type": "execute_result",
          "data": {
            "text/plain": [
              "array([58788.20967893, 58102.19142623, 55715.54665129, 56573.5554719 ,\n",
              "       52147.82118698, 49764.1320816 , 50032.69313676, 47885.62525472,\n",
              "       45604.61575361, 43144.47129086])"
            ]
          },
          "metadata": {},
          "execution_count": 16
        }
      ],
      "source": [
        "y_test[-10:]"
      ]
    },
    {
      "cell_type": "code",
      "execution_count": 17,
      "metadata": {
        "colab": {
          "base_uri": "https://localhost:8080/",
          "height": 619
        },
        "id": "EdvUv4kbgLRS",
        "outputId": "d8fd7e2a-b257-4a35-f0f2-70abb1340279"
      },
      "outputs": [
        {
          "output_type": "display_data",
          "data": {
            "text/plain": [
              "<Figure size 1000x700 with 1 Axes>"
            ],
            "image/png": "[encoded data removed]"
          },
          "metadata": {}
        }
      ],
      "source": [
        "# Plot naive forecast\n",
        "plt.figure(figsize=(10, 7))\n",
        "plot_time_series(timesteps=x_train, values=y_train, label=\"Train data\")\n",
        "plot_time_series(timesteps=x_test, values=y_test, label=\"Test data\")\n",
        "plot_time_series(timesteps=x_test[1:], values=naive_forecast, format=\"-\", label=\"Naive forecast\");"
      ]
    },
    {
      "cell_type": "code",
      "execution_count": 18,
      "metadata": {
        "colab": {
          "base_uri": "https://localhost:8080/",
          "height": 619
        },
        "id": "v8Ki6eVUgkgb",
        "outputId": "5bee61e1-ee77-4914-b7bd-19d716d44639"
      },
      "outputs": [
        {
          "output_type": "display_data",
          "data": {
            "text/plain": [
              "<Figure size 1000x700 with 1 Axes>"
            ],
            "image/png": "[encoded data removed]"
          },
          "metadata": {}
        }
      ],
      "source": [
        "\n",
        "plt.figure(figsize=(10, 7))\n",
        "offset = 400 # offset the values by 300 timesteps \n",
        "plot_time_series(timesteps=x_test, values=y_test, start=offset, label=\"Test data\")\n",
        "plot_time_series(timesteps=x_test[1:], values=naive_forecast, format=\"-\", start=offset, label=\"Naive forecast\");"
      ]
    },
    {
      "cell_type": "code",
      "execution_count": 19,
      "metadata": {
        "id": "dxxnE4clgz-O"
      },
      "outputs": [],
      "source": [
        "import tensorflow as tf\n",
        "def mean_absolute_scaled_error(y_true, y_pred):\n",
        "  \"\"\"\n",
        "  Implement MASE (assuming no seasonality of data).\n",
        "  \"\"\"\n",
        "  mae = tf.reduce_mean(tf.abs(y_true - y_pred))\n",
        "\n",
        "  # Find MAE of naive forecast (no seasonality)\n",
        "  mae_naive_no_season = tf.reduce_mean(tf.abs(y_true[1:] - y_true[:-1])) # our seasonality is 1 day (hence the shifting of 1 day)\n",
        "\n",
        "  return mae / mae_naive_no_season"
      ]
    },
    {
      "cell_type": "code",
      "execution_count": 20,
      "metadata": {
        "colab": {
          "base_uri": "https://localhost:8080/"
        },
        "id": "exIqTWJqkFWI",
        "outputId": "edfe53e1-89cb-438d-e8ea-8a4e6facc9b3"
      },
      "outputs": [
        {
          "output_type": "execute_result",
          "data": {
            "text/plain": [
              "<tf.Tensor: shape=(), dtype=float64, numpy=0.9995699939182624>"
            ]
          },
          "metadata": {},
          "execution_count": 20
        }
      ],
      "source": [
        "mean_absolute_scaled_error(y_test[1:],naive_forecast)"
      ]
    },
    {
      "cell_type": "code",
      "execution_count": 21,
      "metadata": {
        "id": "DQBloFE7kNj-"
      },
      "outputs": [],
      "source": [
        "\n",
        "\n",
        "def evaluate_preds(y_true, y_pred):\n",
        "  # Make sure float32 (for metric calculations)\n",
        "  y_true = tf.cast(y_true, dtype=tf.float32)\n",
        "  y_pred = tf.cast(y_pred, dtype=tf.float32)\n",
        "\n",
        "  # Calculate various metrics\n",
        "  mae = tf.keras.metrics.mean_absolute_error(y_true, y_pred)\n",
        "  mse = tf.keras.metrics.mean_squared_error(y_true, y_pred) # puts and emphasis on outliers (all errors get squared)\n",
        "  rmse = tf.sqrt(mse)\n",
        "  mape = tf.keras.metrics.mean_absolute_percentage_error(y_true, y_pred)\n",
        "  mase = mean_absolute_scaled_error(y_true, y_pred)\n",
        "  \n",
        "  return {\"mae\": mae.numpy(),\n",
        "          \"mse\": mse.numpy(),\n",
        "          \"rmse\": rmse.numpy(),\n",
        "          \"mape\": mape.numpy(),\n",
        "          \"mase\": mase.numpy()}"
      ]
    },
    {
      "cell_type": "markdown",
      "metadata": {
        "id": "icQ7Ni4TZLrp"
      },
      "source": [
        "####**baseline_model_results**"
      ]
    },
    {
      "cell_type": "code",
      "execution_count": 22,
      "metadata": {
        "colab": {
          "base_uri": "https://localhost:8080/"
        },
        "id": "0l4mD_LXmyWZ",
        "outputId": "ea50da0b-d97e-4214-8e76-832fd3409bb7"
      },
      "outputs": [
        {
          "output_type": "execute_result",
          "data": {
            "text/plain": [
              "{'mae': 567.9802,\n",
              " 'mse': 1147547.0,\n",
              " 'rmse': 1071.2362,\n",
              " 'mape': 2.516525,\n",
              " 'mase': 0.99957}"
            ]
          },
          "metadata": {},
          "execution_count": 22
        }
      ],
      "source": [
        "\n",
        "naive_results = evaluate_preds(y_true=y_test[1:],\n",
        "                               y_pred=naive_forecast)\n",
        "naive_results"
      ]
    },
    {
      "cell_type": "code",
      "execution_count": 23,
      "metadata": {
        "colab": {
          "base_uri": "https://localhost:8080/"
        },
        "id": "XWfpQ8rDqIqw",
        "outputId": "dda6fd1b-ca3d-4033-8974-4ade3461584f"
      },
      "outputs": [
        {
          "output_type": "execute_result",
          "data": {
            "text/plain": [
              "<tf.Tensor: shape=(), dtype=float64, numpy=20056.632963737222>"
            ]
          },
          "metadata": {},
          "execution_count": 23
        }
      ],
      "source": [
        "tf.reduce_mean(y_test)"
      ]
    },
    {
      "cell_type": "code",
      "execution_count": 24,
      "metadata": {
        "id": "w8XHMuzUsE9-"
      },
      "outputs": [],
      "source": [
        "WINDOW=7\n",
        "HORIZON=1"
      ]
    },
    {
      "cell_type": "code",
      "execution_count": 25,
      "metadata": {
        "id": "9xP_s-jQnYFX"
      },
      "outputs": [],
      "source": [
        "def get_labelled_windows(x,horizon):\n",
        "  return x[:,:-horizon],x[:,-horizon:]"
      ]
    },
    {
      "cell_type": "code",
      "execution_count": 26,
      "metadata": {
        "colab": {
          "base_uri": "https://localhost:8080/"
        },
        "id": "ruLzx01moLIU",
        "outputId": "651eb307-edf3-41b1-ab81-08e659844e70"
      },
      "outputs": [
        {
          "output_type": "stream",
          "name": "stdout",
          "text": [
            "Window: [1 2 3 4 5 6 7] -> Label: 8\n"
          ]
        }
      ],
      "source": [
        "test_window, test_label = get_labelled_windows(tf.expand_dims(tf.range(8)+1, axis=0), horizon=HORIZON)\n",
        "print(f\"Window: {tf.squeeze(test_window).numpy()} -> Label: {tf.squeeze(test_label).numpy()}\")"
      ]
    },
    {
      "cell_type": "code",
      "execution_count": 27,
      "metadata": {
        "id": "6CNjRlVTo4cK"
      },
      "outputs": [],
      "source": [
        "import numpy as np\n",
        "# Create function to view NumPy arrays as windows \n",
        "def make_windows(x, window_size=7, horizon=1):\n",
        "  \"\"\"\n",
        "  Turns a 1D array into a 2D array of sequential windows of window_size.\n",
        "  \"\"\"\n",
        "  # 1. Create a window of specific window_size (add the horizon on the end for later labelling)\n",
        "  window_step = np.expand_dims(np.arange(window_size+horizon), axis=0)\n",
        "\n",
        "  # 2. Create a 2D array of multiple window steps (minus 1 to account for 0 indexing)\n",
        "  window_indexes = window_step + np.expand_dims(np.arange(len(x)-(window_size+horizon-1)), axis=0).T # create 2D array of windows of size window_size\n",
        "  windowed_array = x[window_indexes]\n",
        "\n",
        "  # 4. Get the labelled windows\n",
        "  windows, labels = get_labelled_windows(windowed_array, horizon=horizon)\n",
        "\n",
        "  return windows, labels"
      ]
    },
    {
      "cell_type": "code",
      "execution_count": 28,
      "metadata": {
        "colab": {
          "base_uri": "https://localhost:8080/"
        },
        "id": "zP79NCtN0tDp",
        "outputId": "c2d8df09-22d4-4e79-a016-d05e46080736"
      },
      "outputs": [
        {
          "output_type": "execute_result",
          "data": {
            "text/plain": [
              "(2780, 2780)"
            ]
          },
          "metadata": {},
          "execution_count": 28
        }
      ],
      "source": [
        "\n",
        "full_windows, full_labels = make_windows(prices, window_size=WINDOW, horizon=HORIZON)\n",
        "len(full_windows), len(full_labels)"
      ]
    },
    {
      "cell_type": "code",
      "execution_count": 29,
      "metadata": {
        "colab": {
          "base_uri": "https://localhost:8080/"
        },
        "id": "GFiJXH2nPVdk",
        "outputId": "26fc4d9f-00c2-47bd-f026-fe2e3bf2b983"
      },
      "outputs": [
        {
          "output_type": "stream",
          "name": "stdout",
          "text": [
            "Window: [123.65499 125.455   108.58483 118.67466 121.33866 120.65533 121.795  ] -> Label: [123.033]\n",
            "Window: [125.455   108.58483 118.67466 121.33866 120.65533 121.795   123.033  ] -> Label: [124.049]\n",
            "Window: [108.58483 118.67466 121.33866 120.65533 121.795   123.033   124.049  ] -> Label: [125.96116]\n",
            "Window: [118.67466 121.33866 120.65533 121.795   123.033   124.049   125.96116] -> Label: [125.27966]\n"
          ]
        }
      ],
      "source": [
        "for i in range(4):\n",
        "  print(f\"Window: {full_windows[i]} -> Label: {full_labels[i]}\")"
      ]
    },
    {
      "cell_type": "code",
      "execution_count": 30,
      "metadata": {
        "colab": {
          "base_uri": "https://localhost:8080/"
        },
        "id": "fmqvmn35Qr8I",
        "outputId": "875e0a61-1335-4ebd-b6e2-3eead4a4dbb3"
      },
      "outputs": [
        {
          "output_type": "stream",
          "name": "stdout",
          "text": [
            "Window: [55715.54665129 56573.5554719  52147.82118698 49764.1320816\n",
            " 50032.69313676 47885.62525472 45604.61575361] -> Label: [43144.47129086]\n",
            "Window: [123.65499 125.455   108.58483 118.67466 121.33866 120.65533 121.795  ] -> Label: [123.033]\n",
            "Window: [125.455   108.58483 118.67466 121.33866 120.65533 121.795   123.033  ] -> Label: [124.049]\n",
            "Window: [108.58483 118.67466 121.33866 120.65533 121.795   123.033   124.049  ] -> Label: [125.96116]\n"
          ]
        }
      ],
      "source": [
        "for i in range(4):\n",
        "  print(f\"Window: {full_windows[i-1]} -> Label: {full_labels[i-1]}\")"
      ]
    },
    {
      "cell_type": "code",
      "execution_count": 31,
      "metadata": {
        "id": "rSr9hdiHR6AF"
      },
      "outputs": [],
      "source": [
        "def train_test_split(windows,labels,test_size=0.2):\n",
        "  split_size=int(len(windows)*(1-test_size))\n",
        "  train_windows=windows[:split_size]\n",
        "  train_labels=labels[:split_size]\n",
        "  test_windows=windows[split_size:]\n",
        "  test_labels=labels[split_size:]\n",
        "\n",
        "  return train_windows,test_windows,train_labels,test_labels\n",
        "  "
      ]
    },
    {
      "cell_type": "code",
      "execution_count": 32,
      "metadata": {
        "id": "kbw3XKHZWVrx"
      },
      "outputs": [],
      "source": [
        "train_windows, test_windows, train_labels, test_labels =train_test_split(full_windows,full_labels)"
      ]
    },
    {
      "cell_type": "code",
      "execution_count": 33,
      "metadata": {
        "colab": {
          "base_uri": "https://localhost:8080/"
        },
        "id": "cnkY-FHsUsa_",
        "outputId": "a2bdfdfe-fa09-4ce7-fd42-19a8b84a85cb"
      },
      "outputs": [
        {
          "output_type": "execute_result",
          "data": {
            "text/plain": [
              "(2224, 556, 2224, 556)"
            ]
          },
          "metadata": {},
          "execution_count": 33
        }
      ],
      "source": [
        "len(train_windows),len(test_windows),len(train_labels),len(test_labels)"
      ]
    },
    {
      "cell_type": "markdown",
      "metadata": {
        "id": "7ZT7tOGCWSSp"
      },
      "source": [
        "###**Making Model Checkpoints**"
      ]
    },
    {
      "cell_type": "code",
      "execution_count": 34,
      "metadata": {
        "id": "4wdHsJtQYr11"
      },
      "outputs": [],
      "source": [
        "import os\n",
        "\n",
        "# Create a function to implement a ModelCheckpoint callback with a specific filename \n",
        "def create_model_checkpoint(model_name, save_path=\"model_experiments\"):\n",
        "  return tf.keras.callbacks.ModelCheckpoint(filepath=os.path.join(save_path, model_name), # create filepath to save model\n",
        "                                            verbose=0, # only output a limited amount of text\n",
        "                                            save_best_only=True) # save only the best model to file"
      ]
    },
    {
      "cell_type": "markdown",
      "metadata": {
        "id": "2aWvMIS4adjn"
      },
      "source": [
        "###**Model 1: Dense model (window = 7, horizon = 1)**"
      ]
    },
    {
      "cell_type": "code",
      "execution_count": 35,
      "metadata": {
        "colab": {
          "base_uri": "https://localhost:8080/"
        },
        "id": "7t_BhNs7aox1",
        "outputId": "2400c7d4-e580-4808-b971-c81fb539178f"
      },
      "outputs": [
        {
          "output_type": "stream",
          "name": "stdout",
          "text": [
            "Epoch 1/100\n",
            "18/18 [==============================] - 6s 48ms/step - loss: 2737.8489 - mae: 2737.8489 - val_loss: 5791.1333 - val_mae: 5791.1333\n",
            "Epoch 2/100\n",
            "18/18 [==============================] - 1s 32ms/step - loss: 447.0844 - mae: 447.0844 - val_loss: 1532.6729 - val_mae: 1532.6729\n",
            "Epoch 3/100\n",
            "18/18 [==============================] - 1s 30ms/step - loss: 277.1130 - mae: 277.1130 - val_loss: 1433.4656 - val_mae: 1433.4656\n",
            "Epoch 4/100\n",
            "18/18 [==============================] - 1s 32ms/step - loss: 261.5074 - mae: 261.5074 - val_loss: 1399.6241 - val_mae: 1399.6241\n",
            "Epoch 5/100\n",
            "18/18 [==============================] - 1s 30ms/step - loss: 248.1378 - mae: 248.1378 - val_loss: 1377.9684 - val_mae: 1377.9684\n",
            "Epoch 6/100\n",
            "18/18 [==============================] - 1s 33ms/step - loss: 249.4502 - mae: 249.4502 - val_loss: 1341.5393 - val_mae: 1341.5393\n",
            "Epoch 7/100\n",
            "18/18 [==============================] - 1s 32ms/step - loss: 241.3869 - mae: 241.3869 - val_loss: 1282.1482 - val_mae: 1282.1482\n",
            "Epoch 8/100\n",
            "18/18 [==============================] - 1s 53ms/step - loss: 227.3079 - mae: 227.3079 - val_loss: 1266.7676 - val_mae: 1266.7676\n",
            "Epoch 9/100\n",
            "18/18 [==============================] - 1s 59ms/step - loss: 221.2595 - mae: 221.2595 - val_loss: 1249.9478 - val_mae: 1249.9478\n",
            "Epoch 10/100\n",
            "18/18 [==============================] - 1s 55ms/step - loss: 215.3927 - mae: 215.3927 - val_loss: 1187.9607 - val_mae: 1187.9607\n",
            "Epoch 11/100\n",
            "18/18 [==============================] - 1s 54ms/step - loss: 209.5888 - mae: 209.5888 - val_loss: 1136.9674 - val_mae: 1136.9674\n",
            "Epoch 12/100\n",
            "18/18 [==============================] - 0s 14ms/step - loss: 203.3642 - mae: 203.3642 - val_loss: 1148.6375 - val_mae: 1148.6375\n",
            "Epoch 13/100\n",
            "18/18 [==============================] - 3s 146ms/step - loss: 194.4735 - mae: 194.4735 - val_loss: 1084.5897 - val_mae: 1084.5897\n",
            "Epoch 14/100\n",
            "18/18 [==============================] - 2s 109ms/step - loss: 186.9549 - mae: 186.9549 - val_loss: 1063.7112 - val_mae: 1063.7113\n",
            "Epoch 15/100\n",
            "18/18 [==============================] - 1s 64ms/step - loss: 183.0419 - mae: 183.0419 - val_loss: 1058.3329 - val_mae: 1058.3329\n",
            "Epoch 16/100\n",
            "18/18 [==============================] - 1s 62ms/step - loss: 171.3484 - mae: 171.3484 - val_loss: 982.1075 - val_mae: 982.1075\n",
            "Epoch 17/100\n",
            "18/18 [==============================] - 1s 70ms/step - loss: 165.2291 - mae: 165.2291 - val_loss: 942.0815 - val_mae: 942.0815\n",
            "Epoch 18/100\n",
            "18/18 [==============================] - 1s 61ms/step - loss: 158.7634 - mae: 158.7634 - val_loss: 873.6838 - val_mae: 873.6838\n",
            "Epoch 19/100\n",
            "18/18 [==============================] - 1s 63ms/step - loss: 149.6375 - mae: 149.6375 - val_loss: 852.9708 - val_mae: 852.9708\n",
            "Epoch 20/100\n",
            "18/18 [==============================] - 1s 67ms/step - loss: 146.2382 - mae: 146.2382 - val_loss: 789.5607 - val_mae: 789.5607\n",
            "Epoch 21/100\n",
            "18/18 [==============================] - 1s 74ms/step - loss: 143.9846 - mae: 143.9846 - val_loss: 767.7793 - val_mae: 767.7793\n",
            "Epoch 22/100\n",
            "18/18 [==============================] - 1s 78ms/step - loss: 139.1781 - mae: 139.1781 - val_loss: 747.0132 - val_mae: 747.0132\n",
            "Epoch 23/100\n",
            "18/18 [==============================] - 0s 15ms/step - loss: 136.4017 - mae: 136.4017 - val_loss: 748.1544 - val_mae: 748.1543\n",
            "Epoch 24/100\n",
            "18/18 [==============================] - 2s 118ms/step - loss: 134.1443 - mae: 134.1443 - val_loss: 714.8145 - val_mae: 714.8145\n",
            "Epoch 25/100\n",
            "18/18 [==============================] - 1s 79ms/step - loss: 130.4759 - mae: 130.4759 - val_loss: 707.2814 - val_mae: 707.2814\n",
            "Epoch 26/100\n",
            "18/18 [==============================] - 0s 17ms/step - loss: 132.5955 - mae: 132.5955 - val_loss: 725.9282 - val_mae: 725.9282\n",
            "Epoch 27/100\n",
            "18/18 [==============================] - 1s 87ms/step - loss: 130.7465 - mae: 130.7465 - val_loss: 680.6365 - val_mae: 680.6365\n",
            "Epoch 28/100\n",
            "18/18 [==============================] - 0s 15ms/step - loss: 125.2370 - mae: 125.2370 - val_loss: 691.1339 - val_mae: 691.1339\n",
            "Epoch 29/100\n",
            "18/18 [==============================] - 2s 110ms/step - loss: 124.2810 - mae: 124.2810 - val_loss: 661.3559 - val_mae: 661.3559\n",
            "Epoch 30/100\n",
            "18/18 [==============================] - 2s 105ms/step - loss: 126.4005 - mae: 126.4005 - val_loss: 655.5469 - val_mae: 655.5469\n",
            "Epoch 31/100\n",
            "18/18 [==============================] - 0s 15ms/step - loss: 121.1085 - mae: 121.1085 - val_loss: 664.3590 - val_mae: 664.3590\n",
            "Epoch 32/100\n",
            "18/18 [==============================] - 2s 89ms/step - loss: 120.6889 - mae: 120.6889 - val_loss: 645.5203 - val_mae: 645.5203\n",
            "Epoch 33/100\n",
            "18/18 [==============================] - 0s 12ms/step - loss: 122.1156 - mae: 122.1156 - val_loss: 646.1129 - val_mae: 646.1129\n",
            "Epoch 34/100\n",
            "18/18 [==============================] - 2s 143ms/step - loss: 121.4352 - mae: 121.4352 - val_loss: 634.2184 - val_mae: 634.2184\n",
            "Epoch 35/100\n",
            "18/18 [==============================] - 0s 17ms/step - loss: 118.4872 - mae: 118.4872 - val_loss: 634.8647 - val_mae: 634.8647\n",
            "Epoch 36/100\n",
            "18/18 [==============================] - 0s 15ms/step - loss: 123.1317 - mae: 123.1317 - val_loss: 649.0274 - val_mae: 649.0274\n",
            "Epoch 37/100\n",
            "18/18 [==============================] - 0s 11ms/step - loss: 121.3085 - mae: 121.3085 - val_loss: 651.8792 - val_mae: 651.8792\n",
            "Epoch 38/100\n",
            "18/18 [==============================] - 1s 76ms/step - loss: 118.9204 - mae: 118.9204 - val_loss: 626.7283 - val_mae: 626.7283\n",
            "Epoch 39/100\n",
            "18/18 [==============================] - 1s 75ms/step - loss: 117.4661 - mae: 117.4661 - val_loss: 617.6774 - val_mae: 617.6774\n",
            "Epoch 40/100\n",
            "18/18 [==============================] - 0s 12ms/step - loss: 115.8017 - mae: 115.8017 - val_loss: 626.1049 - val_mae: 626.1049\n",
            "Epoch 41/100\n",
            "18/18 [==============================] - 0s 11ms/step - loss: 117.4963 - mae: 117.4963 - val_loss: 649.0009 - val_mae: 649.0009\n",
            "Epoch 42/100\n",
            "18/18 [==============================] - 1s 59ms/step - loss: 121.1565 - mae: 121.1565 - val_loss: 611.2691 - val_mae: 611.2691\n",
            "Epoch 43/100\n",
            "18/18 [==============================] - 0s 16ms/step - loss: 115.2464 - mae: 115.2464 - val_loss: 622.6097 - val_mae: 622.6097\n",
            "Epoch 44/100\n",
            "18/18 [==============================] - 0s 15ms/step - loss: 118.2582 - mae: 118.2582 - val_loss: 638.5394 - val_mae: 638.5394\n",
            "Epoch 45/100\n",
            "18/18 [==============================] - 0s 10ms/step - loss: 119.3552 - mae: 119.3552 - val_loss: 631.5267 - val_mae: 631.5267\n",
            "Epoch 46/100\n",
            "18/18 [==============================] - 0s 9ms/step - loss: 115.6566 - mae: 115.6566 - val_loss: 619.8216 - val_mae: 619.8216\n",
            "Epoch 47/100\n",
            "18/18 [==============================] - 0s 13ms/step - loss: 117.1721 - mae: 117.1721 - val_loss: 671.3577 - val_mae: 671.3577\n",
            "Epoch 48/100\n",
            "18/18 [==============================] - 0s 12ms/step - loss: 113.9031 - mae: 113.9031 - val_loss: 623.9066 - val_mae: 623.9066\n",
            "Epoch 49/100\n",
            "18/18 [==============================] - 1s 66ms/step - loss: 118.8044 - mae: 118.8044 - val_loss: 599.2917 - val_mae: 599.2917\n",
            "Epoch 50/100\n",
            "18/18 [==============================] - 0s 12ms/step - loss: 113.2094 - mae: 113.2094 - val_loss: 613.1519 - val_mae: 613.1519\n",
            "Epoch 51/100\n",
            "18/18 [==============================] - 0s 8ms/step - loss: 113.2634 - mae: 113.2634 - val_loss: 603.1296 - val_mae: 603.1296\n",
            "Epoch 52/100\n",
            "18/18 [==============================] - 0s 8ms/step - loss: 114.9506 - mae: 114.9506 - val_loss: 643.4897 - val_mae: 643.4897\n",
            "Epoch 53/100\n",
            "18/18 [==============================] - 1s 56ms/step - loss: 120.2071 - mae: 120.2071 - val_loss: 592.2869 - val_mae: 592.2869\n",
            "Epoch 54/100\n",
            "18/18 [==============================] - 0s 16ms/step - loss: 121.0004 - mae: 121.0004 - val_loss: 679.3505 - val_mae: 679.3505\n",
            "Epoch 55/100\n",
            "18/18 [==============================] - 0s 11ms/step - loss: 115.7529 - mae: 115.7529 - val_loss: 612.9576 - val_mae: 612.9576\n",
            "Epoch 56/100\n",
            "18/18 [==============================] - 0s 13ms/step - loss: 112.9239 - mae: 112.9239 - val_loss: 785.6591 - val_mae: 785.6591\n",
            "Epoch 57/100\n",
            "18/18 [==============================] - 0s 8ms/step - loss: 126.1173 - mae: 126.1173 - val_loss: 687.2402 - val_mae: 687.2402\n",
            "Epoch 58/100\n",
            "18/18 [==============================] - 0s 8ms/step - loss: 114.9679 - mae: 114.9679 - val_loss: 607.7496 - val_mae: 607.7496\n",
            "Epoch 59/100\n",
            "18/18 [==============================] - 0s 9ms/step - loss: 114.7894 - mae: 114.7894 - val_loss: 628.1448 - val_mae: 628.1448\n",
            "Epoch 60/100\n",
            "18/18 [==============================] - 0s 8ms/step - loss: 114.6514 - mae: 114.6514 - val_loss: 613.8182 - val_mae: 613.8182\n",
            "Epoch 61/100\n",
            "18/18 [==============================] - 0s 8ms/step - loss: 112.5814 - mae: 112.5814 - val_loss: 604.0424 - val_mae: 604.0424\n",
            "Epoch 62/100\n",
            "18/18 [==============================] - 1s 81ms/step - loss: 110.5026 - mae: 110.5026 - val_loss: 591.0538 - val_mae: 591.0538\n",
            "Epoch 63/100\n",
            "18/18 [==============================] - 1s 43ms/step - loss: 112.1903 - mae: 112.1903 - val_loss: 586.9052 - val_mae: 586.9052\n",
            "Epoch 64/100\n",
            "18/18 [==============================] - 0s 7ms/step - loss: 110.6455 - mae: 110.6455 - val_loss: 611.7482 - val_mae: 611.7482\n",
            "Epoch 65/100\n",
            "18/18 [==============================] - 1s 43ms/step - loss: 114.6473 - mae: 114.6473 - val_loss: 583.4760 - val_mae: 583.4760\n",
            "Epoch 66/100\n",
            "18/18 [==============================] - 0s 5ms/step - loss: 112.1914 - mae: 112.1914 - val_loss: 592.1772 - val_mae: 592.1772\n",
            "Epoch 67/100\n",
            "18/18 [==============================] - 0s 5ms/step - loss: 109.2925 - mae: 109.2925 - val_loss: 611.4589 - val_mae: 611.4589\n",
            "Epoch 68/100\n",
            "18/18 [==============================] - 0s 5ms/step - loss: 117.1707 - mae: 117.1707 - val_loss: 740.6240 - val_mae: 740.6240\n",
            "Epoch 69/100\n",
            "18/18 [==============================] - 0s 6ms/step - loss: 129.9413 - mae: 129.9413 - val_loss: 736.1815 - val_mae: 736.1815\n",
            "Epoch 70/100\n",
            "18/18 [==============================] - 1s 29ms/step - loss: 121.9066 - mae: 121.9066 - val_loss: 581.7584 - val_mae: 581.7584\n",
            "Epoch 71/100\n",
            "18/18 [==============================] - 0s 5ms/step - loss: 111.6671 - mae: 111.6671 - val_loss: 595.7059 - val_mae: 595.7059\n",
            "Epoch 72/100\n",
            "18/18 [==============================] - 1s 30ms/step - loss: 109.6575 - mae: 109.6575 - val_loss: 577.1869 - val_mae: 577.1869\n",
            "Epoch 73/100\n",
            "18/18 [==============================] - 0s 5ms/step - loss: 110.9554 - mae: 110.9554 - val_loss: 609.5651 - val_mae: 609.5651\n",
            "Epoch 74/100\n",
            "18/18 [==============================] - 1s 30ms/step - loss: 109.2749 - mae: 109.2749 - val_loss: 575.3953 - val_mae: 575.3953\n",
            "Epoch 75/100\n",
            "18/18 [==============================] - 0s 5ms/step - loss: 109.7091 - mae: 109.7091 - val_loss: 670.4590 - val_mae: 670.4590\n",
            "Epoch 76/100\n",
            "18/18 [==============================] - 0s 5ms/step - loss: 113.7921 - mae: 113.7921 - val_loss: 587.0964 - val_mae: 587.0964\n",
            "Epoch 77/100\n",
            "18/18 [==============================] - 1s 32ms/step - loss: 109.9903 - mae: 109.9903 - val_loss: 573.4531 - val_mae: 573.4531\n",
            "Epoch 78/100\n",
            "18/18 [==============================] - 0s 5ms/step - loss: 110.2633 - mae: 110.2633 - val_loss: 577.2057 - val_mae: 577.2057\n",
            "Epoch 79/100\n",
            "18/18 [==============================] - 0s 5ms/step - loss: 109.2368 - mae: 109.2368 - val_loss: 575.2370 - val_mae: 575.2370\n",
            "Epoch 80/100\n",
            "18/18 [==============================] - 1s 31ms/step - loss: 108.0245 - mae: 108.0245 - val_loss: 571.2996 - val_mae: 571.2996\n",
            "Epoch 81/100\n",
            "18/18 [==============================] - 0s 5ms/step - loss: 108.4398 - mae: 108.4398 - val_loss: 586.2407 - val_mae: 586.2407\n",
            "Epoch 82/100\n",
            "18/18 [==============================] - 1s 30ms/step - loss: 114.5305 - mae: 114.5305 - val_loss: 570.2568 - val_mae: 570.2568\n",
            "Epoch 83/100\n",
            "18/18 [==============================] - 0s 6ms/step - loss: 111.7043 - mae: 111.7043 - val_loss: 646.7125 - val_mae: 646.7125\n",
            "Epoch 84/100\n",
            "18/18 [==============================] - 0s 5ms/step - loss: 112.4172 - mae: 112.4172 - val_loss: 581.7424 - val_mae: 581.7424\n",
            "Epoch 85/100\n",
            "18/18 [==============================] - 0s 6ms/step - loss: 108.0576 - mae: 108.0576 - val_loss: 591.6569 - val_mae: 591.6569\n",
            "Epoch 86/100\n",
            "18/18 [==============================] - 0s 6ms/step - loss: 110.2906 - mae: 110.2906 - val_loss: 622.7952 - val_mae: 622.7952\n",
            "Epoch 87/100\n",
            "18/18 [==============================] - 0s 4ms/step - loss: 108.4670 - mae: 108.4670 - val_loss: 574.5772 - val_mae: 574.5772\n",
            "Epoch 88/100\n",
            "18/18 [==============================] - 0s 5ms/step - loss: 108.2484 - mae: 108.2484 - val_loss: 570.8173 - val_mae: 570.8173\n",
            "Epoch 89/100\n",
            "18/18 [==============================] - 0s 5ms/step - loss: 108.3177 - mae: 108.3177 - val_loss: 573.4200 - val_mae: 573.4200\n",
            "Epoch 90/100\n",
            "18/18 [==============================] - 0s 5ms/step - loss: 107.9589 - mae: 107.9589 - val_loss: 647.9513 - val_mae: 647.9513\n",
            "Epoch 91/100\n",
            "18/18 [==============================] - 0s 5ms/step - loss: 115.1082 - mae: 115.1082 - val_loss: 616.0174 - val_mae: 616.0174\n",
            "Epoch 92/100\n",
            "18/18 [==============================] - 0s 5ms/step - loss: 109.3876 - mae: 109.3876 - val_loss: 588.1421 - val_mae: 588.1421\n",
            "Epoch 93/100\n",
            "18/18 [==============================] - 0s 6ms/step - loss: 115.0914 - mae: 115.0914 - val_loss: 591.4727 - val_mae: 591.4727\n",
            "Epoch 94/100\n",
            "18/18 [==============================] - 0s 6ms/step - loss: 110.3320 - mae: 110.3320 - val_loss: 606.4980 - val_mae: 606.4980\n",
            "Epoch 95/100\n",
            "18/18 [==============================] - 1s 44ms/step - loss: 107.5548 - mae: 107.5548 - val_loss: 569.3764 - val_mae: 569.3764\n",
            "Epoch 96/100\n",
            "18/18 [==============================] - 0s 5ms/step - loss: 113.6522 - mae: 113.6522 - val_loss: 637.5652 - val_mae: 637.5652\n",
            "Epoch 97/100\n",
            "18/18 [==============================] - 1s 31ms/step - loss: 110.3137 - mae: 110.3137 - val_loss: 567.4980 - val_mae: 567.4980\n",
            "Epoch 98/100\n",
            "18/18 [==============================] - 1s 30ms/step - loss: 107.6073 - mae: 107.6073 - val_loss: 564.7910 - val_mae: 564.7910\n",
            "Epoch 99/100\n",
            "18/18 [==============================] - 1s 31ms/step - loss: 107.9963 - mae: 107.9963 - val_loss: 564.2740 - val_mae: 564.2740\n",
            "Epoch 100/100\n",
            "18/18 [==============================] - 0s 5ms/step - loss: 120.6467 - mae: 120.6467 - val_loss: 631.2462 - val_mae: 631.2462\n"
          ]
        },
        {
          "output_type": "execute_result",
          "data": {
            "text/plain": [
              "<keras.callbacks.History at 0x7f92f1e0ce50>"
            ]
          },
          "metadata": {},
          "execution_count": 35
        }
      ],
      "source": [
        "import absl.logging\n",
        "absl.logging.set_verbosity(absl.logging.ERROR)\n",
        "\n",
        "import tensorflow as tf\n",
        "from tensorflow.keras import layers\n",
        "\n",
        "# Set random seed for as reproducible results as possible\n",
        "tf.random.set_seed(42)\n",
        "\n",
        "# Construct model\n",
        "model_1 = tf.keras.Sequential([\n",
        "  layers.Dense(128, activation=\"relu\"),\n",
        "  layers.Dense(HORIZON, activation=\"linear\") # linear activation is the same as having no activation                        \n",
        "], name=\"model_1_dense\") # give the model a name so we can save it\n",
        "\n",
        "# Compile model\n",
        "model_1.compile(loss=\"mae\",\n",
        "                optimizer=tf.keras.optimizers.Adam(),\n",
        "                metrics=[\"mae\"]) # we don't necessarily need this when the loss function is already MAE\n",
        "\n",
        "# Fit model\n",
        "model_1.fit(x=train_windows, # train windows of 7 timesteps of Bitcoin prices\n",
        "            y=train_labels, # horizon value of 1 (using the previous 7 timesteps to predict next day)\n",
        "            epochs=100,\n",
        "            verbose=1,\n",
        "            batch_size=128,\n",
        "            validation_data=(test_windows, test_labels),\n",
        "            callbacks=[create_model_checkpoint(model_name=model_1.name)])"
      ]
    },
    {
      "cell_type": "code",
      "execution_count": 36,
      "metadata": {
        "colab": {
          "base_uri": "https://localhost:8080/"
        },
        "id": "9ADAZHH_hI-z",
        "outputId": "6be22e8b-fcc8-418e-93b1-8bbf1b2c0d3a"
      },
      "outputs": [
        {
          "output_type": "stream",
          "name": "stdout",
          "text": [
            "18/18 [==============================] - 0s 2ms/step - loss: 631.2462 - mae: 631.2462\n"
          ]
        },
        {
          "output_type": "execute_result",
          "data": {
            "text/plain": [
              "[631.2462158203125, 631.2462158203125]"
            ]
          },
          "metadata": {},
          "execution_count": 36
        }
      ],
      "source": [
        "\n",
        "# Evaluate model on test data\n",
        "model_1.evaluate(test_windows, test_labels)"
      ]
    },
    {
      "cell_type": "code",
      "execution_count": 37,
      "metadata": {
        "colab": {
          "base_uri": "https://localhost:8080/"
        },
        "id": "LxYR0YkFiG1N",
        "outputId": "dc3cb42b-0f9c-4bd0-b1c5-263c44a02ec6"
      },
      "outputs": [
        {
          "output_type": "stream",
          "name": "stdout",
          "text": [
            "18/18 [==============================] - 0s 2ms/step - loss: 564.2741 - mae: 564.2741\n"
          ]
        },
        {
          "output_type": "execute_result",
          "data": {
            "text/plain": [
              "[564.2741088867188, 564.2741088867188]"
            ]
          },
          "metadata": {},
          "execution_count": 37
        }
      ],
      "source": [
        "# Load in saved best performing model_1 and evaluate on test data\n",
        "model_1 = tf.keras.models.load_model(\"/content/model_experiments/model_1_dense\")\n",
        "model_1.evaluate(test_windows, test_labels)"
      ]
    },
    {
      "cell_type": "code",
      "execution_count": 38,
      "metadata": {
        "colab": {
          "base_uri": "https://localhost:8080/"
        },
        "id": "Yck6NjrOiQc0",
        "outputId": "2bf92711-c946-4fc8-ac79-65ad6acf87f3"
      },
      "outputs": [
        {
          "output_type": "stream",
          "name": "stdout",
          "text": [
            "18/18 [==============================] - 0s 2ms/step - loss: 564.2741 - mae: 564.2741\n"
          ]
        },
        {
          "output_type": "execute_result",
          "data": {
            "text/plain": [
              "[564.2741088867188, 564.2741088867188]"
            ]
          },
          "metadata": {},
          "execution_count": 38
        }
      ],
      "source": [
        "model_1.evaluate(test_windows, test_labels)"
      ]
    },
    {
      "cell_type": "code",
      "execution_count": 39,
      "metadata": {
        "id": "d2oW6LJdiWuo"
      },
      "outputs": [],
      "source": [
        "def make_preds(model,input_data):\n",
        "  forecast=model.predict(input_data)\n",
        "  return tf.squeeze(forecast)"
      ]
    },
    {
      "cell_type": "code",
      "execution_count": 40,
      "metadata": {
        "colab": {
          "base_uri": "https://localhost:8080/"
        },
        "id": "DjVGM8EsntMV",
        "outputId": "0e70489e-eef1-4ad6-d7d1-9eb273c8c44d"
      },
      "outputs": [
        {
          "output_type": "stream",
          "name": "stdout",
          "text": [
            "18/18 [==============================] - 0s 2ms/step\n"
          ]
        },
        {
          "output_type": "execute_result",
          "data": {
            "text/plain": [
              "(556,\n",
              " <tf.Tensor: shape=(10,), dtype=float32, numpy=\n",
              " array([8859.033, 8812.259, 9003.198, 8769.094, 8800.435, 8706.457,\n",
              "        8668.309, 8564.782, 8451.229, 8524.312], dtype=float32)>)"
            ]
          },
          "metadata": {},
          "execution_count": 40
        }
      ],
      "source": [
        "model_1_preds = make_preds(model_1, test_windows)\n",
        "len(model_1_preds), model_1_preds[:10]"
      ]
    },
    {
      "cell_type": "markdown",
      "metadata": {
        "id": "BMTiaHmZo0fz"
      },
      "source": [
        "####**model_1_results**"
      ]
    },
    {
      "cell_type": "code",
      "execution_count": 41,
      "metadata": {
        "colab": {
          "base_uri": "https://localhost:8080/"
        },
        "id": "gnLRkXy7n8_S",
        "outputId": "38e07db5-273a-4ef3-9155-1a2da76d9fcb"
      },
      "outputs": [
        {
          "output_type": "execute_result",
          "data": {
            "text/plain": [
              "{'mae': 564.27405,\n",
              " 'mse': 1152947.1,\n",
              " 'rmse': 1073.7538,\n",
              " 'mape': 2.5334065,\n",
              " 'mase': 0.9912732}"
            ]
          },
          "metadata": {},
          "execution_count": 41
        }
      ],
      "source": [
        "model_1_results=evaluate_preds(tf.squeeze(test_labels),model_1_preds)\n",
        "model_1_results"
      ]
    },
    {
      "cell_type": "code",
      "execution_count": 42,
      "metadata": {
        "colab": {
          "base_uri": "https://localhost:8080/"
        },
        "id": "9RhijU2NoT6y",
        "outputId": "f6e6aad6-1a65-4dde-e5ca-ce5bde98ce7f"
      },
      "outputs": [
        {
          "output_type": "execute_result",
          "data": {
            "text/plain": [
              "{'mae': 567.9802,\n",
              " 'mse': 1147547.0,\n",
              " 'rmse': 1071.2362,\n",
              " 'mape': 2.516525,\n",
              " 'mase': 0.99957}"
            ]
          },
          "metadata": {},
          "execution_count": 42
        }
      ],
      "source": [
        "naive_results"
      ]
    },
    {
      "cell_type": "code",
      "execution_count": 43,
      "metadata": {
        "colab": {
          "base_uri": "https://localhost:8080/",
          "height": 620
        },
        "id": "3wMzOAk8oroi",
        "outputId": "b195376a-a73a-437f-d8ae-5eacf7f6b302"
      },
      "outputs": [
        {
          "output_type": "display_data",
          "data": {
            "text/plain": [
              "<Figure size 1000x700 with 1 Axes>"
            ],
            "image/png": "[encoded data removed]"
          },
          "metadata": {}
        }
      ],
      "source": [
        "offset = 450\n",
        "plt.figure(figsize=(10, 7))\n",
        "# Account for the test_window offset and index into test_labels to ensure correct plotting\n",
        "plot_time_series(timesteps=x_test[-len(test_windows):], values=test_labels[:, 0], start=offset, label=\"Test_data\")\n",
        "plot_time_series(timesteps=x_test[-len(test_windows):], values=model_1_preds, start=offset, format=\"-\", label=\"model_1_preds\")\n",
        "     \n"
      ]
    },
    {
      "cell_type": "markdown",
      "metadata": {
        "id": "lQwbUSPDpnhj"
      },
      "source": [
        "###**Model 2: Dense (window = 30, horizon = 1)**\n",
        "\n",
        "---\n",
        "\n",
        "\n",
        "\n",
        "---\n",
        "\n"
      ]
    },
    {
      "cell_type": "code",
      "execution_count": 44,
      "metadata": {
        "id": "GBrXYd16q2Cm"
      },
      "outputs": [],
      "source": [
        "WINDOW=30\n",
        "HORIZON=1"
      ]
    },
    {
      "cell_type": "code",
      "execution_count": 45,
      "metadata": {
        "colab": {
          "base_uri": "https://localhost:8080/"
        },
        "id": "XcXAjQzqrDQs",
        "outputId": "f2d81223-2fb0-418e-852f-bd77aaa4a0f3"
      },
      "outputs": [
        {
          "output_type": "execute_result",
          "data": {
            "text/plain": [
              "(2757, 2757)"
            ]
          },
          "metadata": {},
          "execution_count": 45
        }
      ],
      "source": [
        "full_windows,full_labels=make_windows(prices,30,1)\n",
        "len(full_windows),len(full_labels)"
      ]
    },
    {
      "cell_type": "code",
      "execution_count": 46,
      "metadata": {
        "colab": {
          "base_uri": "https://localhost:8080/"
        },
        "id": "f-Ma-GmCrsua",
        "outputId": "af695344-176f-48b6-f9f4-7798c93f481d"
      },
      "outputs": [
        {
          "output_type": "execute_result",
          "data": {
            "text/plain": [
              "(2205, 552, 2205, 552)"
            ]
          },
          "metadata": {},
          "execution_count": 46
        }
      ],
      "source": [
        "# Make train and testing windows\n",
        "train_windows, test_windows, train_labels, test_labels = train_test_split(windows=full_windows, labels=full_labels)\n",
        "len(train_windows), len(test_windows), len(train_labels), len(test_labels)\n",
        "     \n"
      ]
    },
    {
      "cell_type": "code",
      "execution_count": 47,
      "metadata": {
        "colab": {
          "base_uri": "https://localhost:8080/"
        },
        "id": "X8Zl9JDZsAIN",
        "outputId": "f4570c0f-1037-49c4-d39d-f3a620298c25"
      },
      "outputs": [
        {
          "output_type": "execute_result",
          "data": {
            "text/plain": [
              "<keras.callbacks.History at 0x7f92f02d3790>"
            ]
          },
          "metadata": {},
          "execution_count": 47
        }
      ],
      "source": [
        "tf.random.set_seed(42)\n",
        "\n",
        "# Create model (same model as model 1 but data input will be different)\n",
        "model_2 = tf.keras.Sequential([\n",
        "  layers.Dense(128, activation=\"relu\"),\n",
        "  layers.Dense(HORIZON) # need to predict horizon number of steps into the future\n",
        "], name=\"model_2_dense\")\n",
        "\n",
        "model_2.compile(loss=\"mae\",\n",
        "                optimizer=tf.keras.optimizers.Adam(),\n",
        "                metrics=[\"mae\"])\n",
        "\n",
        "model_2.fit(train_windows,\n",
        "            train_labels,\n",
        "            epochs=100,\n",
        "            batch_size=128,\n",
        "            verbose=0,\n",
        "            validation_data=(test_windows, test_labels),\n",
        "            callbacks=[create_model_checkpoint(model_name=model_2.name)])"
      ]
    },
    {
      "cell_type": "code",
      "execution_count": 48,
      "metadata": {
        "colab": {
          "base_uri": "https://localhost:8080/"
        },
        "id": "murTd3aIscWY",
        "outputId": "479665c7-b4cc-44c2-f0bc-e1cab31a88fe"
      },
      "outputs": [
        {
          "output_type": "stream",
          "name": "stdout",
          "text": [
            "18/18 [==============================] - 0s 2ms/step - loss: 618.0146 - mae: 618.0146\n"
          ]
        },
        {
          "output_type": "execute_result",
          "data": {
            "text/plain": [
              "[618.0145874023438, 618.0145874023438]"
            ]
          },
          "metadata": {},
          "execution_count": 48
        }
      ],
      "source": [
        "model_2.evaluate(test_windows,test_labels)"
      ]
    },
    {
      "cell_type": "code",
      "execution_count": 49,
      "metadata": {
        "colab": {
          "base_uri": "https://localhost:8080/"
        },
        "id": "rSQZu7TTtJ4N",
        "outputId": "55a6e2fb-1fa5-40a2-f446-032a30945f8d"
      },
      "outputs": [
        {
          "output_type": "stream",
          "name": "stdout",
          "text": [
            "18/18 [==============================] - 0s 2ms/step - loss: 610.1381 - mae: 610.1381\n"
          ]
        },
        {
          "output_type": "execute_result",
          "data": {
            "text/plain": [
              "[610.1381225585938, 610.1381225585938]"
            ]
          },
          "metadata": {},
          "execution_count": 49
        }
      ],
      "source": [
        "model_2 = tf.keras.models.load_model(\"/content/model_experiments/model_2_dense\")\n",
        "model_2.evaluate(test_windows, test_labels)"
      ]
    },
    {
      "cell_type": "code",
      "execution_count": 50,
      "metadata": {
        "colab": {
          "base_uri": "https://localhost:8080/"
        },
        "id": "wXNYGiP9sz0_",
        "outputId": "0ce0044d-8032-4539-88e3-6b2fd05e055a"
      },
      "outputs": [
        {
          "output_type": "stream",
          "name": "stdout",
          "text": [
            "18/18 [==============================] - 0s 2ms/step\n"
          ]
        },
        {
          "output_type": "execute_result",
          "data": {
            "text/plain": [
              "(552,\n",
              " <tf.Tensor: shape=(10,), dtype=float32, numpy=\n",
              " array([8918.372 , 8897.315 , 8791.241 , 8553.886 , 8345.148 , 8315.473 ,\n",
              "        8189.663 , 8240.781 , 8209.007 , 7638.6533], dtype=float32)>)"
            ]
          },
          "metadata": {},
          "execution_count": 50
        }
      ],
      "source": [
        "model_2_preds = make_preds(model_2, test_windows)\n",
        "len(model_2_preds), model_2_preds[:10]"
      ]
    },
    {
      "cell_type": "markdown",
      "metadata": {
        "id": "y3D4KDXQtf8a"
      },
      "source": [
        "####**model_2_results**"
      ]
    },
    {
      "cell_type": "code",
      "execution_count": 51,
      "metadata": {
        "colab": {
          "base_uri": "https://localhost:8080/"
        },
        "id": "ZpJq12aPtf8j",
        "outputId": "72ad9e6d-4b52-4571-d508-7ba5536b84d8"
      },
      "outputs": [
        {
          "output_type": "execute_result",
          "data": {
            "text/plain": [
              "{'mae': 610.1381,\n",
              " 'mse': 1256691.4,\n",
              " 'rmse': 1121.0225,\n",
              " 'mape': 2.7786732,\n",
              " 'mase': 1.0665275}"
            ]
          },
          "metadata": {},
          "execution_count": 51
        }
      ],
      "source": [
        "model_2_results=evaluate_preds(tf.squeeze(test_labels),model_2_preds)\n",
        "model_2_results"
      ]
    },
    {
      "cell_type": "code",
      "execution_count": 52,
      "metadata": {
        "colab": {
          "base_uri": "https://localhost:8080/"
        },
        "id": "rPlVBhcntf8j",
        "outputId": "22d09cfa-4635-45bc-9c57-98d1b9f2ef48"
      },
      "outputs": [
        {
          "output_type": "execute_result",
          "data": {
            "text/plain": [
              "{'mae': 567.9802,\n",
              " 'mse': 1147547.0,\n",
              " 'rmse': 1071.2362,\n",
              " 'mape': 2.516525,\n",
              " 'mase': 0.99957}"
            ]
          },
          "metadata": {},
          "execution_count": 52
        }
      ],
      "source": [
        "naive_results"
      ]
    },
    {
      "cell_type": "code",
      "execution_count": 53,
      "metadata": {
        "colab": {
          "base_uri": "https://localhost:8080/",
          "height": 623
        },
        "id": "uQXs8f0htf8j",
        "outputId": "58d50fa3-7f67-43b7-ed08-e387649dddb9"
      },
      "outputs": [
        {
          "output_type": "display_data",
          "data": {
            "text/plain": [
              "<Figure size 1000x700 with 1 Axes>"
            ],
            "image/png": "[encoded data removed]"
          },
          "metadata": {}
        }
      ],
      "source": [
        "offset = 450\n",
        "plt.figure(figsize=(10, 7))\n",
        "# Account for the test_window offset and index into test_labels to ensure correct plotting\n",
        "plot_time_series(timesteps=x_test[-len(test_windows):], values=test_labels[:, 0], start=offset, label=\"Test_data\")\n",
        "plot_time_series(timesteps=x_test[-len(test_windows):], values=model_2_preds, start=offset, format=\"-\", label=\"model_1_preds\")\n",
        "     \n"
      ]
    },
    {
      "cell_type": "markdown",
      "metadata": {
        "id": "X_XwcDX3ttXx"
      },
      "source": [
        "###**Model 3: Dense (window = 30, horizon = 7)**\n",
        "\n",
        "---\n",
        "\n",
        "\n",
        "\n",
        "---\n",
        "\n"
      ]
    },
    {
      "cell_type": "code",
      "execution_count": 54,
      "metadata": {
        "id": "0OzT5hhFxMnM"
      },
      "outputs": [],
      "source": [
        "WINDOW=30\n",
        "HORIZON=7"
      ]
    },
    {
      "cell_type": "code",
      "execution_count": 55,
      "metadata": {
        "colab": {
          "base_uri": "https://localhost:8080/"
        },
        "id": "M_8lKR8IxhMY",
        "outputId": "6d0f2190-c8ad-4983-9b84-d72f954d6f14"
      },
      "outputs": [
        {
          "output_type": "execute_result",
          "data": {
            "text/plain": [
              "(2751, 2751)"
            ]
          },
          "metadata": {},
          "execution_count": 55
        }
      ],
      "source": [
        "full_windows,full_labels=make_windows(prices,30,7)\n",
        "len(full_windows),len(full_labels)"
      ]
    },
    {
      "cell_type": "code",
      "execution_count": 56,
      "metadata": {
        "colab": {
          "base_uri": "https://localhost:8080/"
        },
        "id": "c5mOiUa1xznM",
        "outputId": "fe5a6e64-251f-4623-8ad6-7406a3178a27"
      },
      "outputs": [
        {
          "output_type": "execute_result",
          "data": {
            "text/plain": [
              "(2200, 551, 2200, 551)"
            ]
          },
          "metadata": {},
          "execution_count": 56
        }
      ],
      "source": [
        "# Make train and testing windows\n",
        "train_windows, test_windows, train_labels, test_labels = train_test_split(windows=full_windows, labels=full_labels)\n",
        "len(train_windows), len(test_windows), len(train_labels), len(test_labels)"
      ]
    },
    {
      "cell_type": "code",
      "execution_count": 57,
      "metadata": {
        "colab": {
          "base_uri": "https://localhost:8080/"
        },
        "id": "SKaMZicHyDke",
        "outputId": "ed2fc3a4-272b-43f2-acfa-3229fe06c9c1"
      },
      "outputs": [
        {
          "output_type": "execute_result",
          "data": {
            "text/plain": [
              "<keras.callbacks.History at 0x7f92f182b160>"
            ]
          },
          "metadata": {},
          "execution_count": 57
        }
      ],
      "source": [
        "tf.random.set_seed(42)\n",
        "\n",
        "# Create model (same model as model 1 but data input will be different)\n",
        "model_3 = tf.keras.Sequential([\n",
        "  layers.Dense(128, activation=\"relu\"),\n",
        "  layers.Dense(HORIZON) # need to predict horizon number of steps into the future\n",
        "], name=\"model_3_dense\")\n",
        "\n",
        "model_3.compile(loss=\"mae\",\n",
        "                optimizer=tf.keras.optimizers.Adam(),\n",
        "                metrics=[\"mae\"])\n",
        "\n",
        "model_3.fit(train_windows,\n",
        "            train_labels,\n",
        "            epochs=100,\n",
        "            batch_size=128,\n",
        "            verbose=0,\n",
        "            validation_data=(test_windows, test_labels),\n",
        "            callbacks=[create_model_checkpoint(model_name=model_3.name)])"
      ]
    },
    {
      "cell_type": "code",
      "execution_count": 58,
      "metadata": {
        "colab": {
          "base_uri": "https://localhost:8080/"
        },
        "id": "uBaXpJ7IyPuB",
        "outputId": "57606e5e-8b28-460d-d74b-da4ac550963e"
      },
      "outputs": [
        {
          "output_type": "stream",
          "name": "stdout",
          "text": [
            "18/18 [==============================] - 0s 2ms/step - loss: 1328.5098 - mae: 1328.5098\n"
          ]
        },
        {
          "output_type": "execute_result",
          "data": {
            "text/plain": [
              "[1328.509765625, 1328.509765625]"
            ]
          },
          "metadata": {},
          "execution_count": 58
        }
      ],
      "source": [
        "model_3.evaluate(test_windows,test_labels)"
      ]
    },
    {
      "cell_type": "code",
      "execution_count": 59,
      "metadata": {
        "colab": {
          "base_uri": "https://localhost:8080/"
        },
        "id": "3O0on7Cxygzo",
        "outputId": "d9d8120c-549b-4934-f904-b2a201bc673c"
      },
      "outputs": [
        {
          "output_type": "stream",
          "name": "stdout",
          "text": [
            "18/18 [==============================] - 0s 3ms/step - loss: 1252.0024 - mae: 1252.0024\n"
          ]
        },
        {
          "output_type": "execute_result",
          "data": {
            "text/plain": [
              "[1252.00244140625, 1252.00244140625]"
            ]
          },
          "metadata": {},
          "execution_count": 59
        }
      ],
      "source": [
        "\n",
        "# Load in best version of model_3 and evaluate\n",
        "model_3 = tf.keras.models.load_model(\"model_experiments/model_3_dense\")\n",
        "model_3.evaluate(test_windows, test_labels)"
      ]
    },
    {
      "cell_type": "code",
      "execution_count": 60,
      "metadata": {
        "colab": {
          "base_uri": "https://localhost:8080/"
        },
        "id": "FBp0-aUvyo9K",
        "outputId": "e32b5695-e379-4d4f-92fc-4d70701326d0"
      },
      "outputs": [
        {
          "output_type": "stream",
          "name": "stdout",
          "text": [
            "18/18 [==============================] - 0s 2ms/step\n"
          ]
        },
        {
          "output_type": "execute_result",
          "data": {
            "text/plain": [
              "(551,\n",
              " <tf.Tensor: shape=(10, 7), dtype=float32, numpy=\n",
              " array([[9516.442 , 9244.686 , 9266.79  , 9472.903 , 9429.934 , 9347.657 ,\n",
              "         9475.156 ],\n",
              "        [9199.978 , 8980.112 , 8997.095 , 9012.022 , 9100.929 , 8992.812 ,\n",
              "         9157.697 ],\n",
              "        [8880.318 , 8856.626 , 8776.299 , 8846.542 , 9019.864 , 8886.356 ,\n",
              "         9039.922 ],\n",
              "        [8976.797 , 9219.7   , 8937.683 , 9009.28  , 9203.85  , 9047.763 ,\n",
              "         9087.887 ],\n",
              "        [8832.872 , 9197.9375, 8770.516 , 9114.745 , 9073.372 , 8992.017 ,\n",
              "         8884.442 ],\n",
              "        [8880.292 , 8995.999 , 8781.601 , 9150.312 , 9060.804 , 8888.408 ,\n",
              "         8824.691 ],\n",
              "        [8896.624 , 8781.894 , 8769.119 , 8893.954 , 9110.134 , 8572.329 ,\n",
              "         8722.455 ],\n",
              "        [8830.616 , 8567.092 , 8555.026 , 8608.961 , 8828.877 , 8268.565 ,\n",
              "         8583.671 ],\n",
              "        [8720.503 , 8562.106 , 8503.336 , 8466.982 , 8577.236 , 8108.017 ,\n",
              "         8371.32  ],\n",
              "        [8542.448 , 8611.005 , 8357.274 , 8442.763 , 8438.721 , 8177.793 ,\n",
              "         8475.246 ]], dtype=float32)>)"
            ]
          },
          "metadata": {},
          "execution_count": 60
        }
      ],
      "source": [
        "model_3_preds=make_preds(model_3,test_windows)\n",
        "len(model_3_preds), model_3_preds[:10]"
      ]
    },
    {
      "cell_type": "markdown",
      "metadata": {
        "id": "W32HADMHzf7k"
      },
      "source": [
        "####**model_3_results**"
      ]
    },
    {
      "cell_type": "code",
      "execution_count": 61,
      "metadata": {
        "id": "2OnQnRQ53c_z"
      },
      "outputs": [],
      "source": [
        "def evaluate_preds(y_true, y_pred):\n",
        "  # Make sure float32 (for metric calculations)\n",
        "  y_true = tf.cast(y_true, dtype=tf.float32)\n",
        "  y_pred = tf.cast(y_pred, dtype=tf.float32)\n",
        "\n",
        "  # Calculate various metrics\n",
        "  mae = tf.keras.metrics.mean_absolute_error(y_true, y_pred)\n",
        "  mse = tf.keras.metrics.mean_squared_error(y_true, y_pred) # puts and emphasis on outliers (all errors get squared)\n",
        "  rmse = tf.sqrt(mse)\n",
        "  mape = tf.keras.metrics.mean_absolute_percentage_error(y_true, y_pred)\n",
        "  mase = mean_absolute_scaled_error(y_true, y_pred)\n",
        "\n",
        "  if mae.ndim >0: \n",
        "    mae=tf.reduce_mean(mae)\n",
        "    mse = tf.reduce_mean(mse)\n",
        "    rmse = tf.reduce_mean(rmse)\n",
        "    mape = tf.reduce_mean(mape)\n",
        "    mase = tf.reduce_mean(mase)\n",
        "  \n",
        "  return {\"mae\": mae.numpy(),\n",
        "          \"mse\": mse.numpy(),\n",
        "          \"rmse\": rmse.numpy(),\n",
        "          \"mape\": mape.numpy(),\n",
        "          \"mase\": mase.numpy()}"
      ]
    },
    {
      "cell_type": "code",
      "execution_count": 62,
      "metadata": {
        "colab": {
          "base_uri": "https://localhost:8080/"
        },
        "id": "L7poSTsN7cHN",
        "outputId": "a187888e-d484-401c-b009-b1861ea7daf4"
      },
      "outputs": [
        {
          "output_type": "execute_result",
          "data": {
            "text/plain": [
              "{'mae': 1252.0024,\n",
              " 'mse': 5434760.0,\n",
              " 'rmse': 1436.9645,\n",
              " 'mape': 5.6086025,\n",
              " 'mase': 2.2278683}"
            ]
          },
          "metadata": {},
          "execution_count": 62
        }
      ],
      "source": [
        "model_3_results=evaluate_preds(tf.squeeze(test_labels),model_3_preds)\n",
        "model_3_results"
      ]
    },
    {
      "cell_type": "code",
      "execution_count": 63,
      "metadata": {
        "colab": {
          "base_uri": "https://localhost:8080/",
          "height": 619
        },
        "id": "ljJTTpeZ7y1b",
        "outputId": "aa03af2a-5761-4fbe-89c8-9a3115deb5b8"
      },
      "outputs": [
        {
          "output_type": "display_data",
          "data": {
            "text/plain": [
              "<Figure size 1000x700 with 1 Axes>"
            ],
            "image/png": "[encoded data removed]"
          },
          "metadata": {}
        }
      ],
      "source": [
        "offset = 450\n",
        "plt.figure(figsize=(10, 7))\n",
        "# Account for the test_window offset and index into test_labels to ensure correct plotting\n",
        "plot_time_series(timesteps=x_test[-len(test_windows):], values=test_labels[:, 0], start=offset, label=\"Test_data\")\n",
        "plot_time_series(timesteps=x_test[-len(test_windows):], values=tf.reduce_mean(model_3_preds,axis=1), start=offset, format=\"-\", label=\"model_3_preds\")\n",
        "     \n"
      ]
    },
    {
      "cell_type": "code",
      "execution_count": 64,
      "metadata": {
        "colab": {
          "base_uri": "https://localhost:8080/",
          "height": 634
        },
        "id": "m7Gyvm3s8DZp",
        "outputId": "362b835a-d867-49cb-c939-f5bcf395fe62"
      },
      "outputs": [
        {
          "output_type": "execute_result",
          "data": {
            "text/plain": [
              "<Axes: >"
            ]
          },
          "metadata": {},
          "execution_count": 64
        },
        {
          "output_type": "display_data",
          "data": {
            "text/plain": [
              "<Figure size 1000x700 with 1 Axes>"
            ],
            "image/png": "[encoded data removed]"
          },
          "metadata": {}
        }
      ],
      "source": [
        "pd.DataFrame({\"naive\": naive_results[\"mae\"], \n",
        "              \"horizon_1_window_7\": model_1_results[\"mae\"], \n",
        "              \"horizon_1_window_30\": model_2_results[\"mae\"], \n",
        "              \"horizon_7_window_30\": model_3_results[\"mae\"]},index=[\"mae\"]).plot(figsize=(10,7),kind=\"bar\")"
      ]
    },
    {
      "cell_type": "markdown",
      "metadata": {
        "id": "vQPjIy1v-oPo"
      },
      "source": [
        "###**Model 4: Conv1D**"
      ]
    },
    {
      "cell_type": "code",
      "execution_count": 65,
      "metadata": {
        "id": "ryVHMFLIC7Lv"
      },
      "outputs": [],
      "source": [
        "WINDOW=7\n",
        "HORIZON=1"
      ]
    },
    {
      "cell_type": "code",
      "execution_count": 66,
      "metadata": {
        "colab": {
          "base_uri": "https://localhost:8080/"
        },
        "id": "avihc6F_C7p8",
        "outputId": "4815750e-ca4a-478c-d3b6-89aafefd556a"
      },
      "outputs": [
        {
          "output_type": "execute_result",
          "data": {
            "text/plain": [
              "(2780, 2780)"
            ]
          },
          "metadata": {},
          "execution_count": 66
        }
      ],
      "source": [
        "full_windows,full_labels=make_windows(prices,window_size=WINDOW,horizon=HORIZON)\n",
        "len(full_windows),len(full_labels)"
      ]
    },
    {
      "cell_type": "code",
      "execution_count": 67,
      "metadata": {
        "id": "Nk5s46IGC8H7"
      },
      "outputs": [],
      "source": [
        "train_windows,test_windows,train_labels,test_labels=train_test_split(full_windows,full_labels)"
      ]
    },
    {
      "cell_type": "code",
      "execution_count": 68,
      "metadata": {
        "colab": {
          "base_uri": "https://localhost:8080/"
        },
        "id": "Dm6w6bKYC8mM",
        "outputId": "f9f78239-75fb-45ce-ca3f-66486f52a8c2"
      },
      "outputs": [
        {
          "output_type": "execute_result",
          "data": {
            "text/plain": [
              "(2224, 556, 2224, 556)"
            ]
          },
          "metadata": {},
          "execution_count": 68
        }
      ],
      "source": [
        "len(train_windows),len(test_windows),len(train_labels),len(test_labels)"
      ]
    },
    {
      "cell_type": "code",
      "execution_count": 69,
      "metadata": {
        "colab": {
          "base_uri": "https://localhost:8080/"
        },
        "id": "iMeweVGlC9Em",
        "outputId": "9321b3b8-073f-4341-c841-d2e1b88e3409"
      },
      "outputs": [
        {
          "output_type": "execute_result",
          "data": {
            "text/plain": [
              "(7,)"
            ]
          },
          "metadata": {},
          "execution_count": 69
        }
      ],
      "source": [
        "train_windows[0].shape"
      ]
    },
    {
      "cell_type": "code",
      "execution_count": 70,
      "metadata": {
        "colab": {
          "base_uri": "https://localhost:8080/"
        },
        "id": "KIKKbR_iC9i2",
        "outputId": "409b5368-baca-4d87-8e94-d35f22705f86"
      },
      "outputs": [
        {
          "output_type": "stream",
          "name": "stdout",
          "text": [
            "Original shape: (7,)\n",
            "Expanded shape: (7, 1)\n",
            "Original values with expanded shape:\n",
            " [[123.65499]\n",
            " [125.455  ]\n",
            " [108.58483]\n",
            " [118.67466]\n",
            " [121.33866]\n",
            " [120.65533]\n",
            " [121.795  ]]\n"
          ]
        }
      ],
      "source": [
        "# Before we pass our data to the Conv1D layer, we have to reshape it in order to make sure it works\n",
        "x = tf.constant(train_windows[0])\n",
        "expand_dims_layer=layers.Lambda(lambda x:tf.expand_dims(x,axis=1))\n",
        "print(f\"Original shape: {x.shape}\") # (WINDOW_SIZE)\n",
        "print(f\"Expanded shape: {expand_dims_layer(x).shape}\") # (WINDOW_SIZE, input_dim) \n",
        "print(f\"Original values with expanded shape:\\n {expand_dims_layer(x)}\")"
      ]
    },
    {
      "cell_type": "code",
      "execution_count": 71,
      "metadata": {
        "colab": {
          "base_uri": "https://localhost:8080/"
        },
        "id": "gHPX3QJfC-BO",
        "outputId": "71e04ab4-7e1b-48c4-a62c-ad7c6541371c"
      },
      "outputs": [
        {
          "output_type": "stream",
          "name": "stdout",
          "text": [
            "Epoch 1/100\n",
            "18/18 [==============================] - 7s 96ms/step - loss: 1943.2927 - val_loss: 2537.9561\n",
            "Epoch 2/100\n",
            "18/18 [==============================] - 1s 46ms/step - loss: 314.8440 - val_loss: 1418.9437\n",
            "Epoch 3/100\n",
            "18/18 [==============================] - 1s 42ms/step - loss: 217.8332 - val_loss: 1060.4446\n",
            "Epoch 4/100\n",
            "18/18 [==============================] - 1s 40ms/step - loss: 188.0323 - val_loss: 1024.2479\n",
            "Epoch 5/100\n",
            "18/18 [==============================] - 0s 5ms/step - loss: 183.0656 - val_loss: 1036.6456\n",
            "Epoch 6/100\n",
            "18/18 [==============================] - 1s 41ms/step - loss: 178.9683 - val_loss: 1003.2878\n",
            "Epoch 7/100\n",
            "18/18 [==============================] - 1s 41ms/step - loss: 177.4721 - val_loss: 988.8280\n",
            "Epoch 8/100\n",
            "18/18 [==============================] - 1s 41ms/step - loss: 174.3266 - val_loss: 985.8171\n",
            "Epoch 9/100\n",
            "18/18 [==============================] - 1s 40ms/step - loss: 171.4945 - val_loss: 983.8514\n",
            "Epoch 10/100\n",
            "18/18 [==============================] - 1s 41ms/step - loss: 169.0913 - val_loss: 945.4698\n",
            "Epoch 11/100\n",
            "18/18 [==============================] - 1s 41ms/step - loss: 165.8390 - val_loss: 924.9506\n",
            "Epoch 12/100\n",
            "18/18 [==============================] - 0s 5ms/step - loss: 164.5002 - val_loss: 982.7250\n",
            "Epoch 13/100\n",
            "18/18 [==============================] - 1s 41ms/step - loss: 161.9409 - val_loss: 919.4889\n",
            "Epoch 14/100\n",
            "18/18 [==============================] - 1s 60ms/step - loss: 157.7828 - val_loss: 907.6119\n",
            "Epoch 15/100\n",
            "18/18 [==============================] - 0s 5ms/step - loss: 157.2769 - val_loss: 910.7361\n",
            "Epoch 16/100\n",
            "18/18 [==============================] - 1s 41ms/step - loss: 152.5775 - val_loss: 858.3280\n",
            "Epoch 17/100\n",
            "18/18 [==============================] - 0s 6ms/step - loss: 149.4826 - val_loss: 858.9312\n",
            "Epoch 18/100\n",
            "18/18 [==============================] - 1s 41ms/step - loss: 147.6760 - val_loss: 856.1777\n",
            "Epoch 19/100\n",
            "18/18 [==============================] - 1s 59ms/step - loss: 144.1039 - val_loss: 825.1283\n",
            "Epoch 20/100\n",
            "18/18 [==============================] - 2s 113ms/step - loss: 142.4051 - val_loss: 788.6102\n",
            "Epoch 21/100\n",
            "18/18 [==============================] - 1s 41ms/step - loss: 141.0674 - val_loss: 768.3837\n",
            "Epoch 22/100\n",
            "18/18 [==============================] - 1s 41ms/step - loss: 139.2083 - val_loss: 756.7912\n",
            "Epoch 23/100\n",
            "18/18 [==============================] - 1s 41ms/step - loss: 135.0536 - val_loss: 756.1022\n",
            "Epoch 24/100\n",
            "18/18 [==============================] - 1s 41ms/step - loss: 136.2882 - val_loss: 734.2480\n",
            "Epoch 25/100\n",
            "18/18 [==============================] - 1s 41ms/step - loss: 135.6851 - val_loss: 721.4728\n",
            "Epoch 26/100\n",
            "18/18 [==============================] - 0s 6ms/step - loss: 131.5488 - val_loss: 732.3226\n",
            "Epoch 27/100\n",
            "18/18 [==============================] - 1s 42ms/step - loss: 129.6966 - val_loss: 707.3805\n",
            "Epoch 28/100\n",
            "18/18 [==============================] - 1s 70ms/step - loss: 126.8484 - val_loss: 693.6835\n",
            "Epoch 29/100\n",
            "18/18 [==============================] - 0s 6ms/step - loss: 125.2376 - val_loss: 699.8223\n",
            "Epoch 30/100\n",
            "18/18 [==============================] - 0s 6ms/step - loss: 129.1349 - val_loss: 797.9452\n",
            "Epoch 31/100\n",
            "18/18 [==============================] - 0s 10ms/step - loss: 137.5129 - val_loss: 802.5679\n",
            "Epoch 32/100\n",
            "18/18 [==============================] - 0s 16ms/step - loss: 130.3659 - val_loss: 737.9883\n",
            "Epoch 33/100\n",
            "18/18 [==============================] - 2s 102ms/step - loss: 126.8552 - val_loss: 688.3750\n",
            "Epoch 34/100\n",
            "18/18 [==============================] - 1s 77ms/step - loss: 121.8155 - val_loss: 658.6497\n",
            "Epoch 35/100\n",
            "18/18 [==============================] - 0s 6ms/step - loss: 121.0874 - val_loss: 662.5642\n",
            "Epoch 36/100\n",
            "18/18 [==============================] - 0s 6ms/step - loss: 125.4939 - val_loss: 716.3400\n",
            "Epoch 37/100\n",
            "18/18 [==============================] - 1s 57ms/step - loss: 120.4332 - val_loss: 638.6324\n",
            "Epoch 38/100\n",
            "18/18 [==============================] - 0s 9ms/step - loss: 118.8994 - val_loss: 639.2433\n",
            "Epoch 39/100\n",
            "18/18 [==============================] - 0s 9ms/step - loss: 118.2117 - val_loss: 671.6427\n",
            "Epoch 40/100\n",
            "18/18 [==============================] - 1s 63ms/step - loss: 116.6147 - val_loss: 625.2916\n",
            "Epoch 41/100\n",
            "18/18 [==============================] - 1s 48ms/step - loss: 116.0022 - val_loss: 623.9705\n",
            "Epoch 42/100\n",
            "18/18 [==============================] - 1s 43ms/step - loss: 119.6597 - val_loss: 612.4771\n",
            "Epoch 43/100\n",
            "18/18 [==============================] - 1s 41ms/step - loss: 114.1819 - val_loss: 611.7657\n",
            "Epoch 44/100\n",
            "18/18 [==============================] - 1s 42ms/step - loss: 114.0104 - val_loss: 605.8201\n",
            "Epoch 45/100\n",
            "18/18 [==============================] - 1s 42ms/step - loss: 114.1688 - val_loss: 604.8820\n",
            "Epoch 46/100\n",
            "18/18 [==============================] - 1s 40ms/step - loss: 114.2091 - val_loss: 600.3804\n",
            "Epoch 47/100\n",
            "18/18 [==============================] - 0s 5ms/step - loss: 118.7141 - val_loss: 717.3102\n",
            "Epoch 48/100\n",
            "18/18 [==============================] - 0s 5ms/step - loss: 113.7741 - val_loss: 607.6879\n",
            "Epoch 49/100\n",
            "18/18 [==============================] - 1s 40ms/step - loss: 113.3744 - val_loss: 599.6866\n",
            "Epoch 50/100\n",
            "18/18 [==============================] - 0s 6ms/step - loss: 118.8853 - val_loss: 674.2117\n",
            "Epoch 51/100\n",
            "18/18 [==============================] - 1s 41ms/step - loss: 113.6555 - val_loss: 597.5032\n",
            "Epoch 52/100\n",
            "18/18 [==============================] - 0s 6ms/step - loss: 113.9497 - val_loss: 624.6522\n",
            "Epoch 53/100\n",
            "18/18 [==============================] - 0s 6ms/step - loss: 115.5642 - val_loss: 618.7962\n",
            "Epoch 54/100\n",
            "18/18 [==============================] - 0s 6ms/step - loss: 117.6403 - val_loss: 655.5432\n",
            "Epoch 55/100\n",
            "18/18 [==============================] - 1s 60ms/step - loss: 114.0265 - val_loss: 593.4374\n",
            "Epoch 56/100\n",
            "18/18 [==============================] - 0s 6ms/step - loss: 110.8348 - val_loss: 773.1078\n",
            "Epoch 57/100\n",
            "18/18 [==============================] - 0s 6ms/step - loss: 125.6782 - val_loss: 691.9136\n",
            "Epoch 58/100\n",
            "18/18 [==============================] - 0s 6ms/step - loss: 118.8224 - val_loss: 618.3206\n",
            "Epoch 59/100\n",
            "18/18 [==============================] - 1s 42ms/step - loss: 111.3264 - val_loss: 587.6719\n",
            "Epoch 60/100\n",
            "18/18 [==============================] - 0s 6ms/step - loss: 112.4498 - val_loss: 624.9889\n",
            "Epoch 61/100\n",
            "18/18 [==============================] - 0s 6ms/step - loss: 111.7578 - val_loss: 600.5043\n",
            "Epoch 62/100\n",
            "18/18 [==============================] - 0s 5ms/step - loss: 110.4072 - val_loss: 606.1875\n",
            "Epoch 63/100\n",
            "18/18 [==============================] - 1s 42ms/step - loss: 112.7847 - val_loss: 586.2197\n",
            "Epoch 64/100\n",
            "18/18 [==============================] - 0s 6ms/step - loss: 112.2582 - val_loss: 665.1273\n",
            "Epoch 65/100\n",
            "18/18 [==============================] - 0s 6ms/step - loss: 118.5713 - val_loss: 599.0792\n",
            "Epoch 66/100\n",
            "18/18 [==============================] - 0s 5ms/step - loss: 112.0627 - val_loss: 588.2449\n",
            "Epoch 67/100\n",
            "18/18 [==============================] - 0s 6ms/step - loss: 108.8874 - val_loss: 601.6703\n",
            "Epoch 68/100\n",
            "18/18 [==============================] - 0s 6ms/step - loss: 113.9599 - val_loss: 682.8723\n",
            "Epoch 69/100\n",
            "18/18 [==============================] - 0s 7ms/step - loss: 122.9908 - val_loss: 614.3686\n",
            "Epoch 70/100\n",
            "18/18 [==============================] - 0s 9ms/step - loss: 124.9675 - val_loss: 596.5840\n",
            "Epoch 71/100\n",
            "18/18 [==============================] - 0s 8ms/step - loss: 112.0079 - val_loss: 595.0179\n",
            "Epoch 72/100\n",
            "18/18 [==============================] - 1s 58ms/step - loss: 109.9857 - val_loss: 575.3696\n",
            "Epoch 73/100\n",
            "18/18 [==============================] - 0s 8ms/step - loss: 108.9441 - val_loss: 582.2492\n",
            "Epoch 74/100\n",
            "18/18 [==============================] - 1s 56ms/step - loss: 109.4041 - val_loss: 571.5624\n",
            "Epoch 75/100\n",
            "18/18 [==============================] - 0s 6ms/step - loss: 108.6907 - val_loss: 590.9436\n",
            "Epoch 76/100\n",
            "18/18 [==============================] - 1s 43ms/step - loss: 109.5831 - val_loss: 570.0481\n",
            "Epoch 77/100\n",
            "18/18 [==============================] - 0s 6ms/step - loss: 108.4515 - val_loss: 583.3287\n",
            "Epoch 78/100\n",
            "18/18 [==============================] - 0s 7ms/step - loss: 109.5347 - val_loss: 571.6996\n",
            "Epoch 79/100\n",
            "18/18 [==============================] - 0s 6ms/step - loss: 109.6776 - val_loss: 608.3713\n",
            "Epoch 80/100\n",
            "18/18 [==============================] - 0s 6ms/step - loss: 108.7414 - val_loss: 579.4880\n",
            "Epoch 81/100\n",
            "18/18 [==============================] - 0s 6ms/step - loss: 108.6419 - val_loss: 574.1175\n",
            "Epoch 82/100\n",
            "18/18 [==============================] - 0s 6ms/step - loss: 117.6016 - val_loss: 596.5451\n",
            "Epoch 83/100\n",
            "18/18 [==============================] - 0s 5ms/step - loss: 110.5150 - val_loss: 664.7589\n",
            "Epoch 84/100\n",
            "18/18 [==============================] - 0s 5ms/step - loss: 111.3385 - val_loss: 585.1758\n",
            "Epoch 85/100\n",
            "18/18 [==============================] - 0s 6ms/step - loss: 108.7332 - val_loss: 605.3564\n",
            "Epoch 86/100\n",
            "18/18 [==============================] - 0s 6ms/step - loss: 109.2869 - val_loss: 600.6724\n",
            "Epoch 87/100\n",
            "18/18 [==============================] - 0s 6ms/step - loss: 107.4966 - val_loss: 579.8408\n",
            "Epoch 88/100\n",
            "18/18 [==============================] - 0s 5ms/step - loss: 108.2987 - val_loss: 590.6114\n",
            "Epoch 89/100\n",
            "18/18 [==============================] - 1s 42ms/step - loss: 108.2712 - val_loss: 565.6573\n",
            "Epoch 90/100\n",
            "18/18 [==============================] - 0s 5ms/step - loss: 107.4203 - val_loss: 619.5460\n",
            "Epoch 91/100\n",
            "18/18 [==============================] - 0s 6ms/step - loss: 114.6402 - val_loss: 632.4904\n",
            "Epoch 92/100\n",
            "18/18 [==============================] - 0s 6ms/step - loss: 109.5079 - val_loss: 573.6003\n",
            "Epoch 93/100\n",
            "18/18 [==============================] - 0s 6ms/step - loss: 114.0059 - val_loss: 592.4415\n",
            "Epoch 94/100\n",
            "18/18 [==============================] - 0s 6ms/step - loss: 110.2723 - val_loss: 580.5995\n",
            "Epoch 95/100\n",
            "18/18 [==============================] - 0s 6ms/step - loss: 106.5987 - val_loss: 572.6768\n",
            "Epoch 96/100\n",
            "18/18 [==============================] - 0s 6ms/step - loss: 109.7850 - val_loss: 612.9905\n",
            "Epoch 97/100\n",
            "18/18 [==============================] - 0s 6ms/step - loss: 109.3677 - val_loss: 571.9321\n",
            "Epoch 98/100\n",
            "18/18 [==============================] - 0s 5ms/step - loss: 107.8174 - val_loss: 567.1738\n",
            "Epoch 99/100\n",
            "18/18 [==============================] - 1s 40ms/step - loss: 107.8890 - val_loss: 565.3371\n",
            "Epoch 100/100\n",
            "18/18 [==============================] - 0s 6ms/step - loss: 118.0642 - val_loss: 656.9070\n"
          ]
        },
        {
          "output_type": "execute_result",
          "data": {
            "text/plain": [
              "<keras.callbacks.History at 0x7f92e807f760>"
            ]
          },
          "metadata": {},
          "execution_count": 71
        }
      ],
      "source": [
        "tf.random.set_seed(42)\n",
        "\n",
        "# Create model\n",
        "model_4 = tf.keras.Sequential([\n",
        "  # Create Lambda layer to reshape inputs, without this layer, the model will error\n",
        "  layers.Lambda(lambda x: tf.expand_dims(x, axis=1)), # resize the inputs to adjust for window size / Conv1D 3D input requirements\n",
        "  layers.Conv1D(filters=128, kernel_size=5, padding=\"causal\", activation=\"relu\"),\n",
        "  layers.Dense(HORIZON)\n",
        "], name=\"model_4_conv1D\")\n",
        "\n",
        "# Compile model\n",
        "model_4.compile(loss=\"mae\",\n",
        "                optimizer=tf.keras.optimizers.Adam())\n",
        "\n",
        "# Fit model\n",
        "model_4.fit( train_windows,\n",
        "            train_labels,\n",
        "            batch_size=128, \n",
        "            epochs=100,\n",
        "            verbose=1,\n",
        "            validation_data=(test_windows, test_labels),\n",
        "            callbacks=[create_model_checkpoint(model_name=model_4.name)])\n",
        "     "
      ]
    },
    {
      "cell_type": "code",
      "execution_count": 72,
      "metadata": {
        "id": "heDPiDNVC-fg",
        "colab": {
          "base_uri": "https://localhost:8080/"
        },
        "outputId": "cf1bdb1d-36f1-4b30-c395-1366a1a0875a"
      },
      "outputs": [
        {
          "output_type": "stream",
          "name": "stdout",
          "text": [
            "Model: \"model_4_conv1D\"\n",
            "_________________________________________________________________\n",
            " Layer (type)                Output Shape              Param #   \n",
            "=================================================================\n",
            " lambda_1 (Lambda)           (None, 1, 7)              0         \n",
            "                                                                 \n",
            " conv1d (Conv1D)             (None, 1, 128)            4608      \n",
            "                                                                 \n",
            " dense_6 (Dense)             (None, 1, 1)              129       \n",
            "                                                                 \n",
            "=================================================================\n",
            "Total params: 4,737\n",
            "Trainable params: 4,737\n",
            "Non-trainable params: 0\n",
            "_________________________________________________________________\n"
          ]
        }
      ],
      "source": [
        "model_4.summary()"
      ]
    },
    {
      "cell_type": "code",
      "execution_count": 73,
      "metadata": {
        "id": "xnNIPkXtC-8S",
        "colab": {
          "base_uri": "https://localhost:8080/"
        },
        "outputId": "5be0c126-8ae0-4e4a-d1c6-9c5c6bc727c9"
      },
      "outputs": [
        {
          "output_type": "stream",
          "name": "stdout",
          "text": [
            "18/18 [==============================] - 0s 4ms/step - loss: 656.9070\n"
          ]
        },
        {
          "output_type": "execute_result",
          "data": {
            "text/plain": [
              "656.906982421875"
            ]
          },
          "metadata": {},
          "execution_count": 73
        }
      ],
      "source": [
        "model_4.evaluate(test_windows,test_labels)"
      ]
    },
    {
      "cell_type": "code",
      "execution_count": 74,
      "metadata": {
        "id": "Gw4ZisV0S95e",
        "colab": {
          "base_uri": "https://localhost:8080/"
        },
        "outputId": "f629a769-81ee-4080-a139-7c18c5a42118"
      },
      "outputs": [
        {
          "output_type": "stream",
          "name": "stdout",
          "text": [
            "18/18 [==============================] - 0s 2ms/step - loss: 565.3370\n"
          ]
        },
        {
          "output_type": "execute_result",
          "data": {
            "text/plain": [
              "565.3370361328125"
            ]
          },
          "metadata": {},
          "execution_count": 74
        }
      ],
      "source": [
        "# Load in best performing Conv1D model and evaluate it on the test data\n",
        "model_4 = tf.keras.models.load_model(\"model_experiments/model_4_conv1D\")\n",
        "model_4.evaluate(test_windows, test_labels)"
      ]
    },
    {
      "cell_type": "code",
      "execution_count": 75,
      "metadata": {
        "id": "ZTSbaUTtC_Zw",
        "colab": {
          "base_uri": "https://localhost:8080/"
        },
        "outputId": "333bd5cd-b681-427c-9824-830bb4dba1ff"
      },
      "outputs": [
        {
          "output_type": "stream",
          "name": "stdout",
          "text": [
            "18/18 [==============================] - 0s 2ms/step\n"
          ]
        },
        {
          "output_type": "execute_result",
          "data": {
            "text/plain": [
              "<tf.Tensor: shape=(10,), dtype=float32, numpy=\n",
              "array([8856.907, 8778.806, 9001.561, 8772.088, 8741.933, 8718.641,\n",
              "       8662.34 , 8534.556, 8442.135, 8512.942], dtype=float32)>"
            ]
          },
          "metadata": {},
          "execution_count": 75
        }
      ],
      "source": [
        "# Make predictions\n",
        "model_4_preds = make_preds(model_4, test_windows)\n",
        "model_4_preds[:10]\n",
        "     "
      ]
    },
    {
      "cell_type": "markdown",
      "metadata": {
        "id": "Mp2MFQngCpdJ"
      },
      "source": [
        "####**model_4_results**"
      ]
    },
    {
      "cell_type": "code",
      "execution_count": 76,
      "metadata": {
        "id": "CvD6z-TbTIz_",
        "colab": {
          "base_uri": "https://localhost:8080/"
        },
        "outputId": "535561ea-02c1-473e-db06-f34d8dd8a6c6"
      },
      "outputs": [
        {
          "output_type": "execute_result",
          "data": {
            "text/plain": [
              "{'mae': 565.33704,\n",
              " 'mse': 1161932.5,\n",
              " 'rmse': 1077.9297,\n",
              " 'mape': 2.5273752,\n",
              " 'mase': 0.9931406}"
            ]
          },
          "metadata": {},
          "execution_count": 76
        }
      ],
      "source": [
        "model_4_results = evaluate_preds(y_true=tf.squeeze(test_labels),\n",
        "                                 y_pred=model_4_preds)\n",
        "model_4_results"
      ]
    },
    {
      "cell_type": "markdown",
      "metadata": {
        "id": "NeXuQjuzTJiL"
      },
      "source": [
        "###**Model 5: RNN(LSTM)**"
      ]
    },
    {
      "cell_type": "code",
      "execution_count": 77,
      "metadata": {
        "id": "xFeNo75CTZHE"
      },
      "outputs": [],
      "source": [
        "WINDOW=7\n",
        "HORIZON=1"
      ]
    },
    {
      "cell_type": "code",
      "execution_count": 78,
      "metadata": {
        "id": "AAqmW2CQTpYZ",
        "colab": {
          "base_uri": "https://localhost:8080/"
        },
        "outputId": "a0636e6b-9312-4675-a876-852537dccf13"
      },
      "outputs": [
        {
          "output_type": "stream",
          "name": "stderr",
          "text": [
            "WARNING:tensorflow:Layer lstm will not use cuDNN kernels since it doesn't meet the criteria. It will use a generic GPU kernel as fallback when running on GPU.\n"
          ]
        },
        {
          "output_type": "stream",
          "name": "stdout",
          "text": [
            "Epoch 1/100\n",
            "18/18 [==============================] - 4s 141ms/step - loss: 2570.5154 - val_loss: 12928.5107\n",
            "Epoch 2/100\n",
            "18/18 [==============================] - 2s 135ms/step - loss: 1217.7228 - val_loss: 1887.6327\n",
            "Epoch 3/100\n",
            "18/18 [==============================] - 2s 129ms/step - loss: 267.6445 - val_loss: 1057.3973\n",
            "Epoch 4/100\n",
            "18/18 [==============================] - 2s 105ms/step - loss: 203.8721 - val_loss: 1051.8514\n",
            "Epoch 5/100\n",
            "18/18 [==============================] - 0s 8ms/step - loss: 190.7456 - val_loss: 1063.1133\n",
            "Epoch 6/100\n",
            "18/18 [==============================] - 2s 131ms/step - loss: 185.1407 - val_loss: 964.0396\n",
            "Epoch 7/100\n",
            "18/18 [==============================] - 0s 8ms/step - loss: 178.5453 - val_loss: 1077.9254\n",
            "Epoch 8/100\n",
            "18/18 [==============================] - 0s 8ms/step - loss: 180.7625 - val_loss: 1037.1082\n",
            "Epoch 9/100\n",
            "18/18 [==============================] - 0s 8ms/step - loss: 178.0095 - val_loss: 1010.1165\n",
            "Epoch 10/100\n",
            "18/18 [==============================] - 0s 10ms/step - loss: 176.6836 - val_loss: 987.8121\n",
            "Epoch 11/100\n",
            "18/18 [==============================] - 0s 8ms/step - loss: 175.1427 - val_loss: 973.6913\n",
            "Epoch 12/100\n",
            "18/18 [==============================] - 0s 8ms/step - loss: 174.7357 - val_loss: 974.5350\n",
            "Epoch 13/100\n",
            "18/18 [==============================] - 0s 8ms/step - loss: 171.7105 - val_loss: 981.8690\n",
            "Epoch 14/100\n",
            "18/18 [==============================] - 0s 8ms/step - loss: 170.8377 - val_loss: 1007.8055\n",
            "Epoch 15/100\n",
            "18/18 [==============================] - 2s 106ms/step - loss: 169.7411 - val_loss: 946.7469\n",
            "Epoch 16/100\n",
            "18/18 [==============================] - 2s 115ms/step - loss: 167.1263 - val_loss: 922.4354\n",
            "Epoch 17/100\n",
            "18/18 [==============================] - 0s 16ms/step - loss: 165.5775 - val_loss: 1011.6151\n",
            "Epoch 18/100\n",
            "18/18 [==============================] - 0s 15ms/step - loss: 165.0119 - val_loss: 985.0555\n",
            "Epoch 19/100\n",
            "18/18 [==============================] - 0s 14ms/step - loss: 162.1703 - val_loss: 964.0806\n",
            "Epoch 20/100\n",
            "18/18 [==============================] - 2s 130ms/step - loss: 160.9156 - val_loss: 887.6982\n",
            "Epoch 21/100\n",
            "18/18 [==============================] - 2s 107ms/step - loss: 157.8138 - val_loss: 887.6040\n",
            "Epoch 22/100\n",
            "18/18 [==============================] - 2s 133ms/step - loss: 159.9379 - val_loss: 864.0472\n",
            "Epoch 23/100\n",
            "18/18 [==============================] - 0s 8ms/step - loss: 159.3990 - val_loss: 919.9951\n",
            "Epoch 24/100\n",
            "18/18 [==============================] - 0s 8ms/step - loss: 152.3564 - val_loss: 867.4445\n",
            "Epoch 25/100\n",
            "18/18 [==============================] - 2s 105ms/step - loss: 150.4467 - val_loss: 852.3200\n",
            "Epoch 26/100\n",
            "18/18 [==============================] - 2s 105ms/step - loss: 149.0967 - val_loss: 840.7661\n",
            "Epoch 27/100\n",
            "18/18 [==============================] - 2s 129ms/step - loss: 146.6083 - val_loss: 829.5463\n",
            "Epoch 28/100\n",
            "18/18 [==============================] - 3s 150ms/step - loss: 146.5710 - val_loss: 799.6953\n",
            "Epoch 29/100\n",
            "18/18 [==============================] - 0s 7ms/step - loss: 144.4449 - val_loss: 817.8995\n",
            "Epoch 30/100\n",
            "18/18 [==============================] - 0s 7ms/step - loss: 144.0231 - val_loss: 825.7992\n",
            "Epoch 31/100\n",
            "18/18 [==============================] - 2s 106ms/step - loss: 141.3694 - val_loss: 777.4606\n",
            "Epoch 32/100\n",
            "18/18 [==============================] - 0s 8ms/step - loss: 138.6522 - val_loss: 788.5747\n",
            "Epoch 33/100\n",
            "18/18 [==============================] - 0s 8ms/step - loss: 136.7339 - val_loss: 813.4128\n",
            "Epoch 34/100\n",
            "18/18 [==============================] - 2s 107ms/step - loss: 137.0959 - val_loss: 746.4354\n",
            "Epoch 35/100\n",
            "18/18 [==============================] - 0s 8ms/step - loss: 134.1103 - val_loss: 760.2598\n",
            "Epoch 36/100\n",
            "18/18 [==============================] - 2s 105ms/step - loss: 134.9078 - val_loss: 736.2231\n",
            "Epoch 37/100\n",
            "18/18 [==============================] - 0s 8ms/step - loss: 131.7461 - val_loss: 758.4897\n",
            "Epoch 38/100\n",
            "18/18 [==============================] - 2s 106ms/step - loss: 130.2690 - val_loss: 715.8216\n",
            "Epoch 39/100\n",
            "18/18 [==============================] - 3s 169ms/step - loss: 131.0860 - val_loss: 710.5673\n",
            "Epoch 40/100\n",
            "18/18 [==============================] - 0s 8ms/step - loss: 131.5557 - val_loss: 743.5655\n",
            "Epoch 41/100\n",
            "18/18 [==============================] - 2s 105ms/step - loss: 128.0842 - val_loss: 696.5271\n",
            "Epoch 42/100\n",
            "18/18 [==============================] - 2s 108ms/step - loss: 125.9015 - val_loss: 694.3333\n",
            "Epoch 43/100\n",
            "18/18 [==============================] - 0s 8ms/step - loss: 125.9265 - val_loss: 699.5775\n",
            "Epoch 44/100\n",
            "18/18 [==============================] - 2s 106ms/step - loss: 123.3502 - val_loss: 678.6318\n",
            "Epoch 45/100\n",
            "18/18 [==============================] - 2s 130ms/step - loss: 121.7441 - val_loss: 673.1304\n",
            "Epoch 46/100\n",
            "18/18 [==============================] - 0s 8ms/step - loss: 122.4209 - val_loss: 676.5801\n",
            "Epoch 47/100\n",
            "18/18 [==============================] - 0s 7ms/step - loss: 121.9636 - val_loss: 679.3325\n",
            "Epoch 48/100\n",
            "18/18 [==============================] - 2s 119ms/step - loss: 120.2989 - val_loss: 662.4587\n",
            "Epoch 49/100\n",
            "18/18 [==============================] - 0s 14ms/step - loss: 119.4202 - val_loss: 675.9831\n",
            "Epoch 50/100\n",
            "18/18 [==============================] - 0s 14ms/step - loss: 122.0026 - val_loss: 666.6344\n",
            "Epoch 51/100\n",
            "18/18 [==============================] - 0s 14ms/step - loss: 118.7169 - val_loss: 700.2938\n",
            "Epoch 52/100\n",
            "18/18 [==============================] - 2s 128ms/step - loss: 118.0216 - val_loss: 643.7914\n",
            "Epoch 53/100\n",
            "18/18 [==============================] - 0s 9ms/step - loss: 117.7687 - val_loss: 648.2672\n",
            "Epoch 54/100\n",
            "18/18 [==============================] - 0s 9ms/step - loss: 118.5532 - val_loss: 648.7495\n",
            "Epoch 55/100\n",
            "18/18 [==============================] - 2s 106ms/step - loss: 116.9350 - val_loss: 636.3365\n",
            "Epoch 56/100\n",
            "18/18 [==============================] - 0s 9ms/step - loss: 116.9099 - val_loss: 659.2598\n",
            "Epoch 57/100\n",
            "18/18 [==============================] - 0s 8ms/step - loss: 125.3073 - val_loss: 653.3544\n",
            "Epoch 58/100\n",
            "18/18 [==============================] - 2s 106ms/step - loss: 116.2878 - val_loss: 635.1680\n",
            "Epoch 59/100\n",
            "18/18 [==============================] - 2s 133ms/step - loss: 115.0769 - val_loss: 622.6573\n",
            "Epoch 60/100\n",
            "18/18 [==============================] - 0s 8ms/step - loss: 114.7001 - val_loss: 622.7245\n",
            "Epoch 61/100\n",
            "18/18 [==============================] - 0s 9ms/step - loss: 114.6518 - val_loss: 627.0422\n",
            "Epoch 62/100\n",
            "18/18 [==============================] - 0s 8ms/step - loss: 113.9236 - val_loss: 625.8587\n",
            "Epoch 63/100\n",
            "18/18 [==============================] - 2s 108ms/step - loss: 116.8749 - val_loss: 614.7100\n",
            "Epoch 64/100\n",
            "18/18 [==============================] - 0s 11ms/step - loss: 113.8960 - val_loss: 696.1323\n",
            "Epoch 65/100\n",
            "18/18 [==============================] - 0s 14ms/step - loss: 118.2631 - val_loss: 622.7156\n",
            "Epoch 66/100\n",
            "18/18 [==============================] - 0s 13ms/step - loss: 113.3834 - val_loss: 621.6550\n",
            "Epoch 67/100\n",
            "18/18 [==============================] - 2s 142ms/step - loss: 114.4762 - val_loss: 611.2861\n",
            "Epoch 68/100\n",
            "18/18 [==============================] - 0s 8ms/step - loss: 115.9055 - val_loss: 623.4700\n",
            "Epoch 69/100\n",
            "18/18 [==============================] - 0s 8ms/step - loss: 121.3940 - val_loss: 621.5045\n",
            "Epoch 70/100\n",
            "18/18 [==============================] - 2s 105ms/step - loss: 113.7778 - val_loss: 604.9948\n",
            "Epoch 71/100\n",
            "18/18 [==============================] - 0s 8ms/step - loss: 113.5925 - val_loss: 633.2195\n",
            "Epoch 72/100\n",
            "18/18 [==============================] - 2s 105ms/step - loss: 114.5115 - val_loss: 603.2221\n",
            "Epoch 73/100\n",
            "18/18 [==============================] - 0s 8ms/step - loss: 111.8397 - val_loss: 603.7416\n",
            "Epoch 74/100\n",
            "18/18 [==============================] - 0s 8ms/step - loss: 113.1870 - val_loss: 604.0842\n",
            "Epoch 75/100\n",
            "18/18 [==============================] - 0s 9ms/step - loss: 113.9005 - val_loss: 662.1094\n",
            "Epoch 76/100\n",
            "18/18 [==============================] - 0s 9ms/step - loss: 114.1316 - val_loss: 627.9238\n",
            "Epoch 77/100\n",
            "18/18 [==============================] - 0s 8ms/step - loss: 116.3549 - val_loss: 684.6531\n",
            "Epoch 78/100\n",
            "18/18 [==============================] - 0s 7ms/step - loss: 116.2680 - val_loss: 645.5652\n",
            "Epoch 79/100\n",
            "18/18 [==============================] - 2s 132ms/step - loss: 113.3671 - val_loss: 596.9788\n",
            "Epoch 80/100\n",
            "18/18 [==============================] - 0s 7ms/step - loss: 111.3418 - val_loss: 605.7261\n",
            "Epoch 81/100\n",
            "18/18 [==============================] - 0s 8ms/step - loss: 113.3141 - val_loss: 634.8722\n",
            "Epoch 82/100\n",
            "18/18 [==============================] - 2s 104ms/step - loss: 115.1557 - val_loss: 595.7289\n",
            "Epoch 83/100\n",
            "18/18 [==============================] - 0s 8ms/step - loss: 112.8861 - val_loss: 610.2603\n",
            "Epoch 84/100\n",
            "18/18 [==============================] - 0s 15ms/step - loss: 111.8303 - val_loss: 596.3821\n",
            "Epoch 85/100\n",
            "18/18 [==============================] - 0s 14ms/step - loss: 110.7380 - val_loss: 613.5281\n",
            "Epoch 86/100\n",
            "18/18 [==============================] - 0s 13ms/step - loss: 113.2625 - val_loss: 644.4338\n",
            "Epoch 87/100\n",
            "18/18 [==============================] - 2s 136ms/step - loss: 114.4723 - val_loss: 592.6055\n",
            "Epoch 88/100\n",
            "18/18 [==============================] - 0s 7ms/step - loss: 110.9882 - val_loss: 593.7352\n",
            "Epoch 89/100\n",
            "18/18 [==============================] - 0s 9ms/step - loss: 110.2554 - val_loss: 621.1938\n",
            "Epoch 90/100\n",
            "18/18 [==============================] - 0s 8ms/step - loss: 115.4848 - val_loss: 674.2584\n",
            "Epoch 91/100\n",
            "18/18 [==============================] - 0s 7ms/step - loss: 116.4854 - val_loss: 645.7800\n",
            "Epoch 92/100\n",
            "18/18 [==============================] - 0s 8ms/step - loss: 111.7544 - val_loss: 593.5574\n",
            "Epoch 93/100\n",
            "18/18 [==============================] - 0s 8ms/step - loss: 112.1963 - val_loss: 602.0969\n",
            "Epoch 94/100\n",
            "18/18 [==============================] - 0s 8ms/step - loss: 111.3614 - val_loss: 631.6695\n",
            "Epoch 95/100\n",
            "18/18 [==============================] - 0s 9ms/step - loss: 111.1388 - val_loss: 595.0236\n",
            "Epoch 96/100\n",
            "18/18 [==============================] - 0s 9ms/step - loss: 115.5642 - val_loss: 634.4987\n",
            "Epoch 97/100\n",
            "18/18 [==============================] - 0s 9ms/step - loss: 115.2085 - val_loss: 639.9764\n",
            "Epoch 98/100\n",
            "18/18 [==============================] - 0s 8ms/step - loss: 111.4422 - val_loss: 594.2284\n",
            "Epoch 99/100\n",
            "18/18 [==============================] - 2s 108ms/step - loss: 109.4978 - val_loss: 586.8807\n",
            "Epoch 100/100\n",
            "18/18 [==============================] - 0s 8ms/step - loss: 111.8375 - val_loss: 594.8653\n"
          ]
        },
        {
          "output_type": "execute_result",
          "data": {
            "text/plain": [
              "<keras.callbacks.History at 0x7f92f182b8b0>"
            ]
          },
          "metadata": {},
          "execution_count": 78
        }
      ],
      "source": [
        "from ast import Name\n",
        "#create RNN model\n",
        "\n",
        "tf.random.set_seed(42)\n",
        "inputs=tf.keras.Input(shape=(WINDOW,))\n",
        "x=layers.Lambda(lambda x: tf.expand_dims(x,axis=1))(inputs)\n",
        "x=layers.LSTM(128,activation=\"relu\")(x)\n",
        "outputs=layers.Dense(HORIZON) (x)\n",
        "\n",
        "model_5=tf.keras.Model(inputs,outputs,name=\"model_5_lstm\")\n",
        "\n",
        "# Compile model\n",
        "model_5.compile(loss=\"mae\",\n",
        "                optimizer=tf.keras.optimizers.Adam())\n",
        "\n",
        "# Seems when saving the model several warnings are appearing: https://github.com/tensorflow/tensorflow/issues/47554 \n",
        "model_5.fit(train_windows,\n",
        "            train_labels,\n",
        "            epochs=100,\n",
        "            verbose=1,\n",
        "            batch_size=128,\n",
        "            validation_data=(test_windows, test_labels),\n",
        "            callbacks=[create_model_checkpoint(model_name=model_5.name)])"
      ]
    },
    {
      "cell_type": "code",
      "execution_count": 79,
      "metadata": {
        "id": "HHvJsZlwWMY4",
        "colab": {
          "base_uri": "https://localhost:8080/"
        },
        "outputId": "0514f62f-262b-4b67-8037-cdaf39220ea5"
      },
      "outputs": [
        {
          "output_type": "stream",
          "name": "stdout",
          "text": [
            "18/18 [==============================] - 0s 2ms/step - loss: 594.8652\n"
          ]
        },
        {
          "output_type": "execute_result",
          "data": {
            "text/plain": [
              "594.865234375"
            ]
          },
          "metadata": {},
          "execution_count": 79
        }
      ],
      "source": [
        "model_5.evaluate(test_windows,test_labels)"
      ]
    },
    {
      "cell_type": "code",
      "execution_count": 80,
      "metadata": {
        "id": "eklPI7L9WMY5",
        "colab": {
          "base_uri": "https://localhost:8080/"
        },
        "outputId": "07501309-d824-4792-c248-26af20ee13cf"
      },
      "outputs": [
        {
          "output_type": "stream",
          "name": "stderr",
          "text": [
            "WARNING:tensorflow:Layer lstm will not use cuDNN kernels since it doesn't meet the criteria. It will use a generic GPU kernel as fallback when running on GPU.\n"
          ]
        },
        {
          "output_type": "stream",
          "name": "stdout",
          "text": [
            "18/18 [==============================] - 0s 3ms/step - loss: 586.8807\n"
          ]
        },
        {
          "output_type": "execute_result",
          "data": {
            "text/plain": [
              "586.8806762695312"
            ]
          },
          "metadata": {},
          "execution_count": 80
        }
      ],
      "source": [
        "# Load in best performing Conv1D model and evaluate it on the test data\n",
        "model_5 = tf.keras.models.load_model(\"model_experiments/model_5_lstm\")\n",
        "model_5.evaluate(test_windows, test_labels)"
      ]
    },
    {
      "cell_type": "code",
      "execution_count": 81,
      "metadata": {
        "id": "9uQQGWu7WMY5",
        "colab": {
          "base_uri": "https://localhost:8080/"
        },
        "outputId": "ce3137b7-4783-46d0-c770-1ba801906039"
      },
      "outputs": [
        {
          "output_type": "stream",
          "name": "stdout",
          "text": [
            "18/18 [==============================] - 0s 2ms/step\n"
          ]
        },
        {
          "output_type": "execute_result",
          "data": {
            "text/plain": [
              "<tf.Tensor: shape=(10,), dtype=float32, numpy=\n",
              "array([8932.149, 8781.832, 8968.48 , 8801.099, 8723.181, 8746.661,\n",
              "       8695.539, 8521.894, 8474.737, 8505.027], dtype=float32)>"
            ]
          },
          "metadata": {},
          "execution_count": 81
        }
      ],
      "source": [
        "# Make predictions\n",
        "model_5_preds = make_preds(model_5, test_windows)\n",
        "model_5_preds[:10]\n",
        "     "
      ]
    },
    {
      "cell_type": "markdown",
      "metadata": {
        "id": "cOoqBoaAWMY5"
      },
      "source": [
        "####**model_5_results**"
      ]
    },
    {
      "cell_type": "code",
      "execution_count": 82,
      "metadata": {
        "id": "8yflD7-KWMY5",
        "colab": {
          "base_uri": "https://localhost:8080/"
        },
        "outputId": "cb65bcf6-2de4-481c-ca34-68703549580f"
      },
      "outputs": [
        {
          "output_type": "execute_result",
          "data": {
            "text/plain": [
              "{'mae': 586.8807,\n",
              " 'mse': 1237668.4,\n",
              " 'rmse': 1112.5055,\n",
              " 'mape': 2.632008,\n",
              " 'mase': 1.0309868}"
            ]
          },
          "metadata": {},
          "execution_count": 82
        }
      ],
      "source": [
        "model_5_results = evaluate_preds(y_true=tf.squeeze(test_labels),\n",
        "                                 y_pred=model_5_preds)\n",
        "model_5_results"
      ]
    },
    {
      "cell_type": "markdown",
      "metadata": {
        "id": "wUlPOPDiXLsU"
      },
      "source": [
        "###**Make a multivariate time series**"
      ]
    },
    {
      "cell_type": "code",
      "execution_count": 83,
      "metadata": {
        "id": "IiA3R0nDZ4gS",
        "colab": {
          "base_uri": "https://localhost:8080/",
          "height": 238
        },
        "outputId": "59168454-b6ec-4f80-f973-bad702da89ce"
      },
      "outputs": [
        {
          "output_type": "execute_result",
          "data": {
            "text/plain": [
              "                price\n",
              "Date                 \n",
              "2013-10-01  123.65499\n",
              "2013-10-02  125.45500\n",
              "2013-10-03  108.58483\n",
              "2013-10-04  118.67466\n",
              "2013-10-05  121.33866"
            ],
            "text/html": [
              "\n",
              "  <div id=\"df-186de7b2-c5c7-4784-857e-acd8d150596b\">\n",
              "    <div class=\"colab-df-container\">\n",
              "      <div>\n",
              "<style scoped>\n",
              "    .dataframe tbody tr th:only-of-type {\n",
              "        vertical-align: middle;\n",
              "    }\n",
              "\n",
              "    .dataframe tbody tr th {\n",
              "        vertical-align: top;\n",
              "    }\n",
              "\n",
              "    .dataframe thead th {\n",
              "        text-align: right;\n",
              "    }\n",
              "</style>\n",
              "<table border=\"1\" class=\"dataframe\">\n",
              "  <thead>\n",
              "    <tr style=\"text-align: right;\">\n",
              "      <th></th>\n",
              "      <th>price</th>\n",
              "    </tr>\n",
              "    <tr>\n",
              "      <th>Date</th>\n",
              "      <th></th>\n",
              "    </tr>\n",
              "  </thead>\n",
              "  <tbody>\n",
              "    <tr>\n",
              "      <th>2013-10-01</th>\n",
              "      <td>123.65499</td>\n",
              "    </tr>\n",
              "    <tr>\n",
              "      <th>2013-10-02</th>\n",
              "      <td>125.45500</td>\n",
              "    </tr>\n",
              "    <tr>\n",
              "      <th>2013-10-03</th>\n",
              "      <td>108.58483</td>\n",
              "    </tr>\n",
              "    <tr>\n",
              "      <th>2013-10-04</th>\n",
              "      <td>118.67466</td>\n",
              "    </tr>\n",
              "    <tr>\n",
              "      <th>2013-10-05</th>\n",
              "      <td>121.33866</td>\n",
              "    </tr>\n",
              "  </tbody>\n",
              "</table>\n",
              "</div>\n",
              "      <button class=\"colab-df-convert\" onclick=\"convertToInteractive('df-186de7b2-c5c7-4784-857e-acd8d150596b')\"\n",
              "              title=\"Convert this dataframe to an interactive table.\"\n",
              "              style=\"display:none;\">\n",
              "        \n",
              "  <svg xmlns=\"http://www.w3.org/2000/svg\" height=\"24px\"viewBox=\"0 0 24 24\"\n",
              "       width=\"24px\">\n",
              "    <path d=\"M0 0h24v24H0V0z\" fill=\"none\"/>\n",
              "    <path d=\"M18.56 5.44l.94 2.06.94-2.06 2.06-.94-2.06-.94-.94-2.06-.94 2.06-2.06.94zm-11 1L8.5 8.5l.94-2.06 2.06-.94-2.06-.94L8.5 2.5l-.94 2.06-2.06.94zm10 10l.94 2.06.94-2.06 2.06-.94-2.06-.94-.94-2.06-.94 2.06-2.06.94z\"/><path d=\"M17.41 7.96l-1.37-1.37c-.4-.4-.92-.59-1.43-.59-.52 0-1.04.2-1.43.59L10.3 9.45l-7.72 7.72c-.78.78-.78 2.05 0 2.83L4 21.41c.39.39.9.59 1.41.59.51 0 1.02-.2 1.41-.59l7.78-7.78 2.81-2.81c.8-.78.8-2.07 0-2.86zM5.41 20L4 18.59l7.72-7.72 1.47 1.35L5.41 20z\"/>\n",
              "  </svg>\n",
              "      </button>\n",
              "      \n",
              "  <style>\n",
              "    .colab-df-container {\n",
              "      display:flex;\n",
              "      flex-wrap:wrap;\n",
              "      gap: 12px;\n",
              "    }\n",
              "\n",
              "    .colab-df-convert {\n",
              "      background-color: #E8F0FE;\n",
              "      border: none;\n",
              "      border-radius: 50%;\n",
              "      cursor: pointer;\n",
              "      display: none;\n",
              "      fill: #1967D2;\n",
              "      height: 32px;\n",
              "      padding: 0 0 0 0;\n",
              "      width: 32px;\n",
              "    }\n",
              "\n",
              "    .colab-df-convert:hover {\n",
              "      background-color: #E2EBFA;\n",
              "      box-shadow: 0px 1px 2px rgba(60, 64, 67, 0.3), 0px 1px 3px 1px rgba(60, 64, 67, 0.15);\n",
              "      fill: #174EA6;\n",
              "    }\n",
              "\n",
              "    [theme=dark] .colab-df-convert {\n",
              "      background-color: #3B4455;\n",
              "      fill: #D2E3FC;\n",
              "    }\n",
              "\n",
              "    [theme=dark] .colab-df-convert:hover {\n",
              "      background-color: #434B5C;\n",
              "      box-shadow: 0px 1px 3px 1px rgba(0, 0, 0, 0.15);\n",
              "      filter: drop-shadow(0px 1px 2px rgba(0, 0, 0, 0.3));\n",
              "      fill: #FFFFFF;\n",
              "    }\n",
              "  </style>\n",
              "\n",
              "      <script>\n",
              "        const buttonEl =\n",
              "          document.querySelector('#df-186de7b2-c5c7-4784-857e-acd8d150596b button.colab-df-convert');\n",
              "        buttonEl.style.display =\n",
              "          google.colab.kernel.accessAllowed ? 'block' : 'none';\n",
              "\n",
              "        async function convertToInteractive(key) {\n",
              "          const element = document.querySelector('#df-186de7b2-c5c7-4784-857e-acd8d150596b');\n",
              "          const dataTable =\n",
              "            await google.colab.kernel.invokeFunction('convertToInteractive',\n",
              "                                                     [key], {});\n",
              "          if (!dataTable) return;\n",
              "\n",
              "          const docLinkHtml = 'Like what you see? Visit the ' +\n",
              "            '<a target=\"_blank\" href=https://colab.research.google.com/notebooks/data_table.ipynb>data table notebook</a>'\n",
              "            + ' to learn more about interactive tables.';\n",
              "          element.innerHTML = '';\n",
              "          dataTable['output_type'] = 'display_data';\n",
              "          await google.colab.output.renderOutput(dataTable, element);\n",
              "          const docLink = document.createElement('div');\n",
              "          docLink.innerHTML = docLinkHtml;\n",
              "          element.appendChild(docLink);\n",
              "        }\n",
              "      </script>\n",
              "    </div>\n",
              "  </div>\n",
              "  "
            ]
          },
          "metadata": {},
          "execution_count": 83
        }
      ],
      "source": [
        "bitcoin_price.head()"
      ]
    },
    {
      "cell_type": "code",
      "execution_count": 84,
      "metadata": {
        "id": "ixOmmkj8aqUh",
        "colab": {
          "base_uri": "https://localhost:8080/",
          "height": 238
        },
        "outputId": "8a97985a-e31d-4120-cfcd-86fda2370ffc"
      },
      "outputs": [
        {
          "output_type": "execute_result",
          "data": {
            "text/plain": [
              "                   price\n",
              "Date                    \n",
              "2021-05-14  49764.132082\n",
              "2021-05-15  50032.693137\n",
              "2021-05-16  47885.625255\n",
              "2021-05-17  45604.615754\n",
              "2021-05-18  43144.471291"
            ],
            "text/html": [
              "\n",
              "  <div id=\"df-4906800c-c916-4fff-8e2a-bb36e1b3fc5e\">\n",
              "    <div class=\"colab-df-container\">\n",
              "      <div>\n",
              "<style scoped>\n",
              "    .dataframe tbody tr th:only-of-type {\n",
              "        vertical-align: middle;\n",
              "    }\n",
              "\n",
              "    .dataframe tbody tr th {\n",
              "        vertical-align: top;\n",
              "    }\n",
              "\n",
              "    .dataframe thead th {\n",
              "        text-align: right;\n",
              "    }\n",
              "</style>\n",
              "<table border=\"1\" class=\"dataframe\">\n",
              "  <thead>\n",
              "    <tr style=\"text-align: right;\">\n",
              "      <th></th>\n",
              "      <th>price</th>\n",
              "    </tr>\n",
              "    <tr>\n",
              "      <th>Date</th>\n",
              "      <th></th>\n",
              "    </tr>\n",
              "  </thead>\n",
              "  <tbody>\n",
              "    <tr>\n",
              "      <th>2021-05-14</th>\n",
              "      <td>49764.132082</td>\n",
              "    </tr>\n",
              "    <tr>\n",
              "      <th>2021-05-15</th>\n",
              "      <td>50032.693137</td>\n",
              "    </tr>\n",
              "    <tr>\n",
              "      <th>2021-05-16</th>\n",
              "      <td>47885.625255</td>\n",
              "    </tr>\n",
              "    <tr>\n",
              "      <th>2021-05-17</th>\n",
              "      <td>45604.615754</td>\n",
              "    </tr>\n",
              "    <tr>\n",
              "      <th>2021-05-18</th>\n",
              "      <td>43144.471291</td>\n",
              "    </tr>\n",
              "  </tbody>\n",
              "</table>\n",
              "</div>\n",
              "      <button class=\"colab-df-convert\" onclick=\"convertToInteractive('df-4906800c-c916-4fff-8e2a-bb36e1b3fc5e')\"\n",
              "              title=\"Convert this dataframe to an interactive table.\"\n",
              "              style=\"display:none;\">\n",
              "        \n",
              "  <svg xmlns=\"http://www.w3.org/2000/svg\" height=\"24px\"viewBox=\"0 0 24 24\"\n",
              "       width=\"24px\">\n",
              "    <path d=\"M0 0h24v24H0V0z\" fill=\"none\"/>\n",
              "    <path d=\"M18.56 5.44l.94 2.06.94-2.06 2.06-.94-2.06-.94-.94-2.06-.94 2.06-2.06.94zm-11 1L8.5 8.5l.94-2.06 2.06-.94-2.06-.94L8.5 2.5l-.94 2.06-2.06.94zm10 10l.94 2.06.94-2.06 2.06-.94-2.06-.94-.94-2.06-.94 2.06-2.06.94z\"/><path d=\"M17.41 7.96l-1.37-1.37c-.4-.4-.92-.59-1.43-.59-.52 0-1.04.2-1.43.59L10.3 9.45l-7.72 7.72c-.78.78-.78 2.05 0 2.83L4 21.41c.39.39.9.59 1.41.59.51 0 1.02-.2 1.41-.59l7.78-7.78 2.81-2.81c.8-.78.8-2.07 0-2.86zM5.41 20L4 18.59l7.72-7.72 1.47 1.35L5.41 20z\"/>\n",
              "  </svg>\n",
              "      </button>\n",
              "      \n",
              "  <style>\n",
              "    .colab-df-container {\n",
              "      display:flex;\n",
              "      flex-wrap:wrap;\n",
              "      gap: 12px;\n",
              "    }\n",
              "\n",
              "    .colab-df-convert {\n",
              "      background-color: #E8F0FE;\n",
              "      border: none;\n",
              "      border-radius: 50%;\n",
              "      cursor: pointer;\n",
              "      display: none;\n",
              "      fill: #1967D2;\n",
              "      height: 32px;\n",
              "      padding: 0 0 0 0;\n",
              "      width: 32px;\n",
              "    }\n",
              "\n",
              "    .colab-df-convert:hover {\n",
              "      background-color: #E2EBFA;\n",
              "      box-shadow: 0px 1px 2px rgba(60, 64, 67, 0.3), 0px 1px 3px 1px rgba(60, 64, 67, 0.15);\n",
              "      fill: #174EA6;\n",
              "    }\n",
              "\n",
              "    [theme=dark] .colab-df-convert {\n",
              "      background-color: #3B4455;\n",
              "      fill: #D2E3FC;\n",
              "    }\n",
              "\n",
              "    [theme=dark] .colab-df-convert:hover {\n",
              "      background-color: #434B5C;\n",
              "      box-shadow: 0px 1px 3px 1px rgba(0, 0, 0, 0.15);\n",
              "      filter: drop-shadow(0px 1px 2px rgba(0, 0, 0, 0.3));\n",
              "      fill: #FFFFFF;\n",
              "    }\n",
              "  </style>\n",
              "\n",
              "      <script>\n",
              "        const buttonEl =\n",
              "          document.querySelector('#df-4906800c-c916-4fff-8e2a-bb36e1b3fc5e button.colab-df-convert');\n",
              "        buttonEl.style.display =\n",
              "          google.colab.kernel.accessAllowed ? 'block' : 'none';\n",
              "\n",
              "        async function convertToInteractive(key) {\n",
              "          const element = document.querySelector('#df-4906800c-c916-4fff-8e2a-bb36e1b3fc5e');\n",
              "          const dataTable =\n",
              "            await google.colab.kernel.invokeFunction('convertToInteractive',\n",
              "                                                     [key], {});\n",
              "          if (!dataTable) return;\n",
              "\n",
              "          const docLinkHtml = 'Like what you see? Visit the ' +\n",
              "            '<a target=\"_blank\" href=https://colab.research.google.com/notebooks/data_table.ipynb>data table notebook</a>'\n",
              "            + ' to learn more about interactive tables.';\n",
              "          element.innerHTML = '';\n",
              "          dataTable['output_type'] = 'display_data';\n",
              "          await google.colab.output.renderOutput(dataTable, element);\n",
              "          const docLink = document.createElement('div');\n",
              "          docLink.innerHTML = docLinkHtml;\n",
              "          element.appendChild(docLink);\n",
              "        }\n",
              "      </script>\n",
              "    </div>\n",
              "  </div>\n",
              "  "
            ]
          },
          "metadata": {},
          "execution_count": 84
        }
      ],
      "source": [
        "bitcoin_price.tail()"
      ]
    },
    {
      "cell_type": "code",
      "execution_count": 85,
      "metadata": {
        "id": "NoKjk3m7Z5nr"
      },
      "outputs": [],
      "source": [
        "\n",
        "\n",
        "# Block reward values\n",
        "block_reward_1 = 50 # 3 January 2009 (2009-01-03) - this block reward isn't in our dataset (it starts from 01 October 2013)\n",
        "block_reward_2 = 25 # 28 November 2012 \n",
        "block_reward_3 = 12.5 # 9 July 2016\n",
        "block_reward_4 = 6.25 # 11 May 2020\n",
        "\n",
        "# Block reward dates (datetime form of the above date stamps)\n",
        "block_reward_2_datetime = np.datetime64(\"2012-11-28\")\n",
        "block_reward_3_datetime = np.datetime64(\"2016-07-09\")\n",
        "block_reward_4_datetime = np.datetime64(\"2020-05-11\")"
      ]
    },
    {
      "cell_type": "code",
      "execution_count": 86,
      "metadata": {
        "id": "ETz6e5whaFj_",
        "colab": {
          "base_uri": "https://localhost:8080/"
        },
        "outputId": "bc301057-b134-4d78-ec57-1c2bb7c27c5d"
      },
      "outputs": [
        {
          "output_type": "execute_result",
          "data": {
            "text/plain": [
              "(1012, 2414)"
            ]
          },
          "metadata": {},
          "execution_count": 86
        }
      ],
      "source": [
        "block_reward_2_days=(block_reward_3_datetime-bitcoin_price.index[0]).days\n",
        "block_reward_3_days=(block_reward_4_datetime-bitcoin_price.index[0]).days\n",
        "block_reward_2_days,block_reward_3_days"
      ]
    },
    {
      "cell_type": "code",
      "execution_count": 87,
      "metadata": {
        "id": "SGs0x3kMb1EO",
        "colab": {
          "base_uri": "https://localhost:8080/",
          "height": 238
        },
        "outputId": "8001f8d7-08eb-42b1-803d-f5b48d308ab5"
      },
      "outputs": [
        {
          "output_type": "execute_result",
          "data": {
            "text/plain": [
              "                price block_reward\n",
              "Date                              \n",
              "2013-10-01  123.65499           25\n",
              "2013-10-02  125.45500           25\n",
              "2013-10-03  108.58483           25\n",
              "2013-10-04  118.67466           25\n",
              "2013-10-05  121.33866           25"
            ],
            "text/html": [
              "\n",
              "  <div id=\"df-c771a720-4749-4a79-a1ca-aa7e1950bb0d\">\n",
              "    <div class=\"colab-df-container\">\n",
              "      <div>\n",
              "<style scoped>\n",
              "    .dataframe tbody tr th:only-of-type {\n",
              "        vertical-align: middle;\n",
              "    }\n",
              "\n",
              "    .dataframe tbody tr th {\n",
              "        vertical-align: top;\n",
              "    }\n",
              "\n",
              "    .dataframe thead th {\n",
              "        text-align: right;\n",
              "    }\n",
              "</style>\n",
              "<table border=\"1\" class=\"dataframe\">\n",
              "  <thead>\n",
              "    <tr style=\"text-align: right;\">\n",
              "      <th></th>\n",
              "      <th>price</th>\n",
              "      <th>block_reward</th>\n",
              "    </tr>\n",
              "    <tr>\n",
              "      <th>Date</th>\n",
              "      <th></th>\n",
              "      <th></th>\n",
              "    </tr>\n",
              "  </thead>\n",
              "  <tbody>\n",
              "    <tr>\n",
              "      <th>2013-10-01</th>\n",
              "      <td>123.65499</td>\n",
              "      <td>25</td>\n",
              "    </tr>\n",
              "    <tr>\n",
              "      <th>2013-10-02</th>\n",
              "      <td>125.45500</td>\n",
              "      <td>25</td>\n",
              "    </tr>\n",
              "    <tr>\n",
              "      <th>2013-10-03</th>\n",
              "      <td>108.58483</td>\n",
              "      <td>25</td>\n",
              "    </tr>\n",
              "    <tr>\n",
              "      <th>2013-10-04</th>\n",
              "      <td>118.67466</td>\n",
              "      <td>25</td>\n",
              "    </tr>\n",
              "    <tr>\n",
              "      <th>2013-10-05</th>\n",
              "      <td>121.33866</td>\n",
              "      <td>25</td>\n",
              "    </tr>\n",
              "  </tbody>\n",
              "</table>\n",
              "</div>\n",
              "      <button class=\"colab-df-convert\" onclick=\"convertToInteractive('df-c771a720-4749-4a79-a1ca-aa7e1950bb0d')\"\n",
              "              title=\"Convert this dataframe to an interactive table.\"\n",
              "              style=\"display:none;\">\n",
              "        \n",
              "  <svg xmlns=\"http://www.w3.org/2000/svg\" height=\"24px\"viewBox=\"0 0 24 24\"\n",
              "       width=\"24px\">\n",
              "    <path d=\"M0 0h24v24H0V0z\" fill=\"none\"/>\n",
              "    <path d=\"M18.56 5.44l.94 2.06.94-2.06 2.06-.94-2.06-.94-.94-2.06-.94 2.06-2.06.94zm-11 1L8.5 8.5l.94-2.06 2.06-.94-2.06-.94L8.5 2.5l-.94 2.06-2.06.94zm10 10l.94 2.06.94-2.06 2.06-.94-2.06-.94-.94-2.06-.94 2.06-2.06.94z\"/><path d=\"M17.41 7.96l-1.37-1.37c-.4-.4-.92-.59-1.43-.59-.52 0-1.04.2-1.43.59L10.3 9.45l-7.72 7.72c-.78.78-.78 2.05 0 2.83L4 21.41c.39.39.9.59 1.41.59.51 0 1.02-.2 1.41-.59l7.78-7.78 2.81-2.81c.8-.78.8-2.07 0-2.86zM5.41 20L4 18.59l7.72-7.72 1.47 1.35L5.41 20z\"/>\n",
              "  </svg>\n",
              "      </button>\n",
              "      \n",
              "  <style>\n",
              "    .colab-df-container {\n",
              "      display:flex;\n",
              "      flex-wrap:wrap;\n",
              "      gap: 12px;\n",
              "    }\n",
              "\n",
              "    .colab-df-convert {\n",
              "      background-color: #E8F0FE;\n",
              "      border: none;\n",
              "      border-radius: 50%;\n",
              "      cursor: pointer;\n",
              "      display: none;\n",
              "      fill: #1967D2;\n",
              "      height: 32px;\n",
              "      padding: 0 0 0 0;\n",
              "      width: 32px;\n",
              "    }\n",
              "\n",
              "    .colab-df-convert:hover {\n",
              "      background-color: #E2EBFA;\n",
              "      box-shadow: 0px 1px 2px rgba(60, 64, 67, 0.3), 0px 1px 3px 1px rgba(60, 64, 67, 0.15);\n",
              "      fill: #174EA6;\n",
              "    }\n",
              "\n",
              "    [theme=dark] .colab-df-convert {\n",
              "      background-color: #3B4455;\n",
              "      fill: #D2E3FC;\n",
              "    }\n",
              "\n",
              "    [theme=dark] .colab-df-convert:hover {\n",
              "      background-color: #434B5C;\n",
              "      box-shadow: 0px 1px 3px 1px rgba(0, 0, 0, 0.15);\n",
              "      filter: drop-shadow(0px 1px 2px rgba(0, 0, 0, 0.3));\n",
              "      fill: #FFFFFF;\n",
              "    }\n",
              "  </style>\n",
              "\n",
              "      <script>\n",
              "        const buttonEl =\n",
              "          document.querySelector('#df-c771a720-4749-4a79-a1ca-aa7e1950bb0d button.colab-df-convert');\n",
              "        buttonEl.style.display =\n",
              "          google.colab.kernel.accessAllowed ? 'block' : 'none';\n",
              "\n",
              "        async function convertToInteractive(key) {\n",
              "          const element = document.querySelector('#df-c771a720-4749-4a79-a1ca-aa7e1950bb0d');\n",
              "          const dataTable =\n",
              "            await google.colab.kernel.invokeFunction('convertToInteractive',\n",
              "                                                     [key], {});\n",
              "          if (!dataTable) return;\n",
              "\n",
              "          const docLinkHtml = 'Like what you see? Visit the ' +\n",
              "            '<a target=\"_blank\" href=https://colab.research.google.com/notebooks/data_table.ipynb>data table notebook</a>'\n",
              "            + ' to learn more about interactive tables.';\n",
              "          element.innerHTML = '';\n",
              "          dataTable['output_type'] = 'display_data';\n",
              "          await google.colab.output.renderOutput(dataTable, element);\n",
              "          const docLink = document.createElement('div');\n",
              "          docLink.innerHTML = docLinkHtml;\n",
              "          element.appendChild(docLink);\n",
              "        }\n",
              "      </script>\n",
              "    </div>\n",
              "  </div>\n",
              "  "
            ]
          },
          "metadata": {},
          "execution_count": 87
        }
      ],
      "source": [
        "bitcoin_price_block=bitcoin_price.copy()\n",
        "bitcoin_price_block[\"block_reward\"]=None\n",
        "\n",
        "# Set values of block_reward column (it's the last column hence -1 indexing on iloc)\n",
        "bitcoin_price_block.iloc[:block_reward_2_days, -1] = block_reward_2\n",
        "bitcoin_price_block.iloc[block_reward_2_days:block_reward_3_days, -1] = block_reward_3\n",
        "bitcoin_price_block.iloc[block_reward_3_days:, -1] = block_reward_4\n",
        "bitcoin_price_block.head()\n"
      ]
    },
    {
      "cell_type": "code",
      "execution_count": 88,
      "metadata": {
        "id": "3KVGem7tc_Ar",
        "colab": {
          "base_uri": "https://localhost:8080/",
          "height": 619
        },
        "outputId": "e0cfc01d-9791-4814-cd87-89ef41a9158b"
      },
      "outputs": [
        {
          "output_type": "display_data",
          "data": {
            "text/plain": [
              "<Figure size 1000x700 with 1 Axes>"
            ],
            "image/png": "[encoded data removed]"
          },
          "metadata": {}
        }
      ],
      "source": [
        "from sklearn.preprocessing import minmax_scale\n",
        "scaled_price_block_df = pd.DataFrame(minmax_scale(bitcoin_price_block[[\"price\", \"block_reward\"]]), # we need to scale the data first\n",
        "                                     columns=bitcoin_price_block.columns,\n",
        "                                     index=bitcoin_price_block.index)\n",
        "scaled_price_block_df.plot(figsize=(10, 7));"
      ]
    },
    {
      "cell_type": "markdown",
      "metadata": {
        "id": "sfetbLz7hu4q"
      },
      "source": [
        "###**Making a windowed dataset with pandas**"
      ]
    },
    {
      "cell_type": "code",
      "execution_count": 89,
      "metadata": {
        "id": "Az5zhIESkIka"
      },
      "outputs": [],
      "source": [
        "WINDOW=7\n",
        "HORIZON=1"
      ]
    },
    {
      "cell_type": "code",
      "execution_count": 90,
      "metadata": {
        "id": "jrYFXP2GkTj2",
        "colab": {
          "base_uri": "https://localhost:8080/",
          "height": 238
        },
        "outputId": "fad7bc88-062f-4a3f-8ffa-e07511c620ed"
      },
      "outputs": [
        {
          "output_type": "execute_result",
          "data": {
            "text/plain": [
              "                price block_reward\n",
              "Date                              \n",
              "2013-10-01  123.65499           25\n",
              "2013-10-02  125.45500           25\n",
              "2013-10-03  108.58483           25\n",
              "2013-10-04  118.67466           25\n",
              "2013-10-05  121.33866           25"
            ],
            "text/html": [
              "\n",
              "  <div id=\"df-91c89409-c342-45b9-8add-a3e74ecfff95\">\n",
              "    <div class=\"colab-df-container\">\n",
              "      <div>\n",
              "<style scoped>\n",
              "    .dataframe tbody tr th:only-of-type {\n",
              "        vertical-align: middle;\n",
              "    }\n",
              "\n",
              "    .dataframe tbody tr th {\n",
              "        vertical-align: top;\n",
              "    }\n",
              "\n",
              "    .dataframe thead th {\n",
              "        text-align: right;\n",
              "    }\n",
              "</style>\n",
              "<table border=\"1\" class=\"dataframe\">\n",
              "  <thead>\n",
              "    <tr style=\"text-align: right;\">\n",
              "      <th></th>\n",
              "      <th>price</th>\n",
              "      <th>block_reward</th>\n",
              "    </tr>\n",
              "    <tr>\n",
              "      <th>Date</th>\n",
              "      <th></th>\n",
              "      <th></th>\n",
              "    </tr>\n",
              "  </thead>\n",
              "  <tbody>\n",
              "    <tr>\n",
              "      <th>2013-10-01</th>\n",
              "      <td>123.65499</td>\n",
              "      <td>25</td>\n",
              "    </tr>\n",
              "    <tr>\n",
              "      <th>2013-10-02</th>\n",
              "      <td>125.45500</td>\n",
              "      <td>25</td>\n",
              "    </tr>\n",
              "    <tr>\n",
              "      <th>2013-10-03</th>\n",
              "      <td>108.58483</td>\n",
              "      <td>25</td>\n",
              "    </tr>\n",
              "    <tr>\n",
              "      <th>2013-10-04</th>\n",
              "      <td>118.67466</td>\n",
              "      <td>25</td>\n",
              "    </tr>\n",
              "    <tr>\n",
              "      <th>2013-10-05</th>\n",
              "      <td>121.33866</td>\n",
              "      <td>25</td>\n",
              "    </tr>\n",
              "  </tbody>\n",
              "</table>\n",
              "</div>\n",
              "      <button class=\"colab-df-convert\" onclick=\"convertToInteractive('df-91c89409-c342-45b9-8add-a3e74ecfff95')\"\n",
              "              title=\"Convert this dataframe to an interactive table.\"\n",
              "              style=\"display:none;\">\n",
              "        \n",
              "  <svg xmlns=\"http://www.w3.org/2000/svg\" height=\"24px\"viewBox=\"0 0 24 24\"\n",
              "       width=\"24px\">\n",
              "    <path d=\"M0 0h24v24H0V0z\" fill=\"none\"/>\n",
              "    <path d=\"M18.56 5.44l.94 2.06.94-2.06 2.06-.94-2.06-.94-.94-2.06-.94 2.06-2.06.94zm-11 1L8.5 8.5l.94-2.06 2.06-.94-2.06-.94L8.5 2.5l-.94 2.06-2.06.94zm10 10l.94 2.06.94-2.06 2.06-.94-2.06-.94-.94-2.06-.94 2.06-2.06.94z\"/><path d=\"M17.41 7.96l-1.37-1.37c-.4-.4-.92-.59-1.43-.59-.52 0-1.04.2-1.43.59L10.3 9.45l-7.72 7.72c-.78.78-.78 2.05 0 2.83L4 21.41c.39.39.9.59 1.41.59.51 0 1.02-.2 1.41-.59l7.78-7.78 2.81-2.81c.8-.78.8-2.07 0-2.86zM5.41 20L4 18.59l7.72-7.72 1.47 1.35L5.41 20z\"/>\n",
              "  </svg>\n",
              "      </button>\n",
              "      \n",
              "  <style>\n",
              "    .colab-df-container {\n",
              "      display:flex;\n",
              "      flex-wrap:wrap;\n",
              "      gap: 12px;\n",
              "    }\n",
              "\n",
              "    .colab-df-convert {\n",
              "      background-color: #E8F0FE;\n",
              "      border: none;\n",
              "      border-radius: 50%;\n",
              "      cursor: pointer;\n",
              "      display: none;\n",
              "      fill: #1967D2;\n",
              "      height: 32px;\n",
              "      padding: 0 0 0 0;\n",
              "      width: 32px;\n",
              "    }\n",
              "\n",
              "    .colab-df-convert:hover {\n",
              "      background-color: #E2EBFA;\n",
              "      box-shadow: 0px 1px 2px rgba(60, 64, 67, 0.3), 0px 1px 3px 1px rgba(60, 64, 67, 0.15);\n",
              "      fill: #174EA6;\n",
              "    }\n",
              "\n",
              "    [theme=dark] .colab-df-convert {\n",
              "      background-color: #3B4455;\n",
              "      fill: #D2E3FC;\n",
              "    }\n",
              "\n",
              "    [theme=dark] .colab-df-convert:hover {\n",
              "      background-color: #434B5C;\n",
              "      box-shadow: 0px 1px 3px 1px rgba(0, 0, 0, 0.15);\n",
              "      filter: drop-shadow(0px 1px 2px rgba(0, 0, 0, 0.3));\n",
              "      fill: #FFFFFF;\n",
              "    }\n",
              "  </style>\n",
              "\n",
              "      <script>\n",
              "        const buttonEl =\n",
              "          document.querySelector('#df-91c89409-c342-45b9-8add-a3e74ecfff95 button.colab-df-convert');\n",
              "        buttonEl.style.display =\n",
              "          google.colab.kernel.accessAllowed ? 'block' : 'none';\n",
              "\n",
              "        async function convertToInteractive(key) {\n",
              "          const element = document.querySelector('#df-91c89409-c342-45b9-8add-a3e74ecfff95');\n",
              "          const dataTable =\n",
              "            await google.colab.kernel.invokeFunction('convertToInteractive',\n",
              "                                                     [key], {});\n",
              "          if (!dataTable) return;\n",
              "\n",
              "          const docLinkHtml = 'Like what you see? Visit the ' +\n",
              "            '<a target=\"_blank\" href=https://colab.research.google.com/notebooks/data_table.ipynb>data table notebook</a>'\n",
              "            + ' to learn more about interactive tables.';\n",
              "          element.innerHTML = '';\n",
              "          dataTable['output_type'] = 'display_data';\n",
              "          await google.colab.output.renderOutput(dataTable, element);\n",
              "          const docLink = document.createElement('div');\n",
              "          docLink.innerHTML = docLinkHtml;\n",
              "          element.appendChild(docLink);\n",
              "        }\n",
              "      </script>\n",
              "    </div>\n",
              "  </div>\n",
              "  "
            ]
          },
          "metadata": {},
          "execution_count": 90
        }
      ],
      "source": [
        "bitcoin_prices_windowed=bitcoin_price_block.copy()\n",
        "bitcoin_prices_windowed.head()"
      ]
    },
    {
      "cell_type": "code",
      "execution_count": 91,
      "metadata": {
        "id": "S4za0vV4kgxY",
        "colab": {
          "base_uri": "https://localhost:8080/",
          "height": 394
        },
        "outputId": "a3c36c85-b52d-4c30-bbe6-8d45d120ef17"
      },
      "outputs": [
        {
          "output_type": "execute_result",
          "data": {
            "text/plain": [
              "                price block_reward     price1     price2     price3  \\\n",
              "Date                                                                  \n",
              "2013-10-01  123.65499           25        NaN        NaN        NaN   \n",
              "2013-10-02  125.45500           25  123.65499        NaN        NaN   \n",
              "2013-10-03  108.58483           25  125.45500  123.65499        NaN   \n",
              "2013-10-04  118.67466           25  108.58483  125.45500  123.65499   \n",
              "2013-10-05  121.33866           25  118.67466  108.58483  125.45500   \n",
              "2013-10-06  120.65533           25  121.33866  118.67466  108.58483   \n",
              "2013-10-07  121.79500           25  120.65533  121.33866  118.67466   \n",
              "2013-10-08  123.03300           25  121.79500  120.65533  121.33866   \n",
              "2013-10-09  124.04900           25  123.03300  121.79500  120.65533   \n",
              "2013-10-10  125.96116           25  124.04900  123.03300  121.79500   \n",
              "\n",
              "               price4     price5     price6     price7  \n",
              "Date                                                    \n",
              "2013-10-01        NaN        NaN        NaN        NaN  \n",
              "2013-10-02        NaN        NaN        NaN        NaN  \n",
              "2013-10-03        NaN        NaN        NaN        NaN  \n",
              "2013-10-04        NaN        NaN        NaN        NaN  \n",
              "2013-10-05  123.65499        NaN        NaN        NaN  \n",
              "2013-10-06  125.45500  123.65499        NaN        NaN  \n",
              "2013-10-07  108.58483  125.45500  123.65499        NaN  \n",
              "2013-10-08  118.67466  108.58483  125.45500  123.65499  \n",
              "2013-10-09  121.33866  118.67466  108.58483  125.45500  \n",
              "2013-10-10  120.65533  121.33866  118.67466  108.58483  "
            ],
            "text/html": [
              "\n",
              "  <div id=\"df-e89dafec-c06b-4fbe-b866-51c7aea6be20\">\n",
              "    <div class=\"colab-df-container\">\n",
              "      <div>\n",
              "<style scoped>\n",
              "    .dataframe tbody tr th:only-of-type {\n",
              "        vertical-align: middle;\n",
              "    }\n",
              "\n",
              "    .dataframe tbody tr th {\n",
              "        vertical-align: top;\n",
              "    }\n",
              "\n",
              "    .dataframe thead th {\n",
              "        text-align: right;\n",
              "    }\n",
              "</style>\n",
              "<table border=\"1\" class=\"dataframe\">\n",
              "  <thead>\n",
              "    <tr style=\"text-align: right;\">\n",
              "      <th></th>\n",
              "      <th>price</th>\n",
              "      <th>block_reward</th>\n",
              "      <th>price1</th>\n",
              "      <th>price2</th>\n",
              "      <th>price3</th>\n",
              "      <th>price4</th>\n",
              "      <th>price5</th>\n",
              "      <th>price6</th>\n",
              "      <th>price7</th>\n",
              "    </tr>\n",
              "    <tr>\n",
              "      <th>Date</th>\n",
              "      <th></th>\n",
              "      <th></th>\n",
              "      <th></th>\n",
              "      <th></th>\n",
              "      <th></th>\n",
              "      <th></th>\n",
              "      <th></th>\n",
              "      <th></th>\n",
              "      <th></th>\n",
              "    </tr>\n",
              "  </thead>\n",
              "  <tbody>\n",
              "    <tr>\n",
              "      <th>2013-10-01</th>\n",
              "      <td>123.65499</td>\n",
              "      <td>25</td>\n",
              "      <td>NaN</td>\n",
              "      <td>NaN</td>\n",
              "      <td>NaN</td>\n",
              "      <td>NaN</td>\n",
              "      <td>NaN</td>\n",
              "      <td>NaN</td>\n",
              "      <td>NaN</td>\n",
              "    </tr>\n",
              "    <tr>\n",
              "      <th>2013-10-02</th>\n",
              "      <td>125.45500</td>\n",
              "      <td>25</td>\n",
              "      <td>123.65499</td>\n",
              "      <td>NaN</td>\n",
              "      <td>NaN</td>\n",
              "      <td>NaN</td>\n",
              "      <td>NaN</td>\n",
              "      <td>NaN</td>\n",
              "      <td>NaN</td>\n",
              "    </tr>\n",
              "    <tr>\n",
              "      <th>2013-10-03</th>\n",
              "      <td>108.58483</td>\n",
              "      <td>25</td>\n",
              "      <td>125.45500</td>\n",
              "      <td>123.65499</td>\n",
              "      <td>NaN</td>\n",
              "      <td>NaN</td>\n",
              "      <td>NaN</td>\n",
              "      <td>NaN</td>\n",
              "      <td>NaN</td>\n",
              "    </tr>\n",
              "    <tr>\n",
              "      <th>2013-10-04</th>\n",
              "      <td>118.67466</td>\n",
              "      <td>25</td>\n",
              "      <td>108.58483</td>\n",
              "      <td>125.45500</td>\n",
              "      <td>123.65499</td>\n",
              "      <td>NaN</td>\n",
              "      <td>NaN</td>\n",
              "      <td>NaN</td>\n",
              "      <td>NaN</td>\n",
              "    </tr>\n",
              "    <tr>\n",
              "      <th>2013-10-05</th>\n",
              "      <td>121.33866</td>\n",
              "      <td>25</td>\n",
              "      <td>118.67466</td>\n",
              "      <td>108.58483</td>\n",
              "      <td>125.45500</td>\n",
              "      <td>123.65499</td>\n",
              "      <td>NaN</td>\n",
              "      <td>NaN</td>\n",
              "      <td>NaN</td>\n",
              "    </tr>\n",
              "    <tr>\n",
              "      <th>2013-10-06</th>\n",
              "      <td>120.65533</td>\n",
              "      <td>25</td>\n",
              "      <td>121.33866</td>\n",
              "      <td>118.67466</td>\n",
              "      <td>108.58483</td>\n",
              "      <td>125.45500</td>\n",
              "      <td>123.65499</td>\n",
              "      <td>NaN</td>\n",
              "      <td>NaN</td>\n",
              "    </tr>\n",
              "    <tr>\n",
              "      <th>2013-10-07</th>\n",
              "      <td>121.79500</td>\n",
              "      <td>25</td>\n",
              "      <td>120.65533</td>\n",
              "      <td>121.33866</td>\n",
              "      <td>118.67466</td>\n",
              "      <td>108.58483</td>\n",
              "      <td>125.45500</td>\n",
              "      <td>123.65499</td>\n",
              "      <td>NaN</td>\n",
              "    </tr>\n",
              "    <tr>\n",
              "      <th>2013-10-08</th>\n",
              "      <td>123.03300</td>\n",
              "      <td>25</td>\n",
              "      <td>121.79500</td>\n",
              "      <td>120.65533</td>\n",
              "      <td>121.33866</td>\n",
              "      <td>118.67466</td>\n",
              "      <td>108.58483</td>\n",
              "      <td>125.45500</td>\n",
              "      <td>123.65499</td>\n",
              "    </tr>\n",
              "    <tr>\n",
              "      <th>2013-10-09</th>\n",
              "      <td>124.04900</td>\n",
              "      <td>25</td>\n",
              "      <td>123.03300</td>\n",
              "      <td>121.79500</td>\n",
              "      <td>120.65533</td>\n",
              "      <td>121.33866</td>\n",
              "      <td>118.67466</td>\n",
              "      <td>108.58483</td>\n",
              "      <td>125.45500</td>\n",
              "    </tr>\n",
              "    <tr>\n",
              "      <th>2013-10-10</th>\n",
              "      <td>125.96116</td>\n",
              "      <td>25</td>\n",
              "      <td>124.04900</td>\n",
              "      <td>123.03300</td>\n",
              "      <td>121.79500</td>\n",
              "      <td>120.65533</td>\n",
              "      <td>121.33866</td>\n",
              "      <td>118.67466</td>\n",
              "      <td>108.58483</td>\n",
              "    </tr>\n",
              "  </tbody>\n",
              "</table>\n",
              "</div>\n",
              "      <button class=\"colab-df-convert\" onclick=\"convertToInteractive('df-e89dafec-c06b-4fbe-b866-51c7aea6be20')\"\n",
              "              title=\"Convert this dataframe to an interactive table.\"\n",
              "              style=\"display:none;\">\n",
              "        \n",
              "  <svg xmlns=\"http://www.w3.org/2000/svg\" height=\"24px\"viewBox=\"0 0 24 24\"\n",
              "       width=\"24px\">\n",
              "    <path d=\"M0 0h24v24H0V0z\" fill=\"none\"/>\n",
              "    <path d=\"M18.56 5.44l.94 2.06.94-2.06 2.06-.94-2.06-.94-.94-2.06-.94 2.06-2.06.94zm-11 1L8.5 8.5l.94-2.06 2.06-.94-2.06-.94L8.5 2.5l-.94 2.06-2.06.94zm10 10l.94 2.06.94-2.06 2.06-.94-2.06-.94-.94-2.06-.94 2.06-2.06.94z\"/><path d=\"M17.41 7.96l-1.37-1.37c-.4-.4-.92-.59-1.43-.59-.52 0-1.04.2-1.43.59L10.3 9.45l-7.72 7.72c-.78.78-.78 2.05 0 2.83L4 21.41c.39.39.9.59 1.41.59.51 0 1.02-.2 1.41-.59l7.78-7.78 2.81-2.81c.8-.78.8-2.07 0-2.86zM5.41 20L4 18.59l7.72-7.72 1.47 1.35L5.41 20z\"/>\n",
              "  </svg>\n",
              "      </button>\n",
              "      \n",
              "  <style>\n",
              "    .colab-df-container {\n",
              "      display:flex;\n",
              "      flex-wrap:wrap;\n",
              "      gap: 12px;\n",
              "    }\n",
              "\n",
              "    .colab-df-convert {\n",
              "      background-color: #E8F0FE;\n",
              "      border: none;\n",
              "      border-radius: 50%;\n",
              "      cursor: pointer;\n",
              "      display: none;\n",
              "      fill: #1967D2;\n",
              "      height: 32px;\n",
              "      padding: 0 0 0 0;\n",
              "      width: 32px;\n",
              "    }\n",
              "\n",
              "    .colab-df-convert:hover {\n",
              "      background-color: #E2EBFA;\n",
              "      box-shadow: 0px 1px 2px rgba(60, 64, 67, 0.3), 0px 1px 3px 1px rgba(60, 64, 67, 0.15);\n",
              "      fill: #174EA6;\n",
              "    }\n",
              "\n",
              "    [theme=dark] .colab-df-convert {\n",
              "      background-color: #3B4455;\n",
              "      fill: #D2E3FC;\n",
              "    }\n",
              "\n",
              "    [theme=dark] .colab-df-convert:hover {\n",
              "      background-color: #434B5C;\n",
              "      box-shadow: 0px 1px 3px 1px rgba(0, 0, 0, 0.15);\n",
              "      filter: drop-shadow(0px 1px 2px rgba(0, 0, 0, 0.3));\n",
              "      fill: #FFFFFF;\n",
              "    }\n",
              "  </style>\n",
              "\n",
              "      <script>\n",
              "        const buttonEl =\n",
              "          document.querySelector('#df-e89dafec-c06b-4fbe-b866-51c7aea6be20 button.colab-df-convert');\n",
              "        buttonEl.style.display =\n",
              "          google.colab.kernel.accessAllowed ? 'block' : 'none';\n",
              "\n",
              "        async function convertToInteractive(key) {\n",
              "          const element = document.querySelector('#df-e89dafec-c06b-4fbe-b866-51c7aea6be20');\n",
              "          const dataTable =\n",
              "            await google.colab.kernel.invokeFunction('convertToInteractive',\n",
              "                                                     [key], {});\n",
              "          if (!dataTable) return;\n",
              "\n",
              "          const docLinkHtml = 'Like what you see? Visit the ' +\n",
              "            '<a target=\"_blank\" href=https://colab.research.google.com/notebooks/data_table.ipynb>data table notebook</a>'\n",
              "            + ' to learn more about interactive tables.';\n",
              "          element.innerHTML = '';\n",
              "          dataTable['output_type'] = 'display_data';\n",
              "          await google.colab.output.renderOutput(dataTable, element);\n",
              "          const docLink = document.createElement('div');\n",
              "          docLink.innerHTML = docLinkHtml;\n",
              "          element.appendChild(docLink);\n",
              "        }\n",
              "      </script>\n",
              "    </div>\n",
              "  </div>\n",
              "  "
            ]
          },
          "metadata": {},
          "execution_count": 91
        }
      ],
      "source": [
        "from pandas._libs.tslibs import period\n",
        "for i in range(WINDOW):\n",
        "  bitcoin_prices_windowed[f\"price{i+1}\"]=bitcoin_prices_windowed[\"price\"].shift(periods=i+1)\n",
        "bitcoin_prices_windowed.head(10)"
      ]
    },
    {
      "cell_type": "code",
      "execution_count": 92,
      "metadata": {
        "id": "OpcQzmj0lTvB"
      },
      "outputs": [],
      "source": [
        "X=bitcoin_prices_windowed.dropna().drop(\"price\",axis=1).astype(np.float32)\n",
        "Y=bitcoin_prices_windowed.dropna()[\"price\"].astype(np.float32)"
      ]
    },
    {
      "cell_type": "code",
      "execution_count": 93,
      "metadata": {
        "id": "37HZk9yEmLOG",
        "colab": {
          "base_uri": "https://localhost:8080/",
          "height": 238
        },
        "outputId": "a81383c7-b806-400c-e48e-2813636b5e63"
      },
      "outputs": [
        {
          "output_type": "execute_result",
          "data": {
            "text/plain": [
              "            block_reward      price1      price2      price3      price4  \\\n",
              "Date                                                                       \n",
              "2013-10-08          25.0  121.794998  120.655327  121.338661  118.674660   \n",
              "2013-10-09          25.0  123.032997  121.794998  120.655327  121.338661   \n",
              "2013-10-10          25.0  124.049004  123.032997  121.794998  120.655327   \n",
              "2013-10-11          25.0  125.961159  124.049004  123.032997  121.794998   \n",
              "2013-10-12          25.0  125.279663  125.961159  124.049004  123.032997   \n",
              "\n",
              "                price5      price6      price7  \n",
              "Date                                            \n",
              "2013-10-08  108.584831  125.455002  123.654991  \n",
              "2013-10-09  118.674660  108.584831  125.455002  \n",
              "2013-10-10  121.338661  118.674660  108.584831  \n",
              "2013-10-11  120.655327  121.338661  118.674660  \n",
              "2013-10-12  121.794998  120.655327  121.338661  "
            ],
            "text/html": [
              "\n",
              "  <div id=\"df-85aca678-5d9b-412c-b84d-02144630e4f7\">\n",
              "    <div class=\"colab-df-container\">\n",
              "      <div>\n",
              "<style scoped>\n",
              "    .dataframe tbody tr th:only-of-type {\n",
              "        vertical-align: middle;\n",
              "    }\n",
              "\n",
              "    .dataframe tbody tr th {\n",
              "        vertical-align: top;\n",
              "    }\n",
              "\n",
              "    .dataframe thead th {\n",
              "        text-align: right;\n",
              "    }\n",
              "</style>\n",
              "<table border=\"1\" class=\"dataframe\">\n",
              "  <thead>\n",
              "    <tr style=\"text-align: right;\">\n",
              "      <th></th>\n",
              "      <th>block_reward</th>\n",
              "      <th>price1</th>\n",
              "      <th>price2</th>\n",
              "      <th>price3</th>\n",
              "      <th>price4</th>\n",
              "      <th>price5</th>\n",
              "      <th>price6</th>\n",
              "      <th>price7</th>\n",
              "    </tr>\n",
              "    <tr>\n",
              "      <th>Date</th>\n",
              "      <th></th>\n",
              "      <th></th>\n",
              "      <th></th>\n",
              "      <th></th>\n",
              "      <th></th>\n",
              "      <th></th>\n",
              "      <th></th>\n",
              "      <th></th>\n",
              "    </tr>\n",
              "  </thead>\n",
              "  <tbody>\n",
              "    <tr>\n",
              "      <th>2013-10-08</th>\n",
              "      <td>25.0</td>\n",
              "      <td>121.794998</td>\n",
              "      <td>120.655327</td>\n",
              "      <td>121.338661</td>\n",
              "      <td>118.674660</td>\n",
              "      <td>108.584831</td>\n",
              "      <td>125.455002</td>\n",
              "      <td>123.654991</td>\n",
              "    </tr>\n",
              "    <tr>\n",
              "      <th>2013-10-09</th>\n",
              "      <td>25.0</td>\n",
              "      <td>123.032997</td>\n",
              "      <td>121.794998</td>\n",
              "      <td>120.655327</td>\n",
              "      <td>121.338661</td>\n",
              "      <td>118.674660</td>\n",
              "      <td>108.584831</td>\n",
              "      <td>125.455002</td>\n",
              "    </tr>\n",
              "    <tr>\n",
              "      <th>2013-10-10</th>\n",
              "      <td>25.0</td>\n",
              "      <td>124.049004</td>\n",
              "      <td>123.032997</td>\n",
              "      <td>121.794998</td>\n",
              "      <td>120.655327</td>\n",
              "      <td>121.338661</td>\n",
              "      <td>118.674660</td>\n",
              "      <td>108.584831</td>\n",
              "    </tr>\n",
              "    <tr>\n",
              "      <th>2013-10-11</th>\n",
              "      <td>25.0</td>\n",
              "      <td>125.961159</td>\n",
              "      <td>124.049004</td>\n",
              "      <td>123.032997</td>\n",
              "      <td>121.794998</td>\n",
              "      <td>120.655327</td>\n",
              "      <td>121.338661</td>\n",
              "      <td>118.674660</td>\n",
              "    </tr>\n",
              "    <tr>\n",
              "      <th>2013-10-12</th>\n",
              "      <td>25.0</td>\n",
              "      <td>125.279663</td>\n",
              "      <td>125.961159</td>\n",
              "      <td>124.049004</td>\n",
              "      <td>123.032997</td>\n",
              "      <td>121.794998</td>\n",
              "      <td>120.655327</td>\n",
              "      <td>121.338661</td>\n",
              "    </tr>\n",
              "  </tbody>\n",
              "</table>\n",
              "</div>\n",
              "      <button class=\"colab-df-convert\" onclick=\"convertToInteractive('df-85aca678-5d9b-412c-b84d-02144630e4f7')\"\n",
              "              title=\"Convert this dataframe to an interactive table.\"\n",
              "              style=\"display:none;\">\n",
              "        \n",
              "  <svg xmlns=\"http://www.w3.org/2000/svg\" height=\"24px\"viewBox=\"0 0 24 24\"\n",
              "       width=\"24px\">\n",
              "    <path d=\"M0 0h24v24H0V0z\" fill=\"none\"/>\n",
              "    <path d=\"M18.56 5.44l.94 2.06.94-2.06 2.06-.94-2.06-.94-.94-2.06-.94 2.06-2.06.94zm-11 1L8.5 8.5l.94-2.06 2.06-.94-2.06-.94L8.5 2.5l-.94 2.06-2.06.94zm10 10l.94 2.06.94-2.06 2.06-.94-2.06-.94-.94-2.06-.94 2.06-2.06.94z\"/><path d=\"M17.41 7.96l-1.37-1.37c-.4-.4-.92-.59-1.43-.59-.52 0-1.04.2-1.43.59L10.3 9.45l-7.72 7.72c-.78.78-.78 2.05 0 2.83L4 21.41c.39.39.9.59 1.41.59.51 0 1.02-.2 1.41-.59l7.78-7.78 2.81-2.81c.8-.78.8-2.07 0-2.86zM5.41 20L4 18.59l7.72-7.72 1.47 1.35L5.41 20z\"/>\n",
              "  </svg>\n",
              "      </button>\n",
              "      \n",
              "  <style>\n",
              "    .colab-df-container {\n",
              "      display:flex;\n",
              "      flex-wrap:wrap;\n",
              "      gap: 12px;\n",
              "    }\n",
              "\n",
              "    .colab-df-convert {\n",
              "      background-color: #E8F0FE;\n",
              "      border: none;\n",
              "      border-radius: 50%;\n",
              "      cursor: pointer;\n",
              "      display: none;\n",
              "      fill: #1967D2;\n",
              "      height: 32px;\n",
              "      padding: 0 0 0 0;\n",
              "      width: 32px;\n",
              "    }\n",
              "\n",
              "    .colab-df-convert:hover {\n",
              "      background-color: #E2EBFA;\n",
              "      box-shadow: 0px 1px 2px rgba(60, 64, 67, 0.3), 0px 1px 3px 1px rgba(60, 64, 67, 0.15);\n",
              "      fill: #174EA6;\n",
              "    }\n",
              "\n",
              "    [theme=dark] .colab-df-convert {\n",
              "      background-color: #3B4455;\n",
              "      fill: #D2E3FC;\n",
              "    }\n",
              "\n",
              "    [theme=dark] .colab-df-convert:hover {\n",
              "      background-color: #434B5C;\n",
              "      box-shadow: 0px 1px 3px 1px rgba(0, 0, 0, 0.15);\n",
              "      filter: drop-shadow(0px 1px 2px rgba(0, 0, 0, 0.3));\n",
              "      fill: #FFFFFF;\n",
              "    }\n",
              "  </style>\n",
              "\n",
              "      <script>\n",
              "        const buttonEl =\n",
              "          document.querySelector('#df-85aca678-5d9b-412c-b84d-02144630e4f7 button.colab-df-convert');\n",
              "        buttonEl.style.display =\n",
              "          google.colab.kernel.accessAllowed ? 'block' : 'none';\n",
              "\n",
              "        async function convertToInteractive(key) {\n",
              "          const element = document.querySelector('#df-85aca678-5d9b-412c-b84d-02144630e4f7');\n",
              "          const dataTable =\n",
              "            await google.colab.kernel.invokeFunction('convertToInteractive',\n",
              "                                                     [key], {});\n",
              "          if (!dataTable) return;\n",
              "\n",
              "          const docLinkHtml = 'Like what you see? Visit the ' +\n",
              "            '<a target=\"_blank\" href=https://colab.research.google.com/notebooks/data_table.ipynb>data table notebook</a>'\n",
              "            + ' to learn more about interactive tables.';\n",
              "          element.innerHTML = '';\n",
              "          dataTable['output_type'] = 'display_data';\n",
              "          await google.colab.output.renderOutput(dataTable, element);\n",
              "          const docLink = document.createElement('div');\n",
              "          docLink.innerHTML = docLinkHtml;\n",
              "          element.appendChild(docLink);\n",
              "        }\n",
              "      </script>\n",
              "    </div>\n",
              "  </div>\n",
              "  "
            ]
          },
          "metadata": {},
          "execution_count": 93
        }
      ],
      "source": [
        "X.head()"
      ]
    },
    {
      "cell_type": "code",
      "execution_count": 94,
      "metadata": {
        "id": "Gytbd3VZmaX0",
        "colab": {
          "base_uri": "https://localhost:8080/"
        },
        "outputId": "58a9be34-1906-44c3-d4b5-fdce78741297"
      },
      "outputs": [
        {
          "output_type": "execute_result",
          "data": {
            "text/plain": [
              "Date\n",
              "2013-10-08    123.032997\n",
              "2013-10-09    124.049004\n",
              "2013-10-10    125.961159\n",
              "2013-10-11    125.279663\n",
              "2013-10-12    125.927498\n",
              "Name: price, dtype: float32"
            ]
          },
          "metadata": {},
          "execution_count": 94
        }
      ],
      "source": [
        "Y.head()"
      ]
    },
    {
      "cell_type": "code",
      "execution_count": 96,
      "metadata": {
        "id": "fdlBPqZ4mcR0",
        "colab": {
          "base_uri": "https://localhost:8080/"
        },
        "outputId": "5e6c6360-046c-4e98-daa7-24eb82b87f73"
      },
      "outputs": [
        {
          "output_type": "execute_result",
          "data": {
            "text/plain": [
              "(2224, 2224, 556, 556)"
            ]
          },
          "metadata": {},
          "execution_count": 96
        }
      ],
      "source": [
        "\n",
        "# Make train and test sets\n",
        "split_size = int(len(X) * 0.8)\n",
        "X_train, y_train = X[:split_size], Y[:split_size]\n",
        "X_test, y_test = X[split_size:], Y[split_size:]\n",
        "len(X_train), len(y_train), len(X_test), len(y_test)"
      ]
    },
    {
      "cell_type": "markdown",
      "metadata": {
        "id": "i15j2FqMmrcN"
      },
      "source": [
        "###**Model 6: Dense (multivariate time series)**"
      ]
    },
    {
      "cell_type": "code",
      "execution_count": 97,
      "metadata": {
        "id": "AV5fyJqbnReG",
        "colab": {
          "base_uri": "https://localhost:8080/"
        },
        "outputId": "9102caa9-8b25-41de-cf9d-545077653488"
      },
      "outputs": [
        {
          "output_type": "stream",
          "name": "stdout",
          "text": [
            "Epoch 1/100\n",
            "18/18 [==============================] - 2s 47ms/step - loss: 1261.5132 - val_loss: 1093.4198\n",
            "Epoch 2/100\n",
            "18/18 [==============================] - 1s 38ms/step - loss: 300.7934 - val_loss: 992.4856\n",
            "Epoch 3/100\n",
            "18/18 [==============================] - 0s 5ms/step - loss: 201.2206 - val_loss: 1382.5742\n",
            "Epoch 4/100\n",
            "18/18 [==============================] - 1s 36ms/step - loss: 179.0082 - val_loss: 907.2707\n",
            "Epoch 5/100\n",
            "18/18 [==============================] - 1s 37ms/step - loss: 157.9698 - val_loss: 870.4998\n",
            "Epoch 6/100\n",
            "18/18 [==============================] - 0s 6ms/step - loss: 150.6700 - val_loss: 870.7584\n",
            "Epoch 7/100\n",
            "18/18 [==============================] - 1s 46ms/step - loss: 144.7043 - val_loss: 820.3788\n",
            "Epoch 8/100\n",
            "18/18 [==============================] - 1s 53ms/step - loss: 135.2808 - val_loss: 727.7751\n",
            "Epoch 9/100\n",
            "18/18 [==============================] - 0s 8ms/step - loss: 130.6594 - val_loss: 794.5684\n",
            "Epoch 10/100\n",
            "18/18 [==============================] - 0s 8ms/step - loss: 138.2420 - val_loss: 735.8315\n",
            "Epoch 11/100\n",
            "18/18 [==============================] - 0s 8ms/step - loss: 130.9393 - val_loss: 790.1402\n",
            "Epoch 12/100\n",
            "18/18 [==============================] - 1s 47ms/step - loss: 131.1562 - val_loss: 702.0435\n",
            "Epoch 13/100\n",
            "18/18 [==============================] - 0s 6ms/step - loss: 124.8669 - val_loss: 823.1865\n",
            "Epoch 14/100\n",
            "18/18 [==============================] - 0s 5ms/step - loss: 130.0880 - val_loss: 844.5187\n",
            "Epoch 15/100\n",
            "18/18 [==============================] - 1s 39ms/step - loss: 131.4250 - val_loss: 686.4399\n",
            "Epoch 16/100\n",
            "18/18 [==============================] - 0s 6ms/step - loss: 125.8183 - val_loss: 729.3397\n",
            "Epoch 17/100\n",
            "18/18 [==============================] - 1s 38ms/step - loss: 118.2463 - val_loss: 626.5264\n",
            "Epoch 18/100\n",
            "18/18 [==============================] - 1s 37ms/step - loss: 120.7379 - val_loss: 626.0255\n",
            "Epoch 19/100\n",
            "18/18 [==============================] - 1s 36ms/step - loss: 116.2502 - val_loss: 606.4731\n",
            "Epoch 20/100\n",
            "18/18 [==============================] - 0s 5ms/step - loss: 114.1309 - val_loss: 609.2023\n",
            "Epoch 21/100\n",
            "18/18 [==============================] - 0s 5ms/step - loss: 128.9087 - val_loss: 666.3848\n",
            "Epoch 22/100\n",
            "18/18 [==============================] - 1s 57ms/step - loss: 119.0117 - val_loss: 592.7551\n",
            "Epoch 23/100\n",
            "18/18 [==============================] - 0s 5ms/step - loss: 110.1946 - val_loss: 614.1459\n",
            "Epoch 24/100\n",
            "18/18 [==============================] - 1s 37ms/step - loss: 112.1882 - val_loss: 586.6006\n",
            "Epoch 25/100\n",
            "18/18 [==============================] - 0s 5ms/step - loss: 115.4706 - val_loss: 586.6718\n",
            "Epoch 26/100\n",
            "18/18 [==============================] - 0s 6ms/step - loss: 110.1157 - val_loss: 605.3087\n",
            "Epoch 27/100\n",
            "18/18 [==============================] - 0s 6ms/step - loss: 108.0934 - val_loss: 595.1143\n",
            "Epoch 28/100\n",
            "18/18 [==============================] - 1s 38ms/step - loss: 108.6511 - val_loss: 577.3828\n",
            "Epoch 29/100\n",
            "18/18 [==============================] - 0s 6ms/step - loss: 108.4472 - val_loss: 660.0719\n",
            "Epoch 30/100\n",
            "18/18 [==============================] - 0s 6ms/step - loss: 123.2993 - val_loss: 591.6877\n",
            "Epoch 31/100\n",
            "18/18 [==============================] - 1s 37ms/step - loss: 113.4567 - val_loss: 574.2582\n",
            "Epoch 32/100\n",
            "18/18 [==============================] - 0s 6ms/step - loss: 108.5879 - val_loss: 586.5239\n",
            "Epoch 33/100\n",
            "18/18 [==============================] - 0s 5ms/step - loss: 107.1345 - val_loss: 575.0732\n",
            "Epoch 34/100\n",
            "18/18 [==============================] - 0s 5ms/step - loss: 107.6909 - val_loss: 710.0491\n",
            "Epoch 35/100\n",
            "18/18 [==============================] - 0s 6ms/step - loss: 111.8039 - val_loss: 701.8099\n",
            "Epoch 36/100\n",
            "18/18 [==============================] - 0s 6ms/step - loss: 120.3026 - val_loss: 618.9606\n",
            "Epoch 37/100\n",
            "18/18 [==============================] - 0s 6ms/step - loss: 108.7246 - val_loss: 585.6581\n",
            "Epoch 38/100\n",
            "18/18 [==============================] - 0s 6ms/step - loss: 108.2472 - val_loss: 655.3981\n",
            "Epoch 39/100\n",
            "18/18 [==============================] - 0s 7ms/step - loss: 115.9649 - val_loss: 604.7162\n",
            "Epoch 40/100\n",
            "18/18 [==============================] - 0s 5ms/step - loss: 107.5265 - val_loss: 586.8127\n",
            "Epoch 41/100\n",
            "18/18 [==============================] - 0s 5ms/step - loss: 106.8717 - val_loss: 643.3583\n",
            "Epoch 42/100\n",
            "18/18 [==============================] - 0s 6ms/step - loss: 111.6764 - val_loss: 590.5125\n",
            "Epoch 43/100\n",
            "18/18 [==============================] - 0s 5ms/step - loss: 107.5697 - val_loss: 650.5406\n",
            "Epoch 44/100\n",
            "18/18 [==============================] - 0s 6ms/step - loss: 108.5905 - val_loss: 574.5930\n",
            "Epoch 45/100\n",
            "18/18 [==============================] - 0s 6ms/step - loss: 107.4237 - val_loss: 626.4851\n",
            "Epoch 46/100\n",
            "18/18 [==============================] - 0s 5ms/step - loss: 112.9526 - val_loss: 824.1401\n",
            "Epoch 47/100\n",
            "18/18 [==============================] - 0s 5ms/step - loss: 125.5370 - val_loss: 583.4981\n",
            "Epoch 48/100\n",
            "18/18 [==============================] - 1s 36ms/step - loss: 109.5369 - val_loss: 570.9877\n",
            "Epoch 49/100\n",
            "18/18 [==============================] - 0s 5ms/step - loss: 108.8919 - val_loss: 638.0787\n",
            "Epoch 50/100\n",
            "18/18 [==============================] - 0s 5ms/step - loss: 116.4224 - val_loss: 684.6664\n",
            "Epoch 51/100\n",
            "18/18 [==============================] - 1s 36ms/step - loss: 116.9511 - val_loss: 568.5554\n",
            "Epoch 52/100\n",
            "18/18 [==============================] - 0s 9ms/step - loss: 109.3297 - val_loss: 657.6494\n",
            "Epoch 53/100\n",
            "18/18 [==============================] - 0s 8ms/step - loss: 112.2531 - val_loss: 618.9857\n",
            "Epoch 54/100\n",
            "18/18 [==============================] - 0s 10ms/step - loss: 110.7545 - val_loss: 662.1570\n",
            "Epoch 55/100\n",
            "18/18 [==============================] - 0s 8ms/step - loss: 116.5597 - val_loss: 631.6628\n",
            "Epoch 56/100\n",
            "18/18 [==============================] - 0s 8ms/step - loss: 114.5427 - val_loss: 890.6694\n",
            "Epoch 57/100\n",
            "18/18 [==============================] - 0s 8ms/step - loss: 117.5891 - val_loss: 699.1816\n",
            "Epoch 58/100\n",
            "18/18 [==============================] - 0s 8ms/step - loss: 105.8849 - val_loss: 576.4069\n",
            "Epoch 59/100\n",
            "18/18 [==============================] - 0s 8ms/step - loss: 104.0579 - val_loss: 582.7915\n",
            "Epoch 60/100\n",
            "18/18 [==============================] - 0s 9ms/step - loss: 104.7093 - val_loss: 590.8702\n",
            "Epoch 61/100\n",
            "18/18 [==============================] - 0s 8ms/step - loss: 114.6404 - val_loss: 586.2213\n",
            "Epoch 62/100\n",
            "18/18 [==============================] - 0s 7ms/step - loss: 105.5407 - val_loss: 571.3698\n",
            "Epoch 63/100\n",
            "18/18 [==============================] - 0s 8ms/step - loss: 104.1901 - val_loss: 573.8171\n",
            "Epoch 64/100\n",
            "18/18 [==============================] - 0s 8ms/step - loss: 108.0267 - val_loss: 583.2087\n",
            "Epoch 65/100\n",
            "18/18 [==============================] - 0s 8ms/step - loss: 105.8956 - val_loss: 587.2103\n",
            "Epoch 66/100\n",
            "18/18 [==============================] - 0s 8ms/step - loss: 107.4865 - val_loss: 572.5092\n",
            "Epoch 67/100\n",
            "18/18 [==============================] - 0s 8ms/step - loss: 106.4332 - val_loss: 617.9752\n",
            "Epoch 68/100\n",
            "18/18 [==============================] - 0s 9ms/step - loss: 105.4807 - val_loss: 597.3600\n",
            "Epoch 69/100\n",
            "18/18 [==============================] - 0s 8ms/step - loss: 105.2966 - val_loss: 705.5027\n",
            "Epoch 70/100\n",
            "18/18 [==============================] - 0s 5ms/step - loss: 123.6370 - val_loss: 649.3693\n",
            "Epoch 71/100\n",
            "18/18 [==============================] - 0s 5ms/step - loss: 111.5277 - val_loss: 569.2637\n",
            "Epoch 72/100\n",
            "18/18 [==============================] - 0s 5ms/step - loss: 112.0883 - val_loss: 622.9833\n",
            "Epoch 73/100\n",
            "18/18 [==============================] - 0s 5ms/step - loss: 106.5973 - val_loss: 568.8802\n",
            "Epoch 74/100\n",
            "18/18 [==============================] - 1s 38ms/step - loss: 104.3936 - val_loss: 567.4677\n",
            "Epoch 75/100\n",
            "18/18 [==============================] - 0s 5ms/step - loss: 108.2215 - val_loss: 568.2410\n",
            "Epoch 76/100\n",
            "18/18 [==============================] - 0s 6ms/step - loss: 110.1917 - val_loss: 690.9876\n",
            "Epoch 77/100\n",
            "18/18 [==============================] - 0s 5ms/step - loss: 116.0885 - val_loss: 574.6664\n",
            "Epoch 78/100\n",
            "18/18 [==============================] - 0s 6ms/step - loss: 111.3472 - val_loss: 638.6027\n",
            "Epoch 79/100\n",
            "18/18 [==============================] - 0s 6ms/step - loss: 106.9497 - val_loss: 704.1779\n",
            "Epoch 80/100\n",
            "18/18 [==============================] - 0s 5ms/step - loss: 117.4442 - val_loss: 621.3079\n",
            "Epoch 81/100\n",
            "18/18 [==============================] - 0s 5ms/step - loss: 104.4834 - val_loss: 600.6530\n",
            "Epoch 82/100\n",
            "18/18 [==============================] - 0s 5ms/step - loss: 123.5151 - val_loss: 625.7354\n",
            "Epoch 83/100\n",
            "18/18 [==============================] - 0s 5ms/step - loss: 121.8580 - val_loss: 861.3113\n",
            "Epoch 84/100\n",
            "18/18 [==============================] - 0s 5ms/step - loss: 122.7517 - val_loss: 570.3022\n",
            "Epoch 85/100\n",
            "18/18 [==============================] - 1s 37ms/step - loss: 107.7725 - val_loss: 566.7730\n",
            "Epoch 86/100\n",
            "18/18 [==============================] - 0s 5ms/step - loss: 105.6776 - val_loss: 603.4146\n",
            "Epoch 87/100\n",
            "18/18 [==============================] - 0s 5ms/step - loss: 106.8708 - val_loss: 616.3839\n",
            "Epoch 88/100\n",
            "18/18 [==============================] - 0s 5ms/step - loss: 111.9723 - val_loss: 576.4594\n",
            "Epoch 89/100\n",
            "18/18 [==============================] - 0s 5ms/step - loss: 105.4551 - val_loss: 626.3550\n",
            "Epoch 90/100\n",
            "18/18 [==============================] - 0s 5ms/step - loss: 106.3191 - val_loss: 569.1508\n",
            "Epoch 91/100\n",
            "18/18 [==============================] - 0s 6ms/step - loss: 105.5686 - val_loss: 578.2321\n",
            "Epoch 92/100\n",
            "18/18 [==============================] - 0s 6ms/step - loss: 111.2145 - val_loss: 697.6462\n",
            "Epoch 93/100\n",
            "18/18 [==============================] - 0s 6ms/step - loss: 105.7797 - val_loss: 570.4443\n",
            "Epoch 94/100\n",
            "18/18 [==============================] - 0s 5ms/step - loss: 104.4267 - val_loss: 576.5291\n",
            "Epoch 95/100\n",
            "18/18 [==============================] - 0s 5ms/step - loss: 104.2562 - val_loss: 571.1367\n",
            "Epoch 96/100\n",
            "18/18 [==============================] - 0s 5ms/step - loss: 108.0982 - val_loss: 568.2382\n",
            "Epoch 97/100\n",
            "18/18 [==============================] - 0s 4ms/step - loss: 104.2504 - val_loss: 582.2986\n",
            "Epoch 98/100\n",
            "18/18 [==============================] - 0s 5ms/step - loss: 105.7245 - val_loss: 572.1305\n",
            "Epoch 99/100\n",
            "18/18 [==============================] - 0s 6ms/step - loss: 108.9334 - val_loss: 610.2003\n",
            "Epoch 100/100\n",
            "18/18 [==============================] - 0s 5ms/step - loss: 115.9917 - val_loss: 587.0090\n"
          ]
        },
        {
          "output_type": "execute_result",
          "data": {
            "text/plain": [
              "<keras.callbacks.History at 0x7f92e83d3a60>"
            ]
          },
          "metadata": {},
          "execution_count": 97
        }
      ],
      "source": [
        "tf.random.set_seed(42)\n",
        "model_6=tf.keras.Sequential([\n",
        "    layers.Dense(128,activation=\"relu\"),\n",
        "    layers.Dense(128,activation=\"relu\"),\n",
        "    layers.Dense(HORIZON)\n",
        "],name=\"model_6_Dense_Multivariate\")\n",
        "\n",
        "# Compile\n",
        "model_6.compile(loss=\"mae\",\n",
        "                optimizer=tf.keras.optimizers.Adam())\n",
        "\n",
        "# Fit\n",
        "model_6.fit(X_train, y_train,\n",
        "            epochs=100,\n",
        "            batch_size=128,\n",
        "            verbose=1, # only print 1 line per epoch\n",
        "            validation_data=(X_test, y_test),\n",
        "            callbacks=[create_model_checkpoint(model_name=model_6.name)])"
      ]
    },
    {
      "cell_type": "code",
      "execution_count": 98,
      "metadata": {
        "id": "NpIFVhA9pfT3",
        "colab": {
          "base_uri": "https://localhost:8080/"
        },
        "outputId": "eae53858-8ed0-4bf0-fa13-b27af5f82cb8"
      },
      "outputs": [
        {
          "output_type": "stream",
          "name": "stdout",
          "text": [
            "18/18 [==============================] - 0s 2ms/step - loss: 587.0089\n"
          ]
        },
        {
          "output_type": "execute_result",
          "data": {
            "text/plain": [
              "587.0089111328125"
            ]
          },
          "metadata": {},
          "execution_count": 98
        }
      ],
      "source": [
        "model_6.evaluate(X_test, y_test)"
      ]
    },
    {
      "cell_type": "code",
      "execution_count": 99,
      "metadata": {
        "id": "BoUdaJOtqSs4",
        "colab": {
          "base_uri": "https://localhost:8080/"
        },
        "outputId": "fbc17f4a-54cb-4c90-c6c9-bc172a7d5f74"
      },
      "outputs": [
        {
          "output_type": "stream",
          "name": "stdout",
          "text": [
            "18/18 [==============================] - 0s 2ms/step - loss: 566.7731\n"
          ]
        },
        {
          "output_type": "execute_result",
          "data": {
            "text/plain": [
              "566.7730712890625"
            ]
          },
          "metadata": {},
          "execution_count": 99
        }
      ],
      "source": [
        "\n",
        "# Make sure best model is loaded and evaluate\n",
        "model_6 = tf.keras.models.load_model(\"model_experiments/model_6_Dense_Multivariate\")\n",
        "model_6.evaluate(X_test, y_test)"
      ]
    },
    {
      "cell_type": "code",
      "execution_count": 100,
      "metadata": {
        "id": "jC6IjEZ9p6ED",
        "colab": {
          "base_uri": "https://localhost:8080/"
        },
        "outputId": "dc4aba8e-19dc-4d8e-ff54-8592020bbfb7"
      },
      "outputs": [
        {
          "output_type": "stream",
          "name": "stdout",
          "text": [
            "18/18 [==============================] - 0s 2ms/step\n"
          ]
        },
        {
          "output_type": "execute_result",
          "data": {
            "text/plain": [
              "<tf.Tensor: shape=(10,), dtype=float32, numpy=\n",
              "array([8814.874, 8771.314, 9049.793, 8752.359, 8727.851, 8729.919,\n",
              "       8670.629, 8506.097, 8443.686, 8529.234], dtype=float32)>"
            ]
          },
          "metadata": {},
          "execution_count": 100
        }
      ],
      "source": [
        "\n",
        "# Make predictions on multivariate data\n",
        "model_6_preds = tf.squeeze(model_6.predict(X_test))\n",
        "model_6_preds[:10]\n",
        "     "
      ]
    },
    {
      "cell_type": "markdown",
      "metadata": {
        "id": "zWmUOZ6JqnSp"
      },
      "source": [
        "####**model_6_results**"
      ]
    },
    {
      "cell_type": "code",
      "execution_count": 101,
      "metadata": {
        "id": "o1LMW3IwqnSp",
        "colab": {
          "base_uri": "https://localhost:8080/"
        },
        "outputId": "8f418bd4-6d7a-433d-e089-dd9ced086fbf"
      },
      "outputs": [
        {
          "output_type": "execute_result",
          "data": {
            "text/plain": [
              "{'mae': 566.77313,\n",
              " 'mse': 1162005.5,\n",
              " 'rmse': 1077.9636,\n",
              " 'mape': 2.5521677,\n",
              " 'mase': 0.9956634}"
            ]
          },
          "metadata": {},
          "execution_count": 101
        }
      ],
      "source": [
        "model_6_results = evaluate_preds(y_true=tf.squeeze(test_labels),\n",
        "                                 y_pred=model_6_preds)\n",
        "model_6_results"
      ]
    },
    {
      "cell_type": "code",
      "execution_count": 102,
      "metadata": {
        "id": "7bgaY0icqsu3",
        "colab": {
          "base_uri": "https://localhost:8080/"
        },
        "outputId": "4b028967-9a53-403b-88a8-076a16f1ded9"
      },
      "outputs": [
        {
          "output_type": "execute_result",
          "data": {
            "text/plain": [
              "{'mae': 564.27405,\n",
              " 'mse': 1152947.1,\n",
              " 'rmse': 1073.7538,\n",
              " 'mape': 2.5334065,\n",
              " 'mase': 0.9912732}"
            ]
          },
          "metadata": {},
          "execution_count": 102
        }
      ],
      "source": [
        "model_1_results"
      ]
    },
    {
      "cell_type": "code",
      "execution_count": null,
      "metadata": {
        "id": "dIvcK41Zqx93"
      },
      "outputs": [],
      "source": []
    }
  ],
  "metadata": {
    "accelerator": "GPU",
    "colab": {
      "toc_visible": true,
      "provenance": []
    },
    "gpuClass": "standard",
    "kernelspec": {
      "display_name": "Python 3",
      "name": "python3"
    },
    "language_info": {
      "name": "python"
    }
  },
  "nbformat": 4,
  "nbformat_minor": 0
}